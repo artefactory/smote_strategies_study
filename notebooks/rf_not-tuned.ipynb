{
 "cells": [
  {
   "cell_type": "markdown",
   "id": "d23ef583",
   "metadata": {},
   "source": [
    "<center><h1  style=\"color:white; background-color:#000000; border-radius: 0px; padding:25px;\"> Theoretical study of SMOTE </h1></center>"
   ]
  },
  {
   "cell_type": "markdown",
   "id": "290db701",
   "metadata": {},
   "source": [
    "This notebook reproduces the numerical experiments.\n",
    "\n",
    "<ins>Experimented Datasets: </ins>\n",
    "- [Phoneme](#Phoneme)\n",
    "- Pima\n",
    "- Abalone\n",
    "- Haberman\n",
    "- Yeast\n",
    "- Wine\n",
    "- Vehicle\n",
    "- Bresat cancer Wisconsin\n",
    "- Ionosphere\n",
    "- CreditCard\n",
    "- MagicTel\n",
    "- California\n",
    "- House_16H\n",
    "\n",
    "ALl the sections of this notebook are indepent. user should run the following two introduction code chunk. Then one can choose a given data set section and run exclusivey the chunks code of the selected section. Fot the subsampled data sets version, all the seed and are given and the subsampling are each time included in the given section. However, the protocol is always pre-filed with the smalles (most undersampled) version of the dat set. On can try other subsampled data sets by changing the protocol data sets used."
   ]
  },
  {
   "cell_type": "code",
   "execution_count": null,
   "id": "d3b46d90",
   "metadata": {},
   "outputs": [],
   "source": [
    "import os\n",
    "import sys\n",
    "sys.path.insert(1, os.path.abspath(os.path.join(os.getcwd(), os.pardir)))\n",
    "from pathlib import Path\n",
    "\n",
    "\n",
    "#from sklearn.ensemble import RandomForestClassifier \n",
    "from sklearn.model_selection import GridSearchCV, StratifiedKFold\n",
    "from sklearn.metrics import precision_score, recall_score, roc_auc_score\n",
    "from imblearn.under_sampling import RandomUnderSampler,NearMiss\n",
    "from imblearn.over_sampling import RandomOverSampler, SMOTE, BorderlineSMOTE\n",
    "\n",
    "\n",
    "from oversampling_strategies.oversampling_strategies import MGS, NoSampling, CVSmoteModel,CtganSampler,ForesDiffSampler\n",
    "\n",
    "from validation.classif_experiments import run_eval, subsample_to_ratio_indices,read_subsampling_indices, compute_metrics_several_protocols"
   ]
  },
  {
   "cell_type": "code",
   "execution_count": null,
   "id": "0e45ee75-bdac-46f9-9609-a1755feb41f9",
   "metadata": {},
   "outputs": [],
   "source": [
    "from imblearn.ensemble import BalancedBaggingClassifier"
   ]
  },
  {
   "cell_type": "code",
   "execution_count": null,
   "id": "7fdb10f5-366d-49c3-b6d0-3cffa8a1fd9a",
   "metadata": {},
   "outputs": [],
   "source": [
    "#import lightgbm as lgb\n",
    "from sklearn.ensemble import RandomForestClassifier"
   ]
  },
  {
   "cell_type": "code",
   "execution_count": null,
   "id": "aa869e32",
   "metadata": {},
   "outputs": [],
   "source": [
    "output_dir_path_lgbm =  \"../saved_experiments/rf_not_tuned\" ## Fill it\n",
    "Path(output_dir_path_lgbm).mkdir(parents=True, exist_ok=True)\n",
    "output_dir_path_lgbm"
   ]
  },
  {
   "cell_type": "code",
   "execution_count": null,
   "id": "63c43f9f-0544-4f82-8ea8-2e867b0bb1d5",
   "metadata": {},
   "outputs": [],
   "source": [
    "output_dir_path_lgbm"
   ]
  },
  {
   "cell_type": "markdown",
   "id": "45bf2347",
   "metadata": {},
   "source": [
    "<center><h1  style=\"color:white; background-color:#808b96; border-radius: 10px; padding:15px;\" name='Phoneme'> Phoneme</h1></center>\n",
    "\n",
    "## <a name='Phoneme'></a>"
   ]
  },
  {
   "cell_type": "markdown",
   "id": "7f1e2b43",
   "metadata": {},
   "source": [
    "## Run protocol :"
   ]
  },
  {
   "cell_type": "code",
   "execution_count": null,
   "id": "33f7c3c1",
   "metadata": {},
   "outputs": [],
   "source": [
    "from data.data import load_phoneme_data\n",
    "X_phoneme, y_phoneme = load_phoneme_data()"
   ]
  },
  {
   "cell_type": "code",
   "execution_count": null,
   "id": "9a4035ae-5dae-45ea-9c46-c521e5eaf5e3",
   "metadata": {},
   "outputs": [],
   "source": [
    "depth_max = None"
   ]
  },
  {
   "cell_type": "code",
   "execution_count": null,
   "id": "c52071a4-d5db-4701-85f3-a9e3480d1b2c",
   "metadata": {},
   "outputs": [],
   "source": [
    "smote_bagging = BalancedBaggingClassifier(sampler=SMOTE(),random_state=0)\n",
    "mgs_bagging = BalancedBaggingClassifier(sampler=MGS(K=6,random_state=0),random_state=0)\n",
    "#smote_boost = SMOTEBoostClassifier(random_state=0)"
   ]
  },
  {
   "cell_type": "code",
   "execution_count": null,
   "id": "af72a890-bef9-4ade-8026-ce85de57639c",
   "metadata": {},
   "outputs": [],
   "source": [
    "lgb_model = RandomForestClassifier(n_estimators=100,criterion='gini',n_jobs=5,max_depth=depth_max)\n",
    "balanced_lgb_model =  RandomForestClassifier(n_estimators=100,criterion='gini',class_weight='balanced',n_jobs=5,max_depth=depth_max)\n",
    "\n",
    "splitter_stratified_cv = StratifiedKFold(n_splits=5,shuffle=True,random_state=0)\n",
    "CVSmotelgb = CVSmoteModel(\n",
    "    splitter=splitter_stratified_cv,\n",
    "    model=RandomForestClassifier(n_estimators=100,criterion='gini',n_jobs=5,max_depth=depth_max),\n",
    "    list_k_max=15,list_k_step=1)"
   ]
  },
  {
   "cell_type": "code",
   "execution_count": null,
   "id": "cf2d1b20-3edf-4be3-a49c-b2fe17461a09",
   "metadata": {
    "scrolled": true
   },
   "outputs": [],
   "source": [
    "output_dir_path =  \"/home/abdoulaye_sakho/S1/th_smote/smote_strategies_study/saved_experiments_2025_v2/not_tuned/res_phoneme/original\" \n",
    "Path(output_dir_path).mkdir(parents=True, exist_ok=True)\n",
    "\n",
    "init_name_file = '2024-07-08-lgb-tuned'\n",
    "for i in range(20):\n",
    "    list_oversampling_and_params = [\n",
    "    ('None', NoSampling(), {}, lgb_model),\n",
    "    ('c_weight', NoSampling(), {}, balanced_lgb_model),\n",
    "    ('RUS', RandomUnderSampler(sampling_strategy=\"majority\",replacement=False,random_state=i),{}, lgb_model),\n",
    "    ('ROS',  RandomOverSampler(sampling_strategy=\"minority\",random_state=i),{}, lgb_model),\n",
    "    ('NearMiss1', NearMiss(sampling_strategy=\"majority\", version=1),{}, lgb_model),\n",
    "    ('BorderlineS_1', BorderlineSMOTE(sampling_strategy=\"minority\", k_neighbors=5, kind=\"borderline-1\",random_state=i),{}, lgb_model),\n",
    "    ('BorderlineS_2',BorderlineSMOTE(sampling_strategy=\"minority\", k_neighbors=5, kind=\"borderline-2\",random_state=i),{}, lgb_model),\n",
    "    ('cv_smote', NoSampling(),{}, CVSmotelgb),\n",
    "    ('SMOTE',SMOTE(sampling_strategy=\"minority\",random_state=i),{},lgb_model),\n",
    "    ('MGS',MGS(K=6,random_state=i),{},lgb_model),\n",
    "    ('CTGAN', CtganSampler(epochs=10,generator_lr=2e-4,discriminator_lr=2e-4,random_state=i), {}, lgb_model),\n",
    "    ('ForestDiff', ForesDiffSampler(random_state=i), {}, lgb_model),\n",
    "    ]\n",
    "    splitter_stratified = StratifiedKFold(n_splits=5,shuffle=True,random_state=100+i)\n",
    "    name_file = init_name_file + str(i) +'.npy'\n",
    "    run_eval(output_dir=output_dir_path,name_file=name_file,X=X_phoneme,y=y_phoneme,\n",
    "             list_oversampling_and_params=list_oversampling_and_params,\n",
    "             splitter=splitter_stratified)"
   ]
  },
  {
   "cell_type": "code",
   "execution_count": null,
   "id": "a2ae2cfb-63bc-4121-af9a-f1b60730b421",
   "metadata": {},
   "outputs": [],
   "source": [
    "output_dir_path =  \"/home/abdoulaye_sakho/S1/th_smote/smote_strategies_study/saved_experiments_2025_v2/not_tuned/res_phoneme/subsample_to_20/\" \n",
    "Path(output_dir_path).mkdir(parents=True, exist_ok=True)\n",
    "X_phoneme_20,y_phoneme_20 = read_subsampling_indices(X=X_phoneme,y=y_phoneme, dir_subsampling=output_dir_path_lgbm,\n",
    "                                                   name_subsampling_file='phoneme_sub_original_to_20', get_indexes=False)\n",
    "\n",
    "init_name_file = '2024-07-08-lgb-tuned'\n",
    "for i in range(20):\n",
    "    list_oversampling_and_params = [\n",
    "    ('None', NoSampling(), {}, lgb_model),\n",
    "    ('c_weight', NoSampling(), {}, balanced_lgb_model),\n",
    "    ('RUS', RandomUnderSampler(sampling_strategy=\"majority\",replacement=False,random_state=i),{}, lgb_model),\n",
    "    ('ROS',  RandomOverSampler(sampling_strategy=\"minority\",random_state=i),{}, lgb_model),\n",
    "    ('NearMiss1', NearMiss(sampling_strategy=\"majority\", version=1),{}, lgb_model),\n",
    "    ('BorderlineS_1', BorderlineSMOTE(sampling_strategy=\"minority\", k_neighbors=5, kind=\"borderline-1\",random_state=i),{}, lgb_model),\n",
    "    ('BorderlineS_2',BorderlineSMOTE(sampling_strategy=\"minority\", k_neighbors=5, kind=\"borderline-2\",random_state=i),{}, lgb_model),\n",
    "    ('cv_smote', NoSampling(),{}, CVSmotelgb),\n",
    "    ('SMOTE',SMOTE(sampling_strategy=\"minority\",random_state=i),{},lgb_model),\n",
    "    ('MGS',MGS(K=6,random_state=i),{},lgb_model),\n",
    "    ('CTGAN', CtganSampler(epochs=10,generator_lr=2e-4,discriminator_lr=2e-4,random_state=i), {}, lgb_model),\n",
    "    ('ForestDiff', ForesDiffSampler(random_state=i), {}, lgb_model),\n",
    "    ]\n",
    "    splitter_stratified = StratifiedKFold(n_splits=5,shuffle=True,random_state=100+i)\n",
    "    name_file = init_name_file + str(i) +'.npy'\n",
    "    run_eval(output_dir=output_dir_path,name_file=name_file,X=X_phoneme_20,y=y_phoneme_20,\n",
    "             list_oversampling_and_params=list_oversampling_and_params,\n",
    "             splitter=splitter_stratified)"
   ]
  },
  {
   "cell_type": "code",
   "execution_count": null,
   "id": "0cc0a118-53fe-43e2-bda4-aa7107722306",
   "metadata": {},
   "outputs": [],
   "source": [
    "output_dir_path =  \"/home/abdoulaye_sakho/S1/th_smote/smote_strategies_study/saved_experiments_2025_v2/not_tuned/res_phoneme/subsample_to_10/\" \n",
    "Path(output_dir_path).mkdir(parents=True, exist_ok=True)\n",
    "X_phoneme_10,y_phoneme_10 = read_subsampling_indices(X=X_phoneme,y=y_phoneme, dir_subsampling=output_dir_path_lgbm,\n",
    "                                                   name_subsampling_file='phoneme_sub_20_to_10', get_indexes=False)\n",
    "\n",
    "init_name_file = '2024-07-08-lgb-tuned'\n",
    "for i in range(20):\n",
    "    list_oversampling_and_params = [\n",
    "    ('None', NoSampling(), {}, lgb_model),\n",
    "    ('c_weight', NoSampling(), {}, balanced_lgb_model),\n",
    "    ('RUS', RandomUnderSampler(sampling_strategy=\"majority\",replacement=False,random_state=i),{}, lgb_model),\n",
    "    ('ROS',  RandomOverSampler(sampling_strategy=\"minority\",random_state=i),{}, lgb_model),\n",
    "    ('NearMiss1', NearMiss(sampling_strategy=\"majority\", version=1),{}, lgb_model),\n",
    "    ('BorderlineS_1', BorderlineSMOTE(sampling_strategy=\"minority\", k_neighbors=5, kind=\"borderline-1\",random_state=i),{}, lgb_model),\n",
    "    ('BorderlineS_2',BorderlineSMOTE(sampling_strategy=\"minority\", k_neighbors=5, kind=\"borderline-2\",random_state=i),{}, lgb_model),\n",
    "    ('cv_smote', NoSampling(),{}, CVSmotelgb),\n",
    "    ('SMOTE',SMOTE(sampling_strategy=\"minority\",random_state=i),{},lgb_model),\n",
    "    ('MGS',MGS(K=6,random_state=i),{},lgb_model),\n",
    "    ('CTGAN', CtganSampler(epochs=10,generator_lr=2e-4,discriminator_lr=2e-4,random_state=i), {}, lgb_model),\n",
    "    ('ForestDiff', ForesDiffSampler(random_state=i), {}, lgb_model),\n",
    "    ]\n",
    "    splitter_stratified = StratifiedKFold(n_splits=5,shuffle=True,random_state=100+i)\n",
    "    name_file = init_name_file + str(i) +'.npy'\n",
    "    run_eval(output_dir=output_dir_path,name_file=name_file,X=X_phoneme_10,y=y_phoneme_10,\n",
    "             list_oversampling_and_params=list_oversampling_and_params,\n",
    "             splitter=splitter_stratified)"
   ]
  },
  {
   "cell_type": "code",
   "execution_count": null,
   "id": "e636ca24",
   "metadata": {},
   "outputs": [],
   "source": [
    "output_dir_path =  \"/home/abdoulaye_sakho/S1/th_smote/smote_strategies_study/saved_experiments_2025_v2/not_tuned/res_phoneme/subsample_to_1/depth_rus\" \n",
    "Path(output_dir_path).mkdir(parents=True, exist_ok=True)\n",
    "X_phoneme_1,y_phoneme_1 = read_subsampling_indices(X=X_phoneme,y=y_phoneme, dir_subsampling=output_dir_path_lgbm,\n",
    "                                                   name_subsampling_file='phoneme_sub_10_to_1', get_indexes=False)\n",
    "\n",
    "init_name_file = '2024-07-08-lgb-tuned'\n",
    "for i in range(20):\n",
    "    list_oversampling_and_params = [\n",
    "    ('None', NoSampling(), {}, lgb_model),\n",
    "    ('c_weight', NoSampling(), {}, balanced_lgb_model),\n",
    "    ('RUS', RandomUnderSampler(sampling_strategy=\"majority\",replacement=False,random_state=i),{}, lgb_model),\n",
    "    ('ROS',  RandomOverSampler(sampling_strategy=\"minority\",random_state=i),{}, lgb_model),\n",
    "    ('NearMiss1', NearMiss(sampling_strategy=\"majority\", version=1),{}, lgb_model),\n",
    "    ('BorderlineS_1', BorderlineSMOTE(sampling_strategy=\"minority\", k_neighbors=5, kind=\"borderline-1\",random_state=i),{}, lgb_model),\n",
    "    ('BorderlineS_2',BorderlineSMOTE(sampling_strategy=\"minority\", k_neighbors=5, kind=\"borderline-2\",random_state=i),{}, lgb_model),\n",
    "    ('cv_smote', NoSampling(),{}, CVSmotelgb),\n",
    "    ('SMOTE',SMOTE(sampling_strategy=\"minority\",random_state=i),{},lgb_model),\n",
    "    ('MGS',MGS(K=6,random_state=i),{},lgb_model),\n",
    "    ('CTGAN', CtganSampler(epochs=10,generator_lr=2e-4,discriminator_lr=2e-4,random_state=i), {}, lgb_model),\n",
    "    ('ForestDiff', ForesDiffSampler(random_state=i), {}, lgb_model),\n",
    "    ]\n",
    "    splitter_stratified = StratifiedKFold(n_splits=5,shuffle=True,random_state=100+i)\n",
    "    name_file = init_name_file + str(i) +'.npy'\n",
    "    run_eval(output_dir=output_dir_path,name_file=name_file,X=X_phoneme_1,y=y_phoneme_1,\n",
    "             list_oversampling_and_params=list_oversampling_and_params,\n",
    "             splitter=splitter_stratified)"
   ]
  },
  {
   "cell_type": "markdown",
   "id": "b64bf0a2",
   "metadata": {},
   "source": [
    "<center><h1  style=\"color:white; background-color:#808b96; border-radius: 10px; padding:15px;\"> Pima </h1></center>"
   ]
  },
  {
   "cell_type": "markdown",
   "id": "ab43b2e1",
   "metadata": {},
   "source": [
    "## Run protocol :"
   ]
  },
  {
   "cell_type": "code",
   "execution_count": null,
   "id": "934beb33",
   "metadata": {},
   "outputs": [],
   "source": [
    "from data.data import load_pima_data\n",
    "X_pima, y_pima = load_pima_data()"
   ]
  },
  {
   "cell_type": "code",
   "execution_count": null,
   "id": "1dc78a82-ae8b-48ba-8818-814e0df77fc3",
   "metadata": {},
   "outputs": [],
   "source": [
    "smote_bagging = BalancedBaggingClassifier(sampler=SMOTE(),random_state=0)\n",
    "mgs_bagging = BalancedBaggingClassifier(sampler=MGS(K=9,random_state=0),random_state=0)"
   ]
  },
  {
   "cell_type": "code",
   "execution_count": null,
   "id": "05412d32-2cd8-4324-b16b-c0abaad38a58",
   "metadata": {},
   "outputs": [],
   "source": [
    "depth_max = None"
   ]
  },
  {
   "cell_type": "code",
   "execution_count": null,
   "id": "171f6ed2",
   "metadata": {},
   "outputs": [],
   "source": [
    "lgb_model = RandomForestClassifier(n_estimators=100,criterion='gini',n_jobs=8,max_depth=depth_max)\n",
    "balanced_lgb_model =  RandomForestClassifier(n_estimators=100,criterion='gini',class_weight='balanced',n_jobs=8,max_depth=depth_max)\n",
    "\n",
    "splitter_stratified_cv = StratifiedKFold(n_splits=5,shuffle=True,random_state=0)\n",
    "CVSmotelgb = CVSmoteModel(\n",
    "    splitter=splitter_stratified_cv,\n",
    "    model=RandomForestClassifier(n_estimators=100,criterion='gini',n_jobs=8,max_depth=depth_max),\n",
    "    list_k_max=15,list_k_step=1)"
   ]
  },
  {
   "cell_type": "code",
   "execution_count": null,
   "id": "a4493b0e-7fb3-43b5-b900-15f87b2595b6",
   "metadata": {},
   "outputs": [],
   "source": [
    "output_dir_path =  \"/home/abdoulaye_sakho/S1/th_smote/smote_strategies_study/saved_experiments_2025_v2/not_tuned/res_pima/original/\" \n",
    "Path(output_dir_path).mkdir(parents=True, exist_ok=True)\n",
    "\n",
    "init_name_file = '2024-07-08-lgb-tuned'\n",
    "for i in range(20):\n",
    "    list_oversampling_and_params = [\n",
    "    ('None', NoSampling(), {}, lgb_model),\n",
    "    ('c_weight', NoSampling(), {}, balanced_lgb_model),\n",
    "    ('RUS', RandomUnderSampler(sampling_strategy=\"majority\",replacement=False,random_state=i),{}, lgb_model),\n",
    "    ('ROS',  RandomOverSampler(sampling_strategy=\"minority\",random_state=i),{}, lgb_model),\n",
    "    ('NearMiss1', NearMiss(sampling_strategy=\"majority\", version=1),{}, lgb_model),\n",
    "    ('BorderlineS_1', BorderlineSMOTE(sampling_strategy=\"minority\", k_neighbors=5, kind=\"borderline-1\",random_state=i),{}, lgb_model),\n",
    "    ('BorderlineS_2',BorderlineSMOTE(sampling_strategy=\"minority\", k_neighbors=5, kind=\"borderline-2\",random_state=i),{}, lgb_model),\n",
    "    ('cv_smote', NoSampling(),{}, CVSmotelgb),\n",
    "    ('SMOTE',SMOTE(sampling_strategy=\"minority\",random_state=i),{},lgb_model),\n",
    "    ('MGS',MGS(K=9,random_state=i),{},lgb_model),\n",
    "    ('CTGAN', CtganSampler(epochs=10,generator_lr=2e-4,discriminator_lr=2e-4,random_state=i), {}, lgb_model),\n",
    "    ('ForestDiff', ForesDiffSampler(random_state=i), {}, lgb_model),\n",
    "    ('SMOTEBagging', NoSampling(), {}, smote_bagging),\n",
    "    ('MGSBagging', NoSampling(), {}, mgs_bagging),\n",
    "    ]\n",
    "    splitter_stratified = StratifiedKFold(n_splits=5,shuffle=True,random_state=100+i)\n",
    "    name_file = init_name_file + str(i) +'.npy'\n",
    "    run_eval(output_dir=output_dir_path,name_file=name_file,X=X_pima,y=y_pima,\n",
    "             list_oversampling_and_params=list_oversampling_and_params,\n",
    "             splitter=splitter_stratified)"
   ]
  },
  {
   "cell_type": "code",
   "execution_count": null,
   "id": "2a653b72",
   "metadata": {},
   "outputs": [],
   "source": [
    "output_dir_path =  \"/home/abdoulaye_sakho/S1/th_smote/smote_strategies_study/saved_experiments_2025_v2/not_tuned/res_pima/subsample_to_20/depth_rus\" \n",
    "Path(output_dir_path).mkdir(parents=True, exist_ok=True)\n",
    "X_pima_20,y_pima_20 = read_subsampling_indices(X=X_pima,y=y_pima, dir_subsampling=output_dir_path_lgbm,\n",
    "                                               name_subsampling_file='pima_sub_original_to_20', get_indexes=False)\n",
    "\n",
    "init_name_file = '2024-07-08-lgb-tuned'\n",
    "for i in range(20):\n",
    "    list_oversampling_and_params = [\n",
    "    ('None', NoSampling(), {}, lgb_model),\n",
    "    ('c_weight', NoSampling(), {}, balanced_lgb_model),\n",
    "    ('RUS', RandomUnderSampler(sampling_strategy=\"majority\",replacement=False,random_state=i),{}, lgb_model),\n",
    "    ('ROS',  RandomOverSampler(sampling_strategy=\"minority\",random_state=i),{}, lgb_model),\n",
    "    ('NearMiss1', NearMiss(sampling_strategy=\"majority\", version=1),{}, lgb_model),\n",
    "    ('BorderlineS_1', BorderlineSMOTE(sampling_strategy=\"minority\", k_neighbors=5, kind=\"borderline-1\",random_state=i),{}, lgb_model),\n",
    "    ('BorderlineS_2',BorderlineSMOTE(sampling_strategy=\"minority\", k_neighbors=5, kind=\"borderline-2\",random_state=i),{}, lgb_model),\n",
    "    ('cv_smote', NoSampling(),{}, CVSmotelgb),\n",
    "    ('SMOTE',SMOTE(sampling_strategy=\"minority\",random_state=i),{},lgb_model),\n",
    "    ('MGS',MGS(K=9,random_state=i),{},lgb_model),\n",
    "    ('CTGAN', CtganSampler(epochs=10,generator_lr=2e-4,discriminator_lr=2e-4,random_state=i), {}, lgb_model),\n",
    "    ('ForestDiff', ForesDiffSampler(random_state=i), {}, lgb_model),\n",
    "    ]\n",
    "    splitter_stratified = StratifiedKFold(n_splits=5,shuffle=True,random_state=100+i)\n",
    "    name_file = init_name_file + str(i) +'.npy'\n",
    "    run_eval(output_dir=output_dir_path,name_file=name_file,X=X_pima_20,y=y_pima_20,\n",
    "             list_oversampling_and_params=list_oversampling_and_params,\n",
    "             splitter=splitter_stratified)"
   ]
  },
  {
   "cell_type": "markdown",
   "id": "25bcd19d",
   "metadata": {},
   "source": [
    "<center><h1  style=\"color:white; background-color:#808b96; border-radius: 10px; padding:15px;\"> Abalone </h1></center>"
   ]
  },
  {
   "cell_type": "markdown",
   "id": "28556d4e",
   "metadata": {},
   "source": [
    "## Run protocol :"
   ]
  },
  {
   "cell_type": "code",
   "execution_count": null,
   "id": "18611926",
   "metadata": {},
   "outputs": [],
   "source": [
    "from data.data import load_abalone_data\n",
    "X_abalone, y_abalone = load_abalone_data()"
   ]
  },
  {
   "cell_type": "code",
   "execution_count": null,
   "id": "8742c41f",
   "metadata": {},
   "outputs": [],
   "source": [
    "from collections import Counter\n",
    "Counter(y_abalone)"
   ]
  },
  {
   "cell_type": "code",
   "execution_count": null,
   "id": "55d24a25-55bf-45a3-87d0-912893e556a7",
   "metadata": {},
   "outputs": [],
   "source": [
    "smote_bagging = BalancedBaggingClassifier(sampler=SMOTE(),random_state=0)\n",
    "mgs_bagging = BalancedBaggingClassifier(sampler=MGS(K=9,random_state=0),random_state=0)"
   ]
  },
  {
   "cell_type": "code",
   "execution_count": null,
   "id": "024a9910-1d68-4cde-a7a1-65fa5efc2198",
   "metadata": {},
   "outputs": [],
   "source": [
    "depth_max=None"
   ]
  },
  {
   "cell_type": "code",
   "execution_count": null,
   "id": "ecd023ea",
   "metadata": {},
   "outputs": [],
   "source": [
    "lgb_model = RandomForestClassifier(n_estimators=100,criterion='gini',n_jobs=8,max_depth=depth_max)\n",
    "balanced_lgb_model =  RandomForestClassifier(n_estimators=100,criterion='gini',class_weight='balanced',n_jobs=8,max_depth=depth_max)\n",
    "\n",
    "splitter_stratified_cv = StratifiedKFold(n_splits=5,shuffle=True,random_state=0)\n",
    "CVSmotelgb = CVSmoteModel(\n",
    "    splitter=splitter_stratified_cv,\n",
    "    model=RandomForestClassifier(n_estimators=100,criterion='gini',n_jobs=8,max_depth=depth_max),\n",
    "    list_k_max=15,list_k_step=1)"
   ]
  },
  {
   "cell_type": "code",
   "execution_count": null,
   "id": "89e72d3e",
   "metadata": {
    "scrolled": true
   },
   "outputs": [],
   "source": [
    "output_dir_path =  \"/home/abdoulaye_sakho/S1/th_smote/smote_strategies_study/saved_experiments_2025_v2/not_tuned/res_abalone/original/depth_rus\" \n",
    "Path(output_dir_path).mkdir(parents=True, exist_ok=True)\n",
    "\n",
    "init_name_file = '2024-07-08-lgb-tuned'\n",
    "for i in range(20):\n",
    "    list_oversampling_and_params = [\n",
    "    ('None', NoSampling(), {}, lgb_model),\n",
    "    ('c_weight', NoSampling(), {}, balanced_lgb_model),\n",
    "    ('RUS', RandomUnderSampler(sampling_strategy=\"majority\",replacement=False,random_state=i),{}, lgb_model),\n",
    "    ('ROS',  RandomOverSampler(sampling_strategy=\"minority\",random_state=i),{}, lgb_model),\n",
    "    ('NearMiss1', NearMiss(sampling_strategy=\"majority\", version=1),{}, lgb_model),\n",
    "    ('BorderlineS_1', BorderlineSMOTE(sampling_strategy=\"minority\", k_neighbors=5, kind=\"borderline-1\",random_state=i),{}, lgb_model),\n",
    "    ('BorderlineS_2',BorderlineSMOTE(sampling_strategy=\"minority\", k_neighbors=5, kind=\"borderline-2\",random_state=i),{}, lgb_model),\n",
    "    ('cv_smote', NoSampling(),{}, CVSmotelgb),\n",
    "    ('SMOTE',SMOTE(sampling_strategy=\"minority\",random_state=i),{},lgb_model),\n",
    "    ('MGS',MGS(K=9,random_state=i),{},lgb_model),\n",
    "    ('CTGAN', CtganSampler(epochs=10,generator_lr=2e-4,discriminator_lr=2e-4,random_state=i), {}, lgb_model),\n",
    "    ('ForestDiff', ForesDiffSampler(random_state=i), {}, lgb_model),\n",
    "    #('SMOTEBagging', NoSampling(), {}, smote_bagging),\n",
    "    #('MGSBagging', NoSampling(), {}, mgs_bagging),\n",
    "    #('SMOTEBoost', NoSampling(), {}, smote_boost),\n",
    "    ]\n",
    "    splitter_stratified = StratifiedKFold(n_splits=5,shuffle=True,random_state=100+i)\n",
    "    name_file = init_name_file + str(i) +'.npy'\n",
    "    run_eval(output_dir=output_dir_path,name_file=name_file,X=X_abalone,y=y_abalone,\n",
    "             list_oversampling_and_params=list_oversampling_and_params,\n",
    "             splitter=splitter_stratified)"
   ]
  },
  {
   "cell_type": "markdown",
   "id": "befbf814",
   "metadata": {},
   "source": [
    "## Compute metrics :"
   ]
  },
  {
   "cell_type": "markdown",
   "id": "cc84a06c",
   "metadata": {
    "jp-MarkdownHeadingCollapsed": true
   },
   "source": [
    "<center><h1  style=\"color:white; background-color:#808b96; border-radius: 10px; padding:15px;\"> Haberman </h1></center>"
   ]
  },
  {
   "cell_type": "markdown",
   "id": "112be115",
   "metadata": {},
   "source": [
    "## Run protocol :"
   ]
  },
  {
   "cell_type": "code",
   "execution_count": null,
   "id": "f8d9171a",
   "metadata": {},
   "outputs": [],
   "source": [
    "from data.data import load_haberman_data\n",
    "X_haberman,y_haberman = load_haberman_data()"
   ]
  },
  {
   "cell_type": "code",
   "execution_count": null,
   "id": "16114730-fb21-438e-984a-a3919d6cc543",
   "metadata": {},
   "outputs": [],
   "source": [
    "smote_bagging = BalancedBaggingClassifier(sampler=SMOTE(),random_state=0)\n",
    "mgs_bagging = BalancedBaggingClassifier(sampler=MGS(K=5,random_state=0),random_state=0)"
   ]
  },
  {
   "cell_type": "code",
   "execution_count": null,
   "id": "b62e7bdb-171f-40b8-961b-1df06391ee02",
   "metadata": {},
   "outputs": [],
   "source": [
    "depth_max=None"
   ]
  },
  {
   "cell_type": "code",
   "execution_count": null,
   "id": "f238c57a",
   "metadata": {},
   "outputs": [],
   "source": [
    "lgb_model = RandomForestClassifier(n_estimators=100,criterion='gini',n_jobs=5,max_depth=depth_max)\n",
    "balanced_lgb_model =  RandomForestClassifier(n_estimators=100,criterion='gini',class_weight='balanced',n_jobs=5,max_depth=depth_max)\n",
    "\n",
    "splitter_stratified_cv = StratifiedKFold(n_splits=5,shuffle=True,random_state=0)\n",
    "CVSmotelgb = CVSmoteModel(\n",
    "    splitter=splitter_stratified_cv,\n",
    "    model=RandomForestClassifier(n_estimators=100,criterion='gini',n_jobs=5,max_depth=depth_max),\n",
    "    list_k_max=15,list_k_step=1)"
   ]
  },
  {
   "cell_type": "code",
   "execution_count": null,
   "id": "eaf01d02-eb1c-4720-a125-11eabff0d0c2",
   "metadata": {},
   "outputs": [],
   "source": [
    "output_dir_path =  \"/home/abdoulaye_sakho/S1/th_smote/smote_strategies_study/saved_experiments_2025_v2/not_tuned/res_haberman/original/\" \n",
    "Path(output_dir_path).mkdir(parents=True, exist_ok=True)\n",
    "\n",
    "init_name_file = '2024-07-08-lgb-tuned'\n",
    "for i in range(20):\n",
    "    list_oversampling_and_params = [\n",
    "    ('None', NoSampling(), {}, lgb_model),\n",
    "    ('c_weight', NoSampling(), {}, balanced_lgb_model),\n",
    "    ('RUS', RandomUnderSampler(sampling_strategy=\"majority\",replacement=False,random_state=i),{}, lgb_model),\n",
    "    ('ROS',  RandomOverSampler(sampling_strategy=\"minority\",random_state=i),{}, lgb_model),\n",
    "    ('NearMiss1', NearMiss(sampling_strategy=\"majority\", version=1),{}, lgb_model),\n",
    "    ('BorderlineS_1', BorderlineSMOTE(sampling_strategy=\"minority\", k_neighbors=5, kind=\"borderline-1\",random_state=i),{}, lgb_model),\n",
    "    ('BorderlineS_2',BorderlineSMOTE(sampling_strategy=\"minority\", k_neighbors=5, kind=\"borderline-2\",random_state=i),{}, lgb_model),\n",
    "    ('cv_smote', NoSampling(),{}, CVSmotelgb),\n",
    "    ('SMOTE',SMOTE(sampling_strategy=\"minority\",random_state=i),{},lgb_model),\n",
    "    ('MGS',MGS(K=5,random_state=i),{},lgb_model),\n",
    "    ('CTGAN', CtganSampler(epochs=10,generator_lr=2e-4,discriminator_lr=2e-4,random_state=i), {}, lgb_model),\n",
    "    ('ForestDiff', ForesDiffSampler(random_state=i), {}, lgb_model),\n",
    "    #('SMOTEBagging', NoSampling(), {}, smote_bagging),\n",
    "    #('MGSBagging', NoSampling(), {}, mgs_bagging),\n",
    "    #('SMOTEBoost', NoSampling(), {}, smote_boost),\n",
    "    ]\n",
    "    splitter_stratified = StratifiedKFold(n_splits=5,shuffle=True,random_state=100+i)\n",
    "    name_file = init_name_file + str(i) +'.npy'\n",
    "    run_eval(output_dir=output_dir_path,name_file=name_file,X=X_haberman,y=y_haberman,\n",
    "             list_oversampling_and_params=list_oversampling_and_params,\n",
    "             splitter=splitter_stratified)"
   ]
  },
  {
   "cell_type": "code",
   "execution_count": null,
   "id": "0abf5ae7",
   "metadata": {},
   "outputs": [],
   "source": [
    "output_dir_path =  \"/home/abdoulaye_sakho/S1/th_smote/smote_strategies_study/saved_experiments_2025_v2/not_tuned/res_haberman/subsample_to_10/depth_rus\" \n",
    "Path(output_dir_path).mkdir(parents=True, exist_ok=True)\n",
    "X_haberman_10,y_haberman_10 = read_subsampling_indices(X=X_haberman,y=y_haberman, dir_subsampling=output_dir_path_lgbm,\n",
    "                                                       name_subsampling_file='haberman_sub_original_to_20', get_indexes=False)\n",
    "\n",
    "init_name_file = '2024-07-08-lgb-tuned'\n",
    "for i in range(20):\n",
    "    list_oversampling_and_params = [\n",
    "    ('None', NoSampling(), {}, lgb_model),\n",
    "    ('c_weight', NoSampling(), {}, balanced_lgb_model),\n",
    "    ('RUS', RandomUnderSampler(sampling_strategy=\"majority\",replacement=False,random_state=i),{}, lgb_model),\n",
    "    ('ROS',  RandomOverSampler(sampling_strategy=\"minority\",random_state=i),{}, lgb_model),\n",
    "    ('NearMiss1', NearMiss(sampling_strategy=\"majority\", version=1),{}, lgb_model),\n",
    "    ('BorderlineS_1', BorderlineSMOTE(sampling_strategy=\"minority\", k_neighbors=5, kind=\"borderline-1\",random_state=i),{}, lgb_model),\n",
    "    ('BorderlineS_2',BorderlineSMOTE(sampling_strategy=\"minority\", k_neighbors=5, kind=\"borderline-2\",random_state=i),{}, lgb_model),\n",
    "    ('cv_smote', NoSampling(),{}, CVSmotelgb),\n",
    "    ('SMOTE',SMOTE(sampling_strategy=\"minority\",random_state=i),{},lgb_model),\n",
    "    ('MGS',MGS(K=5,random_state=i),{},lgb_model),\n",
    "    ('CTGAN', CtganSampler(epochs=10,generator_lr=2e-4,discriminator_lr=2e-4,random_state=i), {}, lgb_model),\n",
    "    ('ForestDiff', ForesDiffSampler(random_state=i), {}, lgb_model),\n",
    "    #('SMOTEBagging', NoSampling(), {}, smote_bagging),\n",
    "    #('MGSBagging', NoSampling(), {}, mgs_bagging),\n",
    "    #('SMOTEBoost', NoSampling(), {}, smote_boost),\n",
    "    ]\n",
    "    splitter_stratified = StratifiedKFold(n_splits=5,shuffle=True,random_state=100+i)\n",
    "    name_file = init_name_file + str(i) +'.npy'\n",
    "    run_eval(output_dir=output_dir_path,name_file=name_file,X=X_haberman_10,y=y_haberman_10,\n",
    "             list_oversampling_and_params=list_oversampling_and_params,\n",
    "             splitter=splitter_stratified)"
   ]
  },
  {
   "cell_type": "markdown",
   "id": "2211351d",
   "metadata": {
    "jp-MarkdownHeadingCollapsed": true
   },
   "source": [
    "<center><h1  style=\"color:white; background-color:#808b96; border-radius: 10px; padding:15px;\"> Yeast </h1></center>"
   ]
  },
  {
   "cell_type": "code",
   "execution_count": null,
   "id": "e39fe093",
   "metadata": {},
   "outputs": [],
   "source": [
    "from data.data import load_yeast_data\n",
    "X_yeast,y_yeast = load_yeast_data()"
   ]
  },
  {
   "cell_type": "raw",
   "id": "ebee7d38-485e-4134-af80-1afaa3bb1168",
   "metadata": {},
   "source": [
    "indices_kept_10 = subsample_to_ratio_indices(X=X_yeast,y=y_yeast,ratio=0.01,seed_sub=15,\n",
    "                                           output_dir_subsampling=output_dir_path_lgbm,\n",
    "                                           name_subsampling_file='yeast_sub_original_to_1')\n",
    "\n"
   ]
  },
  {
   "cell_type": "code",
   "execution_count": null,
   "id": "633dd2e2-dba5-4e41-8bbd-8db1df1854cb",
   "metadata": {},
   "outputs": [],
   "source": [
    "depth_max=4"
   ]
  },
  {
   "cell_type": "code",
   "execution_count": null,
   "id": "8c61f4f1-c863-45ee-8a11-19be269bb814",
   "metadata": {},
   "outputs": [],
   "source": [
    "smote_bagging = BalancedBaggingClassifier(sampler=SMOTE(),random_state=0)\n",
    "mgs_bagging = BalancedBaggingClassifier(sampler=MGS(K=9,random_state=0),random_state=0)"
   ]
  },
  {
   "cell_type": "code",
   "execution_count": null,
   "id": "7744886e",
   "metadata": {},
   "outputs": [],
   "source": [
    "lgb_model = RandomForestClassifier(n_estimators=100,criterion='gini',n_jobs=5,max_depth=depth_max)\n",
    "balanced_lgb_model =  RandomForestClassifier(n_estimators=100,criterion='gini',class_weight='balanced',n_jobs=5,max_depth=depth_max)\n",
    "\n",
    "splitter_stratified_cv = StratifiedKFold(n_splits=5,shuffle=True,random_state=0)\n",
    "CVSmotelgb = CVSmoteModel(\n",
    "    splitter=splitter_stratified_cv,\n",
    "    model=RandomForestClassifier(n_estimators=100,criterion='gini',n_jobs=5,max_depth=depth_max),\n",
    "    list_k_max=7,list_k_step=1)"
   ]
  },
  {
   "cell_type": "code",
   "execution_count": null,
   "id": "d5681a74-bbb9-4c09-b2b8-6cbf176e3b97",
   "metadata": {},
   "outputs": [],
   "source": [
    "output_dir_path =  \"/home/abdoulaye_sakho/S1/th_smote/smote_strategies_study/saved_experiments_2025_v2/not_tuned/res_yeast/original/\" \n",
    "Path(output_dir_path).mkdir(parents=True, exist_ok=True)\n",
    "\n",
    "init_name_file = '2024-07-08-lgb-tuned'\n",
    "for i in range(20):\n",
    "    list_oversampling_and_params = [\n",
    "    ('None', NoSampling(), {}, lgb_model),\n",
    "    ('c_weight', NoSampling(), {}, balanced_lgb_model),\n",
    "    ('RUS', RandomUnderSampler(sampling_strategy=\"majority\",replacement=False,random_state=i),{}, lgb_model),\n",
    "    ('ROS',  RandomOverSampler(sampling_strategy=\"minority\",random_state=i),{}, lgb_model),\n",
    "    ('NearMiss1', NearMiss(sampling_strategy=\"majority\", version=1),{}, lgb_model),\n",
    "    ('BorderlineS_1', BorderlineSMOTE(sampling_strategy=\"minority\", k_neighbors=5, kind=\"borderline-1\",random_state=i),{}, lgb_model),\n",
    "    ('BorderlineS_2',BorderlineSMOTE(sampling_strategy=\"minority\", k_neighbors=5, kind=\"borderline-2\",random_state=i),{}, lgb_model),\n",
    "    ('cv_smote', NoSampling(),{}, CVSmotelgb),\n",
    "    ('SMOTE',SMOTE(sampling_strategy=\"minority\",random_state=i),{},lgb_model),\n",
    "    ('MGS',MGS(K=9,random_state=i),{},lgb_model),\n",
    "    ('CTGAN', CtganSampler(epochs=10,generator_lr=2e-4,discriminator_lr=2e-4,random_state=i), {}, lgb_model),\n",
    "    ('ForestDiff', ForesDiffSampler(random_state=i), {}, lgb_model),\n",
    "    #('SMOTEBagging', NoSampling(), {}, smote_bagging),\n",
    "    #('MGSBagging', NoSampling(), {}, mgs_bagging),\n",
    "    #('SMOTEBoost', NoSampling(), {}, smote_boost),\n",
    "    ]\n",
    "    splitter_stratified = StratifiedKFold(n_splits=5,shuffle=True,random_state=100+i)\n",
    "    name_file = init_name_file + str(i) +'.npy'\n",
    "    run_eval(output_dir=output_dir_path,name_file=name_file,X=X_yeast,y=y_yeast,\n",
    "             list_oversampling_and_params=list_oversampling_and_params,\n",
    "             splitter=splitter_stratified)"
   ]
  },
  {
   "cell_type": "code",
   "execution_count": null,
   "id": "8673f135-a508-476f-9396-8a14bdefbdd2",
   "metadata": {},
   "outputs": [],
   "source": [
    "smote_bagging = BalancedBaggingClassifier(sampler=SMOTE(k_neighbors=3),random_state=0)\n",
    "mgs_bagging = BalancedBaggingClassifier(sampler=MGS(K=3,random_state=0),random_state=0)"
   ]
  },
  {
   "cell_type": "code",
   "execution_count": null,
   "id": "b02c632e-5acf-4f6d-b931-74ff9c6cbfe4",
   "metadata": {},
   "outputs": [],
   "source": [
    "lgb_model = RandomForestClassifier(n_estimators=100,criterion='gini',n_jobs=5,max_depth=depth_max)\n",
    "balanced_lgb_model =  RandomForestClassifier(n_estimators=100,criterion='gini',class_weight='balanced',n_jobs=5,max_depth=depth_max)\n",
    "\n",
    "splitter_stratified_cv = StratifiedKFold(n_splits=5,shuffle=True,random_state=0)\n",
    "CVSmotelgb = CVSmoteModel(\n",
    "    splitter=splitter_stratified_cv,\n",
    "    model=RandomForestClassifier(n_estimators=100,criterion='gini',n_jobs=5,max_depth=depth_max),\n",
    "    list_k_max=7,list_k_step=1)"
   ]
  },
  {
   "cell_type": "code",
   "execution_count": null,
   "id": "e98a7e95",
   "metadata": {},
   "outputs": [],
   "source": [
    "output_dir_path =  \"/home/abdoulaye_sakho/S1/th_smote/smote_strategies_study/saved_experiments_2025_v2/not_tuned/res_yeast/subsample_to_1/depth_rus\" \n",
    "Path(output_dir_path).mkdir(parents=True, exist_ok=True)\n",
    "X_yeast_1,y_yeast_1 = read_subsampling_indices(X=X_yeast,y=y_yeast, dir_subsampling=output_dir_path_lgbm, name_subsampling_file='yeast_sub_original_to_1', get_indexes=False)\n",
    "\n",
    "init_name_file = '2024-07-08-lgb-tuned'\n",
    "for i in range(20):\n",
    "    list_oversampling_and_params = [\n",
    "    ('None', NoSampling(), {}, lgb_model),\n",
    "    ('c_weight', NoSampling(), {}, balanced_lgb_model),\n",
    "    ('RUS', RandomUnderSampler(sampling_strategy=\"majority\",replacement=False,random_state=i),{}, lgb_model),\n",
    "    ('ROS',  RandomOverSampler(sampling_strategy=\"minority\",random_state=i),{}, lgb_model),\n",
    "    ('NearMiss1', NearMiss(sampling_strategy=\"majority\", version=1),{}, lgb_model),\n",
    "    ('BorderlineS_1', BorderlineSMOTE(sampling_strategy=\"minority\", k_neighbors=5, kind=\"borderline-1\",random_state=i),{}, lgb_model),\n",
    "    ('BorderlineS_2',BorderlineSMOTE(sampling_strategy=\"minority\", k_neighbors=5, kind=\"borderline-2\",random_state=i),{}, lgb_model),\n",
    "    ('cv_smote', NoSampling(),{}, CVSmotelgb),\n",
    "    ('SMOTE',SMOTE(sampling_strategy=\"minority\",random_state=i),{},lgb_model),\n",
    "    ('MGS',MGS(K=9,random_state=i),{},lgb_model),\n",
    "    ('CTGAN', CtganSampler(epochs=10,generator_lr=2e-4,discriminator_lr=2e-4,random_state=i), {}, lgb_model),\n",
    "    ('ForestDiff', ForesDiffSampler(random_state=i), {}, lgb_model),\n",
    "    #('SMOTEBagging', NoSampling(), {}, smote_bagging),\n",
    "    #('MGSBagging', NoSampling(), {}, mgs_bagging),\n",
    "    #('SMOTEBoost', NoSampling(), {}, smote_boost),\n",
    "    ]\n",
    "    splitter_stratified = StratifiedKFold(n_splits=5,shuffle=True,random_state=100+i)\n",
    "    name_file = init_name_file + str(i) +'.npy'\n",
    "    run_eval(output_dir=output_dir_path,name_file=name_file,X=X_yeast_1,y=y_yeast_1,\n",
    "             list_oversampling_and_params=list_oversampling_and_params,\n",
    "             splitter=splitter_stratified)"
   ]
  },
  {
   "cell_type": "markdown",
   "id": "771b0425",
   "metadata": {
    "jp-MarkdownHeadingCollapsed": true
   },
   "source": [
    "<center><h1  style=\"color:white; background-color:#808b96; border-radius: 10px; padding:15px;\"> Wine </h1></center>"
   ]
  },
  {
   "cell_type": "markdown",
   "id": "86e50d65",
   "metadata": {},
   "source": [
    "Wine quality datas et : class 5 and 6 vs 8. Do not forget to install ucimlrepo. # pip install ucimlrepo"
   ]
  },
  {
   "cell_type": "code",
   "execution_count": null,
   "id": "7896550a",
   "metadata": {},
   "outputs": [],
   "source": [
    "from data.data import load_wine_data\n",
    "X_wine,y_wine = load_wine_data()"
   ]
  },
  {
   "cell_type": "code",
   "execution_count": null,
   "id": "48f60b7a-11b4-402d-bc08-36b597090d54",
   "metadata": {},
   "outputs": [],
   "source": [
    "smote_bagging = BalancedBaggingClassifier(sampler=SMOTE(),random_state=0)\n",
    "mgs_bagging = BalancedBaggingClassifier(sampler=MGS(K=12,random_state=0),random_state=0)"
   ]
  },
  {
   "cell_type": "code",
   "execution_count": null,
   "id": "1c091b1e-f194-46f8-b7ae-b6f43c5a26af",
   "metadata": {},
   "outputs": [],
   "source": [
    "depth_max=10"
   ]
  },
  {
   "cell_type": "code",
   "execution_count": null,
   "id": "9612ba62",
   "metadata": {},
   "outputs": [],
   "source": [
    "lgb_model = RandomForestClassifier(n_estimators=100,criterion='gini',n_jobs=5,max_depth=depth_max)\n",
    "balanced_lgb_model =  RandomForestClassifier(n_estimators=100,criterion='gini',class_weight='balanced',n_jobs=5,max_depth=depth_max)\n",
    "\n",
    "splitter_stratified_cv = StratifiedKFold(n_splits=5,shuffle=True,random_state=0)\n",
    "CVSmotelgb = CVSmoteModel(\n",
    "    splitter=splitter_stratified_cv,\n",
    "    model=RandomForestClassifier(n_estimators=100,criterion='gini',n_jobs=5,max_depth=depth_max),\n",
    "    list_k_max=15,list_k_step=1)"
   ]
  },
  {
   "cell_type": "code",
   "execution_count": null,
   "id": "33fc2d9b",
   "metadata": {},
   "outputs": [],
   "source": [
    "output_dir_path =  \"/home/abdoulaye_sakho/S1/th_smote/smote_strategies_study/saved_experiments_2025_v2/not_tuned/res_wine/original/depth_rus\" \n",
    "Path(output_dir_path).mkdir(parents=True, exist_ok=True)\n",
    "\n",
    "init_name_file = '2024-07-08-lgb-tuned'\n",
    "for i in range(20):\n",
    "    list_oversampling_and_params = [\n",
    "    ('None', NoSampling(), {}, lgb_model),\n",
    "    ('c_weight', NoSampling(), {}, balanced_lgb_model),\n",
    "    ('RUS', RandomUnderSampler(sampling_strategy=\"majority\",replacement=False,random_state=i),{}, lgb_model),\n",
    "    ('ROS',  RandomOverSampler(sampling_strategy=\"minority\",random_state=i),{}, lgb_model),\n",
    "    ('NearMiss1', NearMiss(sampling_strategy=\"majority\", version=1),{}, lgb_model),\n",
    "    ('BorderlineS_1', BorderlineSMOTE(sampling_strategy=\"minority\", k_neighbors=5, kind=\"borderline-1\",random_state=i),{}, lgb_model),\n",
    "    ('BorderlineS_2',BorderlineSMOTE(sampling_strategy=\"minority\", k_neighbors=5, kind=\"borderline-2\",random_state=i),{}, lgb_model),\n",
    "    ('cv_smote', NoSampling(),{}, CVSmotelgb),\n",
    "    ('SMOTE',SMOTE(sampling_strategy=\"minority\",random_state=i),{},lgb_model),\n",
    "    ('MGS',MGS(K=12,random_state=i),{},lgb_model),\n",
    "    ('CTGAN', CtganSampler(epochs=10,generator_lr=2e-4,discriminator_lr=2e-4,random_state=i), {}, lgb_model),\n",
    "    ('ForestDiff', ForesDiffSampler(random_state=i), {}, lgb_model),\n",
    "    #('SMOTEBagging', NoSampling(), {}, smote_bagging),\n",
    "    #('MGSBagging', NoSampling(), {}, mgs_bagging),\n",
    "    #('SMOTEBoost', NoSampling(), {}, smote_boost),\n",
    "    ]\n",
    "    splitter_stratified = StratifiedKFold(n_splits=5,shuffle=True,random_state=100+i)\n",
    "    name_file = init_name_file + str(i) +'.npy'\n",
    "    run_eval(output_dir=output_dir_path,name_file=name_file,X=X_wine,y=y_wine,\n",
    "             list_oversampling_and_params=list_oversampling_and_params,\n",
    "             splitter=splitter_stratified)"
   ]
  },
  {
   "cell_type": "markdown",
   "id": "24d73a14",
   "metadata": {
    "jp-MarkdownHeadingCollapsed": true
   },
   "source": [
    "<center><h1  style=\"color:white; background-color:#808b96; border-radius: 10px; padding:15px;\"> Vehicle </h1></center>"
   ]
  },
  {
   "cell_type": "markdown",
   "id": "d19efa62",
   "metadata": {},
   "source": [
    "## Run protocol :"
   ]
  },
  {
   "cell_type": "code",
   "execution_count": null,
   "id": "aabdaf52",
   "metadata": {},
   "outputs": [],
   "source": [
    "from data.data import load_vehicle_data\n",
    "X_vehicle, y_vehicle = load_vehicle_data()"
   ]
  },
  {
   "cell_type": "code",
   "execution_count": null,
   "id": "11743aca-4ac7-47f3-82bb-98c5353742d4",
   "metadata": {},
   "outputs": [],
   "source": [
    "indices_kept_10 = subsample_to_ratio_indices(X=X_vehicle,y=y_vehicle,ratio=0.1,seed_sub=11,\n",
    "    output_dir_subsampling=output_dir_path_lgbm,\n",
    "    name_subsampling_file='vehicle_sub_original_to_10')"
   ]
  },
  {
   "cell_type": "code",
   "execution_count": null,
   "id": "376731bc",
   "metadata": {},
   "outputs": [],
   "source": [
    "lgb_model = RandomForestClassifier(n_estimators=100,criterion='gini',n_jobs=5)\n",
    "balanced_lgb_model =  RandomForestClassifier(n_estimators=100,criterion='gini',class_weight='balanced',n_jobs=5)\n",
    "\n",
    "splitter_stratified_cv = StratifiedKFold(n_splits=5,shuffle=True,random_state=0)\n",
    "CVSmotelgb = CVSmoteModel(\n",
    "    splitter=splitter_stratified_cv,\n",
    "    model=RandomForestClassifier(n_estimators=100,criterion='gini',n_jobs=5),\n",
    "    list_k_max=15,list_k_step=1)"
   ]
  },
  {
   "cell_type": "code",
   "execution_count": null,
   "id": "ddfc0850-6321-4de2-9ad9-1299e2de035b",
   "metadata": {},
   "outputs": [],
   "source": [
    "output_dir_path =  \"../saved_experiments_2025_v2/not_tuned/res_bcw/original/res_vehicle/original\" \n",
    "Path(output_dir_path).mkdir(parents=True, exist_ok=True)\n",
    "\n",
    "init_name_file = '2024-07-08-lgb-tuned'\n",
    "for i in range(20):\n",
    "    list_oversampling_and_params = [\n",
    "    ('None', NoSampling(), {}, lgb_model),\n",
    "    ('c_weight', NoSampling(), {}, balanced_lgb_model),\n",
    "    ('RUS', RandomUnderSampler(sampling_strategy=\"majority\",replacement=False,random_state=i),{}, lgb_model),\n",
    "    ('ROS',  RandomOverSampler(sampling_strategy=\"minority\",random_state=i),{}, lgb_model),\n",
    "    ('NearMiss1', NearMiss(sampling_strategy=\"majority\", version=1),{}, lgb_model),\n",
    "    ('BorderlineS_1', BorderlineSMOTE(sampling_strategy=\"minority\", k_neighbors=5, kind=\"borderline-1\",random_state=i),{}, lgb_model),\n",
    "    ('BorderlineS_2',BorderlineSMOTE(sampling_strategy=\"minority\", k_neighbors=5, kind=\"borderline-2\",random_state=i),{}, lgb_model),\n",
    "    ('cv_smote', NoSampling(),{}, CVSmotelgb),\n",
    "    ('SMOTE',SMOTE(sampling_strategy=\"minority\",random_state=i),{},lgb_model),\n",
    "    ('MGS',MGS(K=19,random_state=i),{},lgb_model),\n",
    "    ('CTGAN', CtganSampler(epochs=10,generator_lr=2e-4,discriminator_lr=2e-4,random_state=i), {}, lgb_model),\n",
    "    ('ForestDiff', ForesDiffSampler(random_state=i), {}, lgb_model),\n",
    "    ]\n",
    "    splitter_stratified = StratifiedKFold(n_splits=5,shuffle=True,random_state=100+i)\n",
    "    name_file = init_name_file + str(i) +'.npy'\n",
    "    run_eval(output_dir=output_dir_path,name_file=name_file,X=X_vehicle,y=y_vehicle,\n",
    "             list_oversampling_and_params=list_oversampling_and_params,\n",
    "             splitter=splitter_stratified)"
   ]
  },
  {
   "cell_type": "code",
   "execution_count": null,
   "id": "3b2861db-e3db-46b9-8721-b6939b224966",
   "metadata": {},
   "outputs": [],
   "source": [
    "output_dir_path =  \"../saved_experiments_2025_v2/not_tuned/res_bcw/original/res_vehicle/subsample_to_10\" \n",
    "Path(output_dir_path).mkdir(parents=True, exist_ok=True)\n",
    "X_vehicle_10, y_vehicle_10 = read_subsampling_indices(X=X_vehicle,y=y_vehicle, dir_subsampling=output_dir_path_lgbm, \n",
    "                                                      name_subsampling_file='vehicle_sub_original_to_10', get_indexes=False)\n",
    "\n",
    "init_name_file = '2024-07-08-lgb-tuned'\n",
    "for i in range(20):\n",
    "    list_oversampling_and_params = [\n",
    "    ('None', NoSampling(), {}, lgb_model),\n",
    "    ('c_weight', NoSampling(), {}, balanced_lgb_model),\n",
    "    ('RUS', RandomUnderSampler(sampling_strategy=\"majority\",replacement=False,random_state=i),{}, lgb_model),\n",
    "    ('ROS',  RandomOverSampler(sampling_strategy=\"minority\",random_state=i),{}, lgb_model),\n",
    "    ('NearMiss1', NearMiss(sampling_strategy=\"majority\", version=1),{}, lgb_model),\n",
    "    ('BorderlineS_1', BorderlineSMOTE(sampling_strategy=\"minority\", k_neighbors=5, kind=\"borderline-1\",random_state=i),{}, lgb_model),\n",
    "    ('BorderlineS_2',BorderlineSMOTE(sampling_strategy=\"minority\", k_neighbors=5, kind=\"borderline-2\",random_state=i),{}, lgb_model),\n",
    "    ('cv_smote', NoSampling(),{}, CVSmotelgb),\n",
    "    ('SMOTE',SMOTE(sampling_strategy=\"minority\",random_state=i),{},lgb_model),\n",
    "    ('MGS',MGS(K=19,random_state=i),{},lgb_model),\n",
    "    ('CTGAN', CtganSampler(epochs=10,generator_lr=2e-4,discriminator_lr=2e-4,random_state=i), {}, lgb_model),\n",
    "    ('ForestDiff', ForesDiffSampler(random_state=i), {}, lgb_model),\n",
    "    ]\n",
    "    splitter_stratified = StratifiedKFold(n_splits=5,shuffle=True,random_state=100+i)\n",
    "    name_file = init_name_file + str(i) +'.npy'\n",
    "    run_eval(output_dir=output_dir_path,name_file=name_file,X=X_vehicle_10,y=y_vehicle_10,\n",
    "             list_oversampling_and_params=list_oversampling_and_params,\n",
    "             splitter=splitter_stratified)"
   ]
  },
  {
   "cell_type": "markdown",
   "id": "f6bdb8b5",
   "metadata": {
    "jp-MarkdownHeadingCollapsed": true
   },
   "source": [
    "<center><h1  style=\"color:white; background-color:#808b96; border-radius: 10px; padding:15px;\"> Breast cancer Wisconsin </h1></center>"
   ]
  },
  {
   "cell_type": "markdown",
   "id": "59c0dc80",
   "metadata": {},
   "source": [
    "## Run protocol :"
   ]
  },
  {
   "cell_type": "code",
   "execution_count": null,
   "id": "94a6e3a1",
   "metadata": {},
   "outputs": [],
   "source": [
    "from data.data import load_breastcancer_data\n",
    "X_bcw, y_bcw = load_breastcancer_data()"
   ]
  },
  {
   "cell_type": "code",
   "execution_count": null,
   "id": "8e281d80-470d-4a9b-ab37-511c321f5670",
   "metadata": {},
   "outputs": [],
   "source": [
    "indices_kept_20 = subsample_to_ratio_indices(X=X_bcw,y=y_bcw,ratio=0.2,seed_sub=11,\n",
    "                                           output_dir_subsampling=output_dir_path_lgbm,\n",
    "                                           name_subsampling_file='bcw_sub_original_to_20')\n",
    "\n",
    "indices_kept_10 = subsample_to_ratio_indices(\n",
    "    X=X_bcw,y=y_bcw,ratio=0.1,seed_sub=9,\n",
    "    output_dir_subsampling=output_dir_path_lgbm,\n",
    "    name_subsampling_file='bcw_sub_20_to_10',has_previous_under_sampling=True,\n",
    "    previous_under_sampling=indices_kept_20)\n",
    "\n"
   ]
  },
  {
   "cell_type": "code",
   "execution_count": null,
   "id": "2d94f37c",
   "metadata": {},
   "outputs": [],
   "source": [
    "lgb_model = RandomForestClassifier(n_estimators=100,criterion='gini',n_jobs=5)\n",
    "balanced_lgb_model =  RandomForestClassifier(n_estimators=100,criterion='gini',class_weight='balanced',n_jobs=5)\n",
    "\n",
    "splitter_stratified_cv = StratifiedKFold(n_splits=5,shuffle=True,random_state=0)\n",
    "CVSmotelgb = CVSmoteModel(\n",
    "    splitter=splitter_stratified_cv,\n",
    "    model=RandomForestClassifier(n_estimators=100,criterion='gini',n_jobs=5),\n",
    "    list_k_max=15,list_k_step=1)"
   ]
  },
  {
   "cell_type": "raw",
   "id": "2b4c41f1-9786-45a4-aff8-5d57d474e493",
   "metadata": {},
   "source": []
  },
  {
   "cell_type": "code",
   "execution_count": null,
   "id": "ae822390-6feb-4860-83c0-f4f365bdc3a0",
   "metadata": {},
   "outputs": [],
   "source": [
    "output_dir_path =  \"../saved_experiments_2025_v2/not_tuned/res_bcw/original\" \n",
    "Path(output_dir_path).mkdir(parents=True, exist_ok=True)\n",
    "\n",
    "init_name_file = '2024-07-08-lgb-tuned'\n",
    "for i in range(20):\n",
    "    list_oversampling_and_params = [\n",
    "    ('None', NoSampling(), {}, lgb_model),\n",
    "    ('c_weight', NoSampling(), {}, balanced_lgb_model),\n",
    "    ('RUS', RandomUnderSampler(sampling_strategy=\"majority\",replacement=False,random_state=i),{}, lgb_model),\n",
    "    ('ROS',  RandomOverSampler(sampling_strategy=\"minority\",random_state=i),{}, lgb_model),\n",
    "    ('NearMiss1', NearMiss(sampling_strategy=\"majority\", version=1),{}, lgb_model),\n",
    "    ('BorderlineS_1', BorderlineSMOTE(sampling_strategy=\"minority\", k_neighbors=5, kind=\"borderline-1\",random_state=i),{}, lgb_model),\n",
    "    ('BorderlineS_2',BorderlineSMOTE(sampling_strategy=\"minority\", k_neighbors=5, kind=\"borderline-2\",random_state=i),{}, lgb_model),\n",
    "    ('cv_smote', NoSampling(),{}, CVSmotelgb),\n",
    "    ('SMOTE',SMOTE(sampling_strategy=\"minority\",random_state=i),{},lgb_model),\n",
    "    ('MGS',MGS(K=10,random_state=i),{},lgb_model),\n",
    "    ('CTGAN', CtganSampler(epochs=10,generator_lr=2e-4,discriminator_lr=2e-4,random_state=i), {}, lgb_model),\n",
    "    ('ForestDiff', ForesDiffSampler(random_state=i), {}, lgb_model),\n",
    "    ]\n",
    "    \n",
    "    splitter_stratified = StratifiedKFold(n_splits=5,shuffle=True,random_state=100+i)\n",
    "    name_file = init_name_file + str(i) +'.npy'\n",
    "    run_eval(output_dir=output_dir_path,name_file=name_file,X=X_bcw,y=y_bcw,\n",
    "             list_oversampling_and_params=list_oversampling_and_params,\n",
    "             splitter=splitter_stratified)"
   ]
  },
  {
   "cell_type": "code",
   "execution_count": null,
   "id": "8f542208",
   "metadata": {},
   "outputs": [],
   "source": [
    "output_dir_path =  \"../saved_experiments_2025_v2/not_tuned/res_bcw/original/res_bcw/subsample_to_20\" \n",
    "Path(output_dir_path).mkdir(parents=True, exist_ok=True)\n",
    "X_bcw_20, y_bcw_20 = read_subsampling_indices(X=X_bcw,y=y_bcw, dir_subsampling=output_dir_path_lgbm, \n",
    "                                              name_subsampling_file='bcw_sub_original_to_20', get_indexes=False)\n",
    "\n",
    "init_name_file = '2024-07-08-lgb-tuned'\n",
    "for i in range(20):\n",
    "    list_oversampling_and_params = [\n",
    "    ('None', NoSampling(), {}, lgb_model),\n",
    "    ('c_weight', NoSampling(), {}, balanced_lgb_model),\n",
    "    ('RUS', RandomUnderSampler(sampling_strategy=\"majority\",replacement=False,random_state=i),{}, lgb_model),\n",
    "    ('ROS',  RandomOverSampler(sampling_strategy=\"minority\",random_state=i),{}, lgb_model),\n",
    "    ('NearMiss1', NearMiss(sampling_strategy=\"majority\", version=1),{}, lgb_model),\n",
    "    ('BorderlineS_1', BorderlineSMOTE(sampling_strategy=\"minority\", k_neighbors=5, kind=\"borderline-1\",random_state=i),{}, lgb_model),\n",
    "    ('BorderlineS_2',BorderlineSMOTE(sampling_strategy=\"minority\", k_neighbors=5, kind=\"borderline-2\",random_state=i),{}, lgb_model),\n",
    "    ('cv_smote', NoSampling(),{}, CVSmotelgb),\n",
    "    ('SMOTE',SMOTE(sampling_strategy=\"minority\",random_state=i),{},lgb_model),\n",
    "    ('MGS',MGS(K=10,random_state=i),{},lgb_model),\n",
    "    ('CTGAN', CtganSampler(epochs=10,generator_lr=2e-4,discriminator_lr=2e-4,random_state=i), {}, lgb_model),\n",
    "    ('ForestDiff', ForesDiffSampler(random_state=i), {}, lgb_model),\n",
    "    ]\n",
    "    splitter_stratified = StratifiedKFold(n_splits=5,shuffle=True,random_state=100+i)\n",
    "    name_file = init_name_file + str(i) +'.npy'\n",
    "    run_eval(output_dir=output_dir_path,name_file=name_file,X=X_bcw_20,y=y_bcw_20,\n",
    "             list_oversampling_and_params=list_oversampling_and_params,\n",
    "             splitter=splitter_stratified)"
   ]
  },
  {
   "cell_type": "code",
   "execution_count": null,
   "id": "5f0afd24-8d3c-482b-8e89-924b5578ed0e",
   "metadata": {},
   "outputs": [],
   "source": [
    "output_dir_path =  \"../saved_experiments_2025_v2/not_tuned/res_bcw/original/res_bcw/subsample_to_10\" \n",
    "Path(output_dir_path).mkdir(parents=True, exist_ok=True)\n",
    "X_bcw_10, y_bcw_10 = read_subsampling_indices(X=X_bcw,y=y_bcw, dir_subsampling=output_dir_path_lgbm, \n",
    "                                              name_subsampling_file='bcw_sub_20_to_10', get_indexes=False)\n",
    "\n",
    "init_name_file = '2024-07-08-lgb-tuned'\n",
    "for i in range(20):\n",
    "    list_oversampling_and_params = [\n",
    "    ('None', NoSampling(), {}, lgb_model),\n",
    "    ('c_weight', NoSampling(), {}, balanced_lgb_model),\n",
    "    ('RUS', RandomUnderSampler(sampling_strategy=\"majority\",replacement=False,random_state=i),{}, lgb_model),\n",
    "    ('ROS',  RandomOverSampler(sampling_strategy=\"minority\",random_state=i),{}, lgb_model),\n",
    "    ('NearMiss1', NearMiss(sampling_strategy=\"majority\", version=1),{}, lgb_model),\n",
    "    ('BorderlineS_1', BorderlineSMOTE(sampling_strategy=\"minority\", k_neighbors=5, kind=\"borderline-1\",random_state=i),{}, lgb_model),\n",
    "    ('BorderlineS_2',BorderlineSMOTE(sampling_strategy=\"minority\", k_neighbors=5, kind=\"borderline-2\",random_state=i),{}, lgb_model),\n",
    "    ('cv_smote', NoSampling(),{}, CVSmotelgb),\n",
    "    ('SMOTE',SMOTE(sampling_strategy=\"minority\",random_state=i),{},lgb_model),\n",
    "    ('MGS',MGS(K=10,random_state=i),{},lgb_model),\n",
    "    ('CTGAN', CtganSampler(epochs=10,generator_lr=2e-4,discriminator_lr=2e-4,random_state=i), {}, lgb_model),\n",
    "    ('ForestDiff', ForesDiffSampler(random_state=i), {}, lgb_model),\n",
    "    ]\n",
    "    splitter_stratified = StratifiedKFold(n_splits=5,shuffle=True,random_state=100+i)\n",
    "    name_file = init_name_file + str(i) +'.npy'\n",
    "    run_eval(output_dir=output_dir_path,name_file=name_file,X=X_bcw_10,y=y_bcw_10,\n",
    "             list_oversampling_and_params=list_oversampling_and_params,\n",
    "             splitter=splitter_stratified)"
   ]
  },
  {
   "cell_type": "markdown",
   "id": "db3498d7",
   "metadata": {
    "jp-MarkdownHeadingCollapsed": true
   },
   "source": [
    "<center><h1  style=\"color:white; background-color:#808b96; border-radius: 10px; padding:15px;\"> Ionosphere </h1></center>"
   ]
  },
  {
   "cell_type": "markdown",
   "id": "ee59139b",
   "metadata": {},
   "source": [
    "## Run protocol :"
   ]
  },
  {
   "cell_type": "code",
   "execution_count": null,
   "id": "5e9bbdbf",
   "metadata": {},
   "outputs": [],
   "source": [
    "from data.data import load_ionosphere_data\n",
    "X_ionosphere, y_ionosphere = load_ionosphere_data()"
   ]
  },
  {
   "cell_type": "code",
   "execution_count": null,
   "id": "fe6d117f-10df-4ddc-8934-e7beefcbeb80",
   "metadata": {},
   "outputs": [],
   "source": [
    "indices_kept_20 = subsample_to_ratio_indices(X=X_ionosphere,y=y_ionosphere,ratio=0.2,seed_sub=11,\n",
    "                                           output_dir_subsampling=output_dir_path_lgbm,\n",
    "                                           name_subsampling_file='ionosphere_sub_original_to_20')\n",
    "\n",
    "indices_kept_10 = subsample_to_ratio_indices(\n",
    "    X=X_ionosphere,y=y_ionosphere,ratio=0.1,seed_sub=9,\n",
    "    output_dir_subsampling=output_dir_path_lgbm,\n",
    "    name_subsampling_file='ionosphere_sub_20_to_10',has_previous_under_sampling=True,\n",
    "    previous_under_sampling=indices_kept_20)\n",
    "\n"
   ]
  },
  {
   "cell_type": "code",
   "execution_count": null,
   "id": "aaa021e8-e4f5-4c7d-b8f1-c7e5cfe91f4f",
   "metadata": {},
   "outputs": [],
   "source": [
    "lgb_model = RandomForestClassifier(n_estimators=100,criterion='gini',n_jobs=5)\n",
    "balanced_lgb_model =  RandomForestClassifier(n_estimators=100,criterion='gini',class_weight='balanced',n_jobs=5)\n",
    "\n",
    "splitter_stratified_cv = StratifiedKFold(n_splits=5,shuffle=True,random_state=0)\n",
    "CVSmotelgb = CVSmoteModel(\n",
    "    splitter=splitter_stratified_cv,\n",
    "    model=RandomForestClassifier(n_estimators=100,criterion='gini',n_jobs=5),\n",
    "    list_k_max=15,list_k_step=1)"
   ]
  },
  {
   "cell_type": "code",
   "execution_count": null,
   "id": "be84d579-6d67-4f6c-bba3-0504eb977195",
   "metadata": {},
   "outputs": [],
   "source": [
    "output_dir_path =  \"../saved_experiments_2025_v2/not_tuned/res_ionosphere/original\" \n",
    "Path(output_dir_path).mkdir(parents=True, exist_ok=True)\n",
    "\n",
    "\n",
    "init_name_file = '2024-07-08-lgb-tuned'\n",
    "for i in range(30):\n",
    "    list_oversampling_and_params = [\n",
    "    ('None', NoSampling(), {}, lgb_model),\n",
    "    ('c_weight', NoSampling(), {}, balanced_lgb_model),\n",
    "    ('RUS', RandomUnderSampler(sampling_strategy=\"majority\",replacement=False,random_state=i),{}, lgb_model),\n",
    "    ('ROS',  RandomOverSampler(sampling_strategy=\"minority\",random_state=i),{}, lgb_model),\n",
    "    ('NearMiss1', NearMiss(sampling_strategy=\"majority\", version=1),{}, lgb_model),\n",
    "    ('BorderlineS_1', BorderlineSMOTE(sampling_strategy=\"minority\", k_neighbors=5, kind=\"borderline-1\",random_state=i),{}, lgb_model),\n",
    "    ('BorderlineS_2',BorderlineSMOTE(sampling_strategy=\"minority\", k_neighbors=5, kind=\"borderline-2\",random_state=i),{}, lgb_model),\n",
    "    ('cv_smote', NoSampling(),{}, CVSmotelgb),\n",
    "    ('SMOTE',SMOTE(sampling_strategy=\"minority\",random_state=i),{},lgb_model),\n",
    "    ('MGS',MGS(K=33,random_state=i),{},lgb_model),\n",
    "    ('CTGAN', CtganSampler(epochs=10,generator_lr=2e-4,discriminator_lr=2e-4,random_state=i), {}, lgb_model),\n",
    "    ('ForestDiff', ForesDiffSampler(random_state=i), {}, lgb_model),\n",
    "    ]\n",
    "    splitter_stratified = StratifiedKFold(n_splits=5,shuffle=True,random_state=100+i)\n",
    "    name_file = init_name_file + str(i) +'.npy'\n",
    "    run_eval(output_dir=output_dir_path,name_file=name_file,X=X_ionosphere,y=y_ionosphere,\n",
    "             list_oversampling_and_params=list_oversampling_and_params,\n",
    "             splitter=splitter_stratified)"
   ]
  },
  {
   "cell_type": "code",
   "execution_count": null,
   "id": "b1a52b4c-fbb8-4564-aa1f-84215167e520",
   "metadata": {
    "scrolled": true
   },
   "outputs": [],
   "source": [
    "output_dir_path =  \"../saved_experiments_2025_v2/not_tuned/res_ionosphere/subsample_to_20\" \n",
    "Path(output_dir_path).mkdir(parents=True, exist_ok=True)\n",
    "X_ionosphere_20, y_ionosphere_20 = read_subsampling_indices(X=X_ionosphere,y=y_ionosphere, dir_subsampling=output_dir_path_lgbm, \n",
    "                                                            name_subsampling_file='ionosphere_sub_original_to_20', get_indexes=False)\n",
    "\n",
    "init_name_file = '2024-07-08-lgb-tuned'\n",
    "for i in range(5):\n",
    "    list_oversampling_and_params = [\n",
    "    ('None', NoSampling(), {}, lgb_model),\n",
    "    ('c_weight', NoSampling(), {}, balanced_lgb_model),\n",
    "    ('RUS', RandomUnderSampler(sampling_strategy=\"majority\",replacement=False,random_state=i),{}, lgb_model),\n",
    "    ('ROS',  RandomOverSampler(sampling_strategy=\"minority\",random_state=i),{}, lgb_model),\n",
    "    ('NearMiss1', NearMiss(sampling_strategy=\"majority\", version=1),{}, lgb_model),\n",
    "    ('BorderlineS_1', BorderlineSMOTE(sampling_strategy=\"minority\", k_neighbors=5, kind=\"borderline-1\",random_state=i),{}, lgb_model),\n",
    "    ('BorderlineS_2',BorderlineSMOTE(sampling_strategy=\"minority\", k_neighbors=5, kind=\"borderline-2\",random_state=i),{}, lgb_model),\n",
    "    ('cv_smote', NoSampling(),{}, CVSmotelgb),\n",
    "    ('SMOTE',SMOTE(sampling_strategy=\"minority\",random_state=i),{},lgb_model),\n",
    "    ('MGS',MGS(K=33,random_state=i),{},lgb_model),\n",
    "    ('CTGAN', CtganSampler(epochs=10,generator_lr=2e-4,discriminator_lr=2e-4,random_state=i), {}, lgb_model),\n",
    "    ('ForestDiff', ForesDiffSampler(random_state=i), {}, lgb_model),\n",
    "    ]\n",
    "    splitter_stratified = StratifiedKFold(n_splits=5,shuffle=True,random_state=100+i)\n",
    "    name_file = init_name_file + str(i) +'.npy'\n",
    "    run_eval(output_dir=output_dir_path,name_file=name_file,X=X_ionosphere_20,y=y_ionosphere_20,\n",
    "             list_oversampling_and_params=list_oversampling_and_params,\n",
    "             splitter=splitter_stratified)"
   ]
  },
  {
   "cell_type": "code",
   "execution_count": null,
   "id": "70523aab",
   "metadata": {},
   "outputs": [],
   "source": [
    "lgb_model = RandomForestClassifier(n_estimators=100,criterion='gini',n_jobs=5)\n",
    "balanced_lgb_model =  RandomForestClassifier(n_estimators=100,criterion='gini',class_weight='balanced',n_jobs=5)\n",
    "\n",
    "splitter_stratified_cv = StratifiedKFold(n_splits=5,shuffle=True,random_state=0)\n",
    "CVSmotelgb = CVSmoteModel(\n",
    "    splitter=splitter_stratified_cv,\n",
    "    model=RandomForestClassifier(n_estimators=100,criterion='gini',n_jobs=5),\n",
    "    list_k_max=15,list_k_step=1)"
   ]
  },
  {
   "cell_type": "code",
   "execution_count": null,
   "id": "a027c8c7",
   "metadata": {},
   "outputs": [],
   "source": [
    "output_dir_path =  \"../saved_experiments_2025_v2/not_tuned/res_ionosphere/subsample_to_10\" \n",
    "Path(output_dir_path).mkdir(parents=True, exist_ok=True)\n",
    "X_ionosphere_10, y_ionosphere_10 = read_subsampling_indices(X=X_ionosphere,y=y_ionosphere, dir_subsampling=output_dir_path_lgbm, \n",
    "                                                            name_subsampling_file='ionosphere_sub_20_to_10', get_indexes=False)\n",
    "\n",
    "init_name_file = '2024-07-08-lgb-tuned'\n",
    "for i in range(2):\n",
    "    list_oversampling_and_params = [\n",
    "    ('None', NoSampling(), {}, lgb_model),\n",
    "    ('c_weight', NoSampling(), {}, balanced_lgb_model),\n",
    "    ('RUS', RandomUnderSampler(sampling_strategy=\"majority\",replacement=False,random_state=i),{}, lgb_model),\n",
    "    ('ROS',  RandomOverSampler(sampling_strategy=\"minority\",random_state=i),{}, lgb_model),\n",
    "    ('NearMiss1', NearMiss(sampling_strategy=\"majority\", version=1),{}, lgb_model),\n",
    "    ('BorderlineS_1', BorderlineSMOTE(sampling_strategy=\"minority\", k_neighbors=5, kind=\"borderline-1\",random_state=i),{}, lgb_model),\n",
    "    ('BorderlineS_2',BorderlineSMOTE(sampling_strategy=\"minority\", k_neighbors=5, kind=\"borderline-2\",random_state=i),{}, lgb_model),\n",
    "    ('cv_smote', NoSampling(),{}, CVSmotelgb),\n",
    "    ('SMOTE',SMOTE(sampling_strategy=\"minority\",random_state=i),{},lgb_model),\n",
    "    ('MGS',MGS(K=15,random_state=i),{},lgb_model),\n",
    "    ('CTGAN', CtganSampler(epochs=10,generator_lr=2e-4,discriminator_lr=2e-4,random_state=i), {}, lgb_model),\n",
    "    ('ForestDiff', ForesDiffSampler(random_state=i), {}, lgb_model),\n",
    "    ]\n",
    "    splitter_stratified = StratifiedKFold(n_splits=5,shuffle=True,random_state=100+i)\n",
    "    name_file = init_name_file + str(i) +'.npy'\n",
    "    run_eval(output_dir=output_dir_path,name_file=name_file,X=X_ionosphere_10,y=y_ionosphere_10,\n",
    "             list_oversampling_and_params=list_oversampling_and_params,\n",
    "             splitter=splitter_stratified)"
   ]
  },
  {
   "cell_type": "markdown",
   "id": "729864b3",
   "metadata": {},
   "source": [
    "<center><h1  style=\"color:white; background-color:#808b96; border-radius: 10px; padding:15px;\"> CreditCard </h1></center>"
   ]
  },
  {
   "cell_type": "markdown",
   "id": "41804b7e",
   "metadata": {},
   "source": [
    "## Run protocol :"
   ]
  },
  {
   "cell_type": "code",
   "execution_count": null,
   "id": "f323f1b9",
   "metadata": {},
   "outputs": [],
   "source": [
    "from data.data import load_credit_data\n",
    "X_credit, y_credit, meta_df_credit = load_credit_data()"
   ]
  },
  {
   "cell_type": "code",
   "execution_count": null,
   "id": "fa4047c0",
   "metadata": {},
   "outputs": [],
   "source": [
    "from validation.classif_experiments import PaperTimeSeriesSplitWithGroupOut\n",
    "from sklearn.model_selection import TimeSeriesSplit\n",
    "splitter_PTSSG = PaperTimeSeriesSplitWithGroupOut(n_splits=5, starting_split=0,meta_df=meta_df_credit,col_name_id='Time')"
   ]
  },
  {
   "cell_type": "code",
   "execution_count": null,
   "id": "186d9cfe-e777-4fd6-bfb4-f45ae918b8b0",
   "metadata": {},
   "outputs": [],
   "source": [
    "depth_max=10"
   ]
  },
  {
   "cell_type": "code",
   "execution_count": null,
   "id": "67011550-11c8-4e70-b571-ca5ec0dd0eb8",
   "metadata": {},
   "outputs": [],
   "source": [
    "smote_bagging = BalancedBaggingClassifier(sampler=SMOTE(),random_state=0)\n",
    "mgs_bagging = BalancedBaggingClassifier(sampler=MGS(K=30,random_state=0),random_state=0)"
   ]
  },
  {
   "cell_type": "code",
   "execution_count": null,
   "id": "7641df7f",
   "metadata": {},
   "outputs": [],
   "source": [
    "lgb_model = RandomForestClassifier(n_estimators=100,criterion='gini',n_jobs=5,max_depth=depth_max)\n",
    "balanced_lgb_model = RandomForestClassifier(n_estimators=100,criterion='gini',class_weight='balanced',n_jobs=5,max_depth=depth_max)\n",
    "\n",
    "splitter_stratified_cv = TimeSeriesSplit(n_splits=2,gap=3)\n",
    "CVSmotelgb = CVSmoteModel(\n",
    "    splitter=splitter_stratified_cv,\n",
    "    model=RandomForestClassifier(n_estimators=100,criterion='gini',n_jobs=5,max_depth=depth_max),\n",
    "    list_k_max=15,list_k_step=1,take_all_default_value_k=4)"
   ]
  },
  {
   "cell_type": "code",
   "execution_count": null,
   "id": "b0577d86",
   "metadata": {
    "scrolled": true
   },
   "outputs": [],
   "source": [
    "output_dir_path =  \"/home/abdoulaye_sakho/S1/th_smote/smote_strategies_study/saved_experiments_2025_v2/not_tuned/res_credit/original/depth_rus\" \n",
    "Path(output_dir_path).mkdir(parents=True, exist_ok=True)\n",
    "\n",
    "init_name_file = '2024-07-08-lgb-tuned'\n",
    "for i in range(5):\n",
    "# We do not change the splitter at each iteration here due to the temporal split\n",
    "    list_oversampling_and_params = [\n",
    "    ('None', NoSampling(), {}, lgb_model),\n",
    "    ('c_weight', NoSampling(), {}, balanced_lgb_model),\n",
    "    ('RUS', RandomUnderSampler(sampling_strategy=\"majority\",replacement=False,random_state=i),{}, lgb_model),\n",
    "    ('ROS',  RandomOverSampler(sampling_strategy=\"minority\",random_state=i),{}, lgb_model),\n",
    "    ('NearMiss1', NearMiss(sampling_strategy=\"majority\", version=1),{}, lgb_model),\n",
    "    ('BorderlineS_1', BorderlineSMOTE(sampling_strategy=\"minority\", k_neighbors=5, kind=\"borderline-1\",random_state=i),{}, lgb_model),\n",
    "    ('BorderlineS_2',BorderlineSMOTE(sampling_strategy=\"minority\", k_neighbors=5, kind=\"borderline-2\",random_state=i),{}, lgb_model),\n",
    "    ('cv_smote', NoSampling(),{}, CVSmotelgb),\n",
    "    ('SMOTE',SMOTE(sampling_strategy=\"minority\",random_state=i),{},lgb_model),\n",
    "    ('MGS',MGS(K=30,random_state=i),{},lgb_model),\n",
    "    ('CTGAN', CtganSampler(epochs=10,generator_lr=2e-4,discriminator_lr=2e-4,random_state=i), {}, lgb_model),\n",
    "    ('ForestDiff', ForesDiffSampler(random_state=i), {}, lgb_model),\n",
    "    ]\n",
    "    name_file = init_name_file + str(i) +'.npy'\n",
    "    run_eval(output_dir=output_dir_path,name_file=name_file,X=X_credit,y=y_credit,\n",
    "             list_oversampling_and_params=list_oversampling_and_params,to_shuffle=False,\n",
    "             splitter=splitter_PTSSG)"
   ]
  },
  {
   "cell_type": "markdown",
   "id": "8360608c",
   "metadata": {
    "jp-MarkdownHeadingCollapsed": true
   },
   "source": [
    "<center><h1  style=\"color:white; background-color:#808b96; border-radius: 10px; padding:15px;\"> MagicTel </h1></center>"
   ]
  },
  {
   "cell_type": "markdown",
   "id": "efe54ebd",
   "metadata": {},
   "source": [
    "## Run protocol : \n"
   ]
  },
  {
   "cell_type": "code",
   "execution_count": null,
   "id": "13dfc6f0",
   "metadata": {},
   "outputs": [],
   "source": [
    "from data.data import load_magictel_data\n",
    "X_magic,y_magic = load_magictel_data()"
   ]
  },
  {
   "cell_type": "code",
   "execution_count": null,
   "id": "f906a21b-8e5a-45ae-9c70-efc7ae4a74ad",
   "metadata": {},
   "outputs": [],
   "source": [
    "smote_bagging = BalancedBaggingClassifier(sampler=SMOTE(),random_state=0)\n",
    "mgs_bagging = BalancedBaggingClassifier(sampler=MGS(K=11,random_state=0),random_state=0)"
   ]
  },
  {
   "cell_type": "code",
   "execution_count": null,
   "id": "f0c7a73e-ccb7-483f-a6c9-43f37cdf6e35",
   "metadata": {},
   "outputs": [],
   "source": [
    "depth_max=20"
   ]
  },
  {
   "cell_type": "code",
   "execution_count": null,
   "id": "f5536aff",
   "metadata": {},
   "outputs": [],
   "source": [
    "lgb_model = RandomForestClassifier(n_estimators=100,criterion='gini',n_jobs=5,max_depth=depth_max)\n",
    "balanced_lgb_model = RandomForestClassifier(n_estimators=100,criterion='gini',class_weight='balanced',n_jobs=5,max_depth=depth_max)\n",
    "\n",
    "splitter_stratified_cv = StratifiedKFold(n_splits=5,shuffle=True,random_state=0)\n",
    "CVSmotelgb = CVSmoteModel(\n",
    "    splitter=splitter_stratified_cv,\n",
    "    model=RandomForestClassifier(n_estimators=100,criterion='gini',n_jobs=5,max_depth=depth_max),\n",
    "    list_k_max=15,list_k_step=1)"
   ]
  },
  {
   "cell_type": "code",
   "execution_count": null,
   "id": "84cc7976-9478-4514-b5de-fb472cfeb4ed",
   "metadata": {},
   "outputs": [],
   "source": [
    "X_magic_20,y_magic_20 = read_subsampling_indices(X=X_magic,y=y_magic, dir_subsampling=output_dir_path_lgbm,\n",
    "                                                 name_subsampling_file='magicTel_sub_original_to_20', get_indexes=False)"
   ]
  },
  {
   "cell_type": "code",
   "execution_count": null,
   "id": "3f6a4e12",
   "metadata": {},
   "outputs": [],
   "source": [
    "output_dir_path =  \"/home/abdoulaye_sakho/S1/th_smote/smote_strategies_study/saved_experiments_2025_v2/not_tuned/res_magic/subsample_to_20/depth_rus\" \n",
    "Path(output_dir_path).mkdir(parents=True, exist_ok=True)\n",
    "\n",
    "init_name_file = '2024-07-08-lgb-tuned'\n",
    "for i in range(20):\n",
    "    list_oversampling_and_params = [\n",
    "    ('None', NoSampling(), {}, lgb_model),\n",
    "    ('c_weight', NoSampling(), {}, balanced_lgb_model),\n",
    "    ('RUS', RandomUnderSampler(sampling_strategy=\"majority\",replacement=False,random_state=i),{}, lgb_model),\n",
    "    ('ROS',  RandomOverSampler(sampling_strategy=\"minority\",random_state=i),{}, lgb_model),\n",
    "    ('NearMiss1', NearMiss(sampling_strategy=\"majority\", version=1),{}, lgb_model),\n",
    "    ('BorderlineS_1', BorderlineSMOTE(sampling_strategy=\"minority\", k_neighbors=5, kind=\"borderline-1\",random_state=i),{}, lgb_model),\n",
    "    ('BorderlineS_2',BorderlineSMOTE(sampling_strategy=\"minority\", k_neighbors=5, kind=\"borderline-2\",random_state=i),{}, lgb_model),\n",
    "    ('cv_smote', NoSampling(),{}, CVSmotelgb),\n",
    "    ('SMOTE',SMOTE(sampling_strategy=\"minority\",random_state=i),{},lgb_model),\n",
    "    ('MGS',MGS(K=11,random_state=i),{},lgb_model),\n",
    "    ('CTGAN', CtganSampler(epochs=10,generator_lr=2e-4,discriminator_lr=2e-4,random_state=i), {}, lgb_model),\n",
    "    ('ForestDiff', ForesDiffSampler(random_state=i), {}, lgb_model),\n",
    "    #('SMOTEBagging', NoSampling(), {}, smote_bagging),\n",
    "    #('MGSBagging', NoSampling(), {}, mgs_bagging),\n",
    "    #('SMOTEBoost', NoSampling(), {}, smote_boost),\n",
    "    ]\n",
    "    splitter_stratified = StratifiedKFold(n_splits=5,shuffle=True,random_state=100+i)\n",
    "    name_file = init_name_file + str(i) +'.npy'\n",
    "    run_eval(output_dir=output_dir_path,name_file=name_file,X=X_magic_20,y=y_magic_20,\n",
    "             list_oversampling_and_params=list_oversampling_and_params,\n",
    "             splitter=splitter_stratified)"
   ]
  },
  {
   "cell_type": "markdown",
   "id": "fab53a5d",
   "metadata": {
    "jp-MarkdownHeadingCollapsed": true
   },
   "source": [
    "<center><h1  style=\"color:white; background-color:#808b96; border-radius: 10px; padding:15px;\"> California </h1></center>"
   ]
  },
  {
   "cell_type": "code",
   "execution_count": null,
   "id": "88f5f463",
   "metadata": {},
   "outputs": [],
   "source": [
    "from data.data import load_california_data\n",
    "X_california,y_california = load_california_data()"
   ]
  },
  {
   "cell_type": "code",
   "execution_count": null,
   "id": "520ddad8-0321-43b8-8482-ab2d37ea00c1",
   "metadata": {},
   "outputs": [],
   "source": [
    "smote_bagging = BalancedBaggingClassifier(sampler=SMOTE(),random_state=0)\n",
    "mgs_bagging = BalancedBaggingClassifier(sampler=MGS(K=9,random_state=0),random_state=0)"
   ]
  },
  {
   "cell_type": "code",
   "execution_count": null,
   "id": "febb8589-a587-4d67-8e5a-a80ad7025d84",
   "metadata": {},
   "outputs": [],
   "source": [
    "depth_max=None"
   ]
  },
  {
   "cell_type": "code",
   "execution_count": null,
   "id": "fe0a365d",
   "metadata": {},
   "outputs": [],
   "source": [
    "lgb_model = RandomForestClassifier(n_estimators=100,criterion='gini',n_jobs=5,max_depth=depth_max)\n",
    "balanced_lgb_model = RandomForestClassifier(n_estimators=100,criterion='gini',class_weight='balanced',n_jobs=5,max_depth=depth_max)\n",
    "\n",
    "splitter_stratified_cv = StratifiedKFold(n_splits=5,shuffle=True,random_state=0)\n",
    "CVSmotelgb = CVSmoteModel(\n",
    "    splitter=splitter_stratified_cv,\n",
    "    model=RandomForestClassifier(n_estimators=100,criterion='gini',n_jobs=5,max_depth=depth_max),\n",
    "    list_k_max=15,list_k_step=1)"
   ]
  },
  {
   "cell_type": "code",
   "execution_count": null,
   "id": "d68f0406-09fe-4e54-b8dd-3a133be65239",
   "metadata": {},
   "outputs": [],
   "source": [
    "X_california_1,y_california_1 = read_subsampling_indices(X=X_california,y=y_california, dir_subsampling=output_dir_path_lgbm, \n",
    "                                                         name_subsampling_file='california_sub_10_to_1', get_indexes=False)\n",
    "output_dir_path =  \"/home/abdoulaye_sakho/S1/th_smote/smote_strategies_study/saved_experiments_2025_v2/not_tuned/res_california/subsample_to_1\" \n",
    "Path(output_dir_path).mkdir(parents=True, exist_ok=True)\n",
    "\n",
    "init_name_file = '2024-07-08-lgb-tuned'\n",
    "for i in range(20):\n",
    "    list_oversampling_and_params = [\n",
    "    ('None', NoSampling(), {}, lgb_model),\n",
    "    ('c_weight', NoSampling(), {}, balanced_lgb_model),\n",
    "    ('RUS', RandomUnderSampler(sampling_strategy=\"majority\",replacement=False,random_state=i),{}, lgb_model),\n",
    "    ('ROS',  RandomOverSampler(sampling_strategy=\"minority\",random_state=i),{}, lgb_model),\n",
    "    ('NearMiss1', NearMiss(sampling_strategy=\"majority\", version=1),{}, lgb_model),\n",
    "    ('BorderlineS_1', BorderlineSMOTE(sampling_strategy=\"minority\", k_neighbors=5, kind=\"borderline-1\",random_state=i),{}, lgb_model),\n",
    "    ('BorderlineS_2',BorderlineSMOTE(sampling_strategy=\"minority\", k_neighbors=5, kind=\"borderline-2\",random_state=i),{}, lgb_model),\n",
    "    ('cv_smote', NoSampling(),{}, CVSmotelgb),\n",
    "    ('SMOTE',SMOTE(sampling_strategy=\"minority\",random_state=i),{},lgb_model),\n",
    "    ('MGS',MGS(K=9,random_state=i),{},lgb_model),\n",
    "    ('CTGAN', CtganSampler(epochs=10,generator_lr=2e-4,discriminator_lr=2e-4,random_state=i), {}, lgb_model),\n",
    "    ('ForestDiff', ForesDiffSampler(random_state=i), {}, lgb_model),\n",
    "    #('SMOTEBagging', NoSampling(), {}, smote_bagging),\n",
    "    #('MGSBagging', NoSampling(), {}, mgs_bagging),\n",
    "    #('SMOTEBoost', NoSampling(), {}, smote_boost),\n",
    "    ]\n",
    "    splitter_stratified = StratifiedKFold(n_splits=5,shuffle=True,random_state=100+i)\n",
    "    name_file = init_name_file + str(i) +'.npy'\n",
    "    run_eval(output_dir=output_dir_path,name_file=name_file,X=X_california_1,y=y_california_1,\n",
    "             list_oversampling_and_params=list_oversampling_and_params,\n",
    "             splitter=splitter_stratified)"
   ]
  },
  {
   "cell_type": "code",
   "execution_count": null,
   "id": "f2cf9128-627b-47c6-9467-5ed8e7889c1a",
   "metadata": {},
   "outputs": [],
   "source": []
  },
  {
   "cell_type": "code",
   "execution_count": null,
   "id": "14a83dac-2cc0-4d23-8fde-cb6bbca428f8",
   "metadata": {},
   "outputs": [],
   "source": [
    "X_california_20,y_california_20 = read_subsampling_indices(X=X_california,y=y_california, dir_subsampling=output_dir_path_lgbm, \n",
    "                                                         name_subsampling_file='california_sub_original_to_20', get_indexes=False)\n",
    "output_dir_path =  \"/home/abdoulaye_sakho/S1/th_smote/smote_strategies_study/saved_experiments_2025_v2/not_tuned/res_california/subsample_to_20/\" \n",
    "Path(output_dir_path).mkdir(parents=True, exist_ok=True)\n",
    "\n",
    "init_name_file = '2024-07-08-lgb-tuned'\n",
    "for i in range(20):\n",
    "    list_oversampling_and_params = [\n",
    "    ('None', NoSampling(), {}, lgb_model),\n",
    "    ('c_weight', NoSampling(), {}, balanced_lgb_model),\n",
    "    ('RUS', RandomUnderSampler(sampling_strategy=\"majority\",replacement=False,random_state=i),{}, lgb_model),\n",
    "    ('ROS',  RandomOverSampler(sampling_strategy=\"minority\",random_state=i),{}, lgb_model),\n",
    "    ('NearMiss1', NearMiss(sampling_strategy=\"majority\", version=1),{}, lgb_model),\n",
    "    ('BorderlineS_1', BorderlineSMOTE(sampling_strategy=\"minority\", k_neighbors=5, kind=\"borderline-1\",random_state=i),{}, lgb_model),\n",
    "    ('BorderlineS_2',BorderlineSMOTE(sampling_strategy=\"minority\", k_neighbors=5, kind=\"borderline-2\",random_state=i),{}, lgb_model),\n",
    "    ('cv_smote', NoSampling(),{}, CVSmotelgb),\n",
    "    ('SMOTE',SMOTE(sampling_strategy=\"minority\",random_state=i),{},lgb_model),\n",
    "    ('MGS',MGS(K=9,random_state=i),{},lgb_model),\n",
    "    ('CTGAN', CtganSampler(epochs=10,generator_lr=2e-4,discriminator_lr=2e-4,random_state=i), {}, lgb_model),\n",
    "    ('ForestDiff', ForesDiffSampler(random_state=i), {}, lgb_model),\n",
    "    ('SMOTEBagging', NoSampling(), {}, smote_bagging),\n",
    "    ('MGSBagging', NoSampling(), {}, mgs_bagging),\n",
    "    #('SMOTEBoost', NoSampling(), {}, smote_boost),\n",
    "    ]\n",
    "    splitter_stratified = StratifiedKFold(n_splits=5,shuffle=True,random_state=100+i)\n",
    "    name_file = init_name_file + str(i) +'.npy'\n",
    "    run_eval(output_dir=output_dir_path,name_file=name_file,X=X_california_20,y=y_california_20,\n",
    "             list_oversampling_and_params=list_oversampling_and_params,\n",
    "             splitter=splitter_stratified)"
   ]
  },
  {
   "cell_type": "code",
   "execution_count": null,
   "id": "c0de2711-0d84-46f8-8a89-8132b1ad5617",
   "metadata": {},
   "outputs": [],
   "source": [
    "X_california_10,y_california_10 = read_subsampling_indices(X=X_california,y=y_california, dir_subsampling=output_dir_path_lgbm, \n",
    "                                                         name_subsampling_file='california_sub_20_to_10', get_indexes=False)\n",
    "output_dir_path =  \"/home/abdoulaye_sakho/S1/th_smote/smote_strategies_study/saved_experiments_2025_v2/not_tuned/res_california/subsample_to_10/\" \n",
    "Path(output_dir_path).mkdir(parents=True, exist_ok=True)\n",
    "\n",
    "init_name_file = '2024-07-08-lgb-tuned'\n",
    "for i in range(20):\n",
    "    list_oversampling_and_params = [\n",
    "    ('None', NoSampling(), {}, lgb_model),\n",
    "    ('c_weight', NoSampling(), {}, balanced_lgb_model),\n",
    "    ('RUS', RandomUnderSampler(sampling_strategy=\"majority\",replacement=False,random_state=i),{}, lgb_model),\n",
    "    ('ROS',  RandomOverSampler(sampling_strategy=\"minority\",random_state=i),{}, lgb_model),\n",
    "    ('NearMiss1', NearMiss(sampling_strategy=\"majority\", version=1),{}, lgb_model),\n",
    "    ('BorderlineS_1', BorderlineSMOTE(sampling_strategy=\"minority\", k_neighbors=5, kind=\"borderline-1\",random_state=i),{}, lgb_model),\n",
    "    ('BorderlineS_2',BorderlineSMOTE(sampling_strategy=\"minority\", k_neighbors=5, kind=\"borderline-2\",random_state=i),{}, lgb_model),\n",
    "    ('cv_smote', NoSampling(),{}, CVSmotelgb),\n",
    "    ('SMOTE',SMOTE(sampling_strategy=\"minority\",random_state=i),{},lgb_model),\n",
    "    ('MGS',MGS(K=9,random_state=i),{},lgb_model),\n",
    "    ('CTGAN', CtganSampler(epochs=10,generator_lr=2e-4,discriminator_lr=2e-4,random_state=i), {}, lgb_model),\n",
    "    ('ForestDiff', ForesDiffSampler(random_state=i), {}, lgb_model),\n",
    "    ('SMOTEBagging', NoSampling(), {}, smote_bagging),\n",
    "    ('MGSBagging', NoSampling(), {}, mgs_bagging),\n",
    "    #('SMOTEBoost', NoSampling(), {}, smote_boost),\n",
    "    ]\n",
    "    splitter_stratified = StratifiedKFold(n_splits=5,shuffle=True,random_state=100+i)\n",
    "    name_file = init_name_file + str(i) +'.npy'\n",
    "    run_eval(output_dir=output_dir_path,name_file=name_file,X=X_california_10,y=y_california_10,\n",
    "             list_oversampling_and_params=list_oversampling_and_params,\n",
    "             splitter=splitter_stratified)"
   ]
  },
  {
   "cell_type": "markdown",
   "id": "46cfac40",
   "metadata": {},
   "source": [
    "<center><h1  style=\"color:white; background-color:#808b96; border-radius: 10px; padding:15px;\"> House_16H </h1></center>"
   ]
  },
  {
   "cell_type": "code",
   "execution_count": null,
   "id": "6d25cd84",
   "metadata": {},
   "outputs": [],
   "source": [
    "from data.data import load_house_data\n",
    "X_house,y_house = load_house_data()"
   ]
  },
  {
   "cell_type": "code",
   "execution_count": null,
   "id": "0e58a0a1-fc17-43cd-9659-42ea6229e45b",
   "metadata": {},
   "outputs": [],
   "source": [
    "smote_bagging = BalancedBaggingClassifier(sampler=SMOTE(),random_state=0)\n",
    "mgs_bagging = BalancedBaggingClassifier(sampler=MGS(K=17,random_state=0),random_state=0)"
   ]
  },
  {
   "cell_type": "code",
   "execution_count": null,
   "id": "0b580c82",
   "metadata": {},
   "outputs": [],
   "source": [
    "lgb_model = RandomForestClassifier(n_estimators=100,criterion='gini',n_jobs=5)\n",
    "balanced_lgb_model = RandomForestClassifier(n_estimators=100,criterion='gini',class_weight='balanced',n_jobs=5)\n",
    "\n",
    "splitter_stratified_cv = StratifiedKFold(n_splits=5,shuffle=True,random_state=0)\n",
    "CVSmotelgb = CVSmoteModel(\n",
    "    splitter=splitter_stratified_cv,\n",
    "    model=RandomForestClassifier(n_estimators=100,criterion='gini',n_jobs=5),\n",
    "    list_k_max=15,list_k_step=1)"
   ]
  },
  {
   "cell_type": "code",
   "execution_count": null,
   "id": "054f294b-754d-43c8-b155-7a48ef8ed649",
   "metadata": {
    "scrolled": true
   },
   "outputs": [],
   "source": [
    "output_dir_path =  \"/home/abdoulaye_sakho/S1/th_smote/smote_strategies_study/saved_experiments_2025_v2/not_tuned/res_house/subsample_to_1/\" \n",
    "Path(output_dir_path).mkdir(parents=True, exist_ok=True)\n",
    "X_house_1,y_house_1 = read_subsampling_indices(X=X_house,y=y_house, dir_subsampling=output_dir_path_lgbm, \n",
    "                                               name_subsampling_file='house16_sub_10_to_1', get_indexes=False)\n",
    "\n",
    "init_name_file = '2024-07-08-lgb-tuned'\n",
    "for i in range(20):\n",
    "    list_oversampling_and_params = [\n",
    "    ('None', NoSampling(), {}, lgb_model),\n",
    "    ('c_weight', NoSampling(), {}, balanced_lgb_model),\n",
    "    ('RUS', RandomUnderSampler(sampling_strategy=\"majority\",replacement=False,random_state=i),{}, lgb_model),\n",
    "    ('ROS',  RandomOverSampler(sampling_strategy=\"minority\",random_state=i),{}, lgb_model),\n",
    "    ('NearMiss1', NearMiss(sampling_strategy=\"majority\", version=1),{}, lgb_model),\n",
    "    ('BorderlineS_1', BorderlineSMOTE(sampling_strategy=\"minority\", k_neighbors=5, kind=\"borderline-1\",random_state=i),{}, lgb_model),\n",
    "    ('BorderlineS_2',BorderlineSMOTE(sampling_strategy=\"minority\", k_neighbors=5, kind=\"borderline-2\",random_state=i),{}, lgb_model),\n",
    "    ('cv_smote', NoSampling(),{}, CVSmotelgb),\n",
    "    ('SMOTE',SMOTE(sampling_strategy=\"minority\",random_state=i),{},lgb_model),\n",
    "    ('MGS',MGS(K=17,random_state=i),{},lgb_model),\n",
    "    ('CTGAN', CtganSampler(epochs=10,generator_lr=2e-4,discriminator_lr=2e-4,random_state=i), {}, lgb_model),\n",
    "    ('ForestDiff', ForesDiffSampler(random_state=i), {}, lgb_model),\n",
    "    #('SMOTEBagging', NoSampling(), {}, smote_bagging),\n",
    "    #('MGSBagging', NoSampling(), {}, mgs_bagging),\n",
    "    #('SMOTEBoost', NoSampling(), {}, smote_boost),\n",
    "    ]\n",
    "    splitter_stratified = StratifiedKFold(n_splits=5,shuffle=True,random_state=100+i)\n",
    "    name_file = init_name_file + str(i) +'.npy'\n",
    "    run_eval(output_dir=output_dir_path,name_file=name_file,X=X_house_1,y=y_house_1,\n",
    "             list_oversampling_and_params=list_oversampling_and_params,\n",
    "             splitter=splitter_stratified)"
   ]
  },
  {
   "cell_type": "code",
   "execution_count": null,
   "id": "37092968-276b-4d6d-86a2-c1099986d465",
   "metadata": {},
   "outputs": [],
   "source": [
    "output_dir_path =  \"/home/abdoulaye_sakho/S1/th_smote/smote_strategies_study/saved_experiments_2025_v2/not_tuned/res_house/subsample_to_20/\" \n",
    "Path(output_dir_path).mkdir(parents=True, exist_ok=True)\n",
    "X_house_20,y_house_20 = read_subsampling_indices(X=X_house,y=y_house, dir_subsampling=output_dir_path_lgbm, \n",
    "                                               name_subsampling_file='house16_sub_original_to_20', get_indexes=False)\n",
    "\n",
    "init_name_file = '2024-07-08-lgb-tuned'\n",
    "for i in range(20):\n",
    "    list_oversampling_and_params = [\n",
    "    ('None', NoSampling(), {}, lgb_model),\n",
    "    ('c_weight', NoSampling(), {}, balanced_lgb_model),\n",
    "    ('RUS', RandomUnderSampler(sampling_strategy=\"majority\",replacement=False,random_state=i),{}, lgb_model),\n",
    "    ('ROS',  RandomOverSampler(sampling_strategy=\"minority\",random_state=i),{}, lgb_model),\n",
    "    ('NearMiss1', NearMiss(sampling_strategy=\"majority\", version=1),{}, lgb_model),\n",
    "    ('BorderlineS_1', BorderlineSMOTE(sampling_strategy=\"minority\", k_neighbors=5, kind=\"borderline-1\",random_state=i),{}, lgb_model),\n",
    "    ('BorderlineS_2',BorderlineSMOTE(sampling_strategy=\"minority\", k_neighbors=5, kind=\"borderline-2\",random_state=i),{}, lgb_model),\n",
    "    ('cv_smote', NoSampling(),{}, CVSmotelgb),\n",
    "    ('SMOTE',SMOTE(sampling_strategy=\"minority\",random_state=i),{},lgb_model),\n",
    "    ('MGS',MGS(K=17,random_state=i),{},lgb_model),\n",
    "    ('CTGAN', CtganSampler(epochs=10,generator_lr=2e-4,discriminator_lr=2e-4,random_state=i), {}, lgb_model),\n",
    "    ('ForestDiff', ForesDiffSampler(random_state=i), {}, lgb_model),\n",
    "    #('SMOTEBagging', NoSampling(), {}, smote_bagging),\n",
    "    #('MGSBagging', NoSampling(), {}, mgs_bagging),\n",
    "    #('SMOTEBoost', NoSampling(), {}, smote_boost),\n",
    "    ]\n",
    "    splitter_stratified = StratifiedKFold(n_splits=5,shuffle=True,random_state=100+i)\n",
    "    name_file = init_name_file + str(i) +'.npy'\n",
    "    run_eval(output_dir=output_dir_path,name_file=name_file,X=X_house_20,y=y_house_20,\n",
    "             list_oversampling_and_params=list_oversampling_and_params,\n",
    "             splitter=splitter_stratified)"
   ]
  },
  {
   "cell_type": "code",
   "execution_count": null,
   "id": "479444e7-a615-46b8-9c24-0b543e322855",
   "metadata": {},
   "outputs": [],
   "source": [
    "output_dir_path =  \"/home/abdoulaye_sakho/S1/th_smote/smote_strategies_study/saved_experiments_2025_v2/not_tuned/res_house/subsample_to_10/\" \n",
    "Path(output_dir_path).mkdir(parents=True, exist_ok=True)\n",
    "X_house_10,y_house_10 = read_subsampling_indices(X=X_house,y=y_house, dir_subsampling=output_dir_path_lgbm, \n",
    "                                               name_subsampling_file='house16_sub_20_to_10', get_indexes=False)\n",
    "\n",
    "init_name_file = '2024-07-08-lgb-tuned'\n",
    "for i in range(3):\n",
    "    list_oversampling_and_params = [\n",
    "    ('None', NoSampling(), {}, lgb_model),\n",
    "    ('c_weight', NoSampling(), {}, balanced_lgb_model),\n",
    "    ('RUS', RandomUnderSampler(sampling_strategy=\"majority\",replacement=False,random_state=i),{}, lgb_model),\n",
    "    ('ROS',  RandomOverSampler(sampling_strategy=\"minority\",random_state=i),{}, lgb_model),\n",
    "    ('NearMiss1', NearMiss(sampling_strategy=\"majority\", version=1),{}, lgb_model),\n",
    "    ('BorderlineS_1', BorderlineSMOTE(sampling_strategy=\"minority\", k_neighbors=5, kind=\"borderline-1\",random_state=i),{}, lgb_model),\n",
    "    ('BorderlineS_2',BorderlineSMOTE(sampling_strategy=\"minority\", k_neighbors=5, kind=\"borderline-2\",random_state=i),{}, lgb_model),\n",
    "    ('cv_smote', NoSampling(),{}, CVSmotelgb),\n",
    "    ('SMOTE',SMOTE(sampling_strategy=\"minority\",random_state=i),{},lgb_model),\n",
    "    ('MGS',MGS(K=17,random_state=i),{},lgb_model),\n",
    "    ('CTGAN', CtganSampler(epochs=10,generator_lr=2e-4,discriminator_lr=2e-4,random_state=i), {}, lgb_model),\n",
    "    ('ForestDiff', ForesDiffSampler(random_state=i), {}, lgb_model),\n",
    "    #('SMOTEBagging', NoSampling(), {}, smote_bagging),\n",
    "    #('MGSBagging', NoSampling(), {}, mgs_bagging),\n",
    "    #('SMOTEBoost', NoSampling(), {}, smote_boost),\n",
    "    ]\n",
    "    splitter_stratified = StratifiedKFold(n_splits=5,shuffle=True,random_state=100+i)\n",
    "    name_file = init_name_file + str(i) +'.npy'\n",
    "    run_eval(output_dir=output_dir_path,name_file=name_file,X=X_house_10,y=y_house_10,\n",
    "             list_oversampling_and_params=list_oversampling_and_params,\n",
    "             splitter=splitter_stratified)"
   ]
  },
  {
   "cell_type": "markdown",
   "id": "cffa5f41",
   "metadata": {},
   "source": [
    "<center><h1  style=\"color:white; background-color:#008b96; border-radius: 10px; padding:15px;\"> END </h1></center>"
   ]
  }
 ],
 "metadata": {
  "kernelspec": {
   "display_name": "Python 3 (ipykernel)",
   "language": "python",
   "name": "python3"
  },
  "language_info": {
   "codemirror_mode": {
    "name": "ipython",
    "version": 3
   },
   "file_extension": ".py",
   "mimetype": "text/x-python",
   "name": "python",
   "nbconvert_exporter": "python",
   "pygments_lexer": "ipython3",
   "version": "3.11.9"
  }
 },
 "nbformat": 4,
 "nbformat_minor": 5
}

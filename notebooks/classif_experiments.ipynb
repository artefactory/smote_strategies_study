{
 "cells": [
  {
   "cell_type": "markdown",
   "id": "d23ef583",
   "metadata": {},
   "source": [
    "<center><h1  style=\"color:white; background-color:#000000; border-radius: 0px; padding:25px;\"> Theoretical study of SMOTE : </h1></center>"
   ]
  },
  {
   "cell_type": "markdown",
   "id": "290db701",
   "metadata": {},
   "source": [
    "This notebook highlights the protocols used for the numerical illustrations of the Paper named \"Theoretical and experimental study of SMOTE: limitations and comparisons of rebalancing strategies\".\n",
    "The classification protocol is used here."
   ]
  },
  {
   "cell_type": "code",
   "execution_count": null,
   "id": "d3b46d90",
   "metadata": {},
   "outputs": [],
   "source": [
    "import os\n",
    "import sys\n",
    "sys.path.insert(1, os.path.abspath(os.path.join(os.getcwd(), os.pardir)))\n",
    "from pathlib import Path\n",
    "\n",
    "\n",
    "from sklearn.ensemble import RandomForestClassifier\n",
    "from sklearn.linear_model import LogisticRegression\n",
    "from sklearn.model_selection import GridSearchCV\n",
    "from sklearn.model_selection import StratifiedKFold\n",
    "from sklearn.model_selection import TimeSeriesSplit\n",
    "\n",
    "from oversampling_strategies.oversampling_strategies import MGS\n",
    "from oversampling_strategies.oversampling_strategies import NoSampling \n",
    "from oversampling_strategies.oversampling_strategies import CVSmoteModel\n",
    "from oversampling_strategies.oversampling_strategies import BS_imb\n",
    "from oversampling_strategies.oversampling_strategies import RUS_imb\n",
    "from oversampling_strategies.oversampling_strategies import ROS_imb\n",
    "from oversampling_strategies.oversampling_strategies import NM1_imb\n",
    "\n",
    "from validation.classif_experiments import run_eval\n",
    "from validation.classif_experiments import subsample_to_ratio_indices"
   ]
  },
  {
   "cell_type": "code",
   "execution_count": null,
   "id": "aa869e32",
   "metadata": {},
   "outputs": [],
   "source": [
    "output_dir_path = os.path.join(os.path.abspath(os.path.join(os.getcwd(), os.pardir)), 'saved_experiments') ## Fill it\n",
    "Path(output_dir_path).mkdir(parents=True, exist_ok=True)\n",
    "output_dir_path"
   ]
  },
  {
   "cell_type": "markdown",
   "id": "b64bf0a2",
   "metadata": {},
   "source": [
    "<center><h1  style=\"color:white; background-color:#808b96; border-radius: 10px; padding:15px;\"> Pima </h1></center>"
   ]
  },
  {
   "cell_type": "code",
   "execution_count": null,
   "id": "cb97401d-c0e4-409d-8f94-80c5dc6a00f9",
   "metadata": {},
   "outputs": [],
   "source": [
    "os.path.join(os.path.abspath(os.path.join(os.getcwd(), os.pardir)), 'data','externals', 'abalone.data')"
   ]
  },
  {
   "cell_type": "markdown",
   "id": "ab43b2e1",
   "metadata": {},
   "source": [
    "## Run protocol :"
   ]
  },
  {
   "cell_type": "code",
   "execution_count": null,
   "id": "934beb33",
   "metadata": {},
   "outputs": [],
   "source": [
    "from data.data import load_pima_data\n",
    "X_pima, y_pima = load_pima_data()"
   ]
  },
  {
   "cell_type": "code",
   "execution_count": null,
   "id": "b75feae0",
   "metadata": {},
   "outputs": [],
   "source": [
    "\n",
    "\n",
    "indices_kept_20 = subsample_to_ratio_indices(X=X_pima,y=y_pima,ratio=0.2,seed_sub=15,\n",
    "                                           output_dir_subsampling=output_dir_path,\n",
    "                                           name_subsampling_file='pima_sub_original_to_20')\n",
    "\n",
    "indices_kept_10 = subsample_to_ratio_indices(X=X_pima,y=y_pima,ratio=0.1,seed_sub=9,\n",
    "                                             output_dir_subsampling=output_dir_path,\n",
    "                                             name_subsampling_file='pima_sub_20_to_10',has_previous_under_sampling=True,\n",
    "                                               previous_under_sampling=indices_kept_20)\n",
    "\n",
    "X_pima_10,y_pima_10 = X_pima[indices_kept_10,:],y_pima[indices_kept_10]"
   ]
  },
  {
   "cell_type": "code",
   "execution_count": null,
   "id": "171f6ed2",
   "metadata": {},
   "outputs": [],
   "source": [
    "RF = RandomForestClassifier(n_estimators=100,criterion='gini',n_jobs=5)\n",
    "RF2 = RandomForestClassifier(n_estimators=100,criterion='gini',class_weight='balanced',n_jobs=5)\n",
    "\n",
    "splitter_stratified_cv = StratifiedKFold(n_splits=5,shuffle=True,random_state=None)\n",
    "CVSmoteRF = CVSmoteModel(\n",
    "    splitter=splitter_stratified_cv,\n",
    "    model=RandomForestClassifier(n_estimators=100,criterion='gini',n_jobs=5),\n",
    "    list_k_max=15,list_k_step=1)\n",
    "\n",
    "list_depth = [4,8,12]\n",
    "grid_RF = GridSearchCV(estimator=RandomForestClassifier(n_estimators=100,criterion='gini',n_jobs=10),\n",
    "             param_grid={'max_depth': list_depth }, scoring='roc_auc')\n",
    "\n",
    "list_oversampling_and_params = [\n",
    "    ('None', NoSampling(), {}, RF),\n",
    "    ('MGS',MGS(K=5,n_points=5,llambda=1.0),{},RF),\n",
    "    ('cv_smote', NoSampling(),{}, CVSmoteRF),\n",
    "    ('RUS', RUS_imb(),{}, RF),\n",
    "    ('ROS', ROS_imb(),{}, RF),\n",
    "    ('c_weight', NoSampling(), {}, RF2),\n",
    "    ('NearMiss1', NM1_imb(),{}, RF),\n",
    "    ('BorderlineS_1', BS_imb(),{'K':5,'kind':\"borderline-1\"}, RF),\n",
    "    ('BorderlineS_2', BS_imb(),{'K':5,'kind':\"borderline-2\"}, RF),\n",
    "    ('None_tuned_depth', NoSampling(), {}, grid_RF),\n",
    "]"
   ]
  },
  {
   "cell_type": "code",
   "execution_count": null,
   "id": "2a653b72",
   "metadata": {},
   "outputs": [],
   "source": [
    "init_name_file = '2024-02-14-RF100_pima_depthNone_test'\n",
    "for i in range(2):\n",
    "    splitter_stratified = StratifiedKFold(n_splits=5,shuffle=True,random_state=100+i)\n",
    "    name_file = init_name_file + str(i) +'.npy'\n",
    "    run_eval(output_dir=output_dir_path,name_file=name_file,X=X_pima_10,y=y_pima_10,\n",
    "             list_oversampling_and_params=list_oversampling_and_params,\n",
    "             splitter=splitter_stratified)"
   ]
  },
  {
   "cell_type": "markdown",
   "id": "57dd83eb",
   "metadata": {},
   "source": [
    "## Compute metrics :"
   ]
  },
  {
   "cell_type": "code",
   "execution_count": null,
   "id": "d402fa85",
   "metadata": {},
   "outputs": [],
   "source": [
    "from sklearn.metrics import precision_score\n",
    "from sklearn.metrics import recall_score\n",
    "from sklearn.metrics import roc_auc_score\n",
    "\n",
    "from validation.classif_experiments import compute_metrics_several_protocols"
   ]
  },
  {
   "cell_type": "code",
   "execution_count": null,
   "id": "ded77f18",
   "metadata": {},
   "outputs": [],
   "source": [
    "list_metric = [\n",
    "    (precision_score,'precision','pred'),\n",
    "    (recall_score,'recall','pred'),\n",
    "    (roc_auc_score,'roc_auc','proba')\n",
    "]"
   ]
  },
  {
   "cell_type": "code",
   "execution_count": null,
   "id": "544c9de6",
   "metadata": {},
   "outputs": [],
   "source": [
    "df_final_mean_pima,df_final_std_pima = compute_metrics_several_protocols(\n",
    "    output_dir=output_dir_path,\n",
    "    init_name_file='2024-02-14-RF100_pima_depthNone_test',\n",
    "    list_metric=list_metric,\n",
    "    bool_roc_auc_only=True,n_iter=2)\n",
    "\n",
    "df_final_mean_pima"
   ]
  },
  {
   "cell_type": "markdown",
   "id": "45bf2347",
   "metadata": {},
   "source": [
    "<center><h1  style=\"color:white; background-color:#808b96; border-radius: 10px; padding:15px;\"> Phoneme </h1></center>"
   ]
  },
  {
   "cell_type": "markdown",
   "id": "7f1e2b43",
   "metadata": {},
   "source": [
    "## Run protocol :"
   ]
  },
  {
   "cell_type": "code",
   "execution_count": null,
   "id": "33f7c3c1",
   "metadata": {},
   "outputs": [],
   "source": [
    "from data.data import load_phoneme_data\n",
    "X_phoneme, y_phoneme = load_phoneme_data()"
   ]
  },
  {
   "cell_type": "code",
   "execution_count": null,
   "id": "3db2612e",
   "metadata": {},
   "outputs": [],
   "source": [
    "indices_kept_20 = subsample_to_ratio_indices(X=X_phoneme,y=y_phoneme,ratio=0.2,seed_sub=11,\n",
    "                                           output_dir_subsampling=output_dir_path,\n",
    "                                           name_subsampling_file='phoneme_sub_original_to_20')\n",
    "\n",
    "indices_kept_10 = subsample_to_ratio_indices(\n",
    "    X=X_phoneme,y=y_phoneme,ratio=0.2,seed_sub=9,\n",
    "    output_dir_subsampling=output_dir_path,\n",
    "    name_subsampling_file='phoneme_sub_20_to_10',has_previous_under_sampling=True,\n",
    "    previous_under_sampling=indices_kept_20)\n",
    "\n",
    "indices_kept_1 = subsample_to_ratio_indices(X=X_phoneme,y=y_phoneme,ratio=0.01,seed_sub=5,\n",
    "    output_dir_subsampling=output_dir_path,\n",
    "    name_subsampling_file='phoneme_sub_10_to_1',has_previous_under_sampling=True,\n",
    "    previous_under_sampling=indices_kept_10)\n",
    "\n",
    "X_phoneme_1,y_phoneme_1 = X_phoneme[indices_kept_1,:],y_phoneme[indices_kept_1]"
   ]
  },
  {
   "cell_type": "code",
   "execution_count": null,
   "id": "9bfa0bac",
   "metadata": {},
   "outputs": [],
   "source": [
    "RF = RandomForestClassifier(n_estimators=100,criterion='gini',n_jobs=5)\n",
    "RF2 = RandomForestClassifier(n_estimators=100,criterion='gini',class_weight='balanced',n_jobs=5)\n",
    "\n",
    "splitter_stratified_cv = StratifiedKFold(n_splits=5,shuffle=True,random_state=None)\n",
    "CVSmoteRF = CVSmoteModel(\n",
    "    splitter=splitter_stratified_cv,\n",
    "    model=RandomForestClassifier(n_estimators=100,criterion='gini',n_jobs=5),\n",
    "    list_k_max=15,list_k_step=1)\n",
    "\n",
    "list_depth = [5,8,11]\n",
    "grid_RF = GridSearchCV(estimator=RandomForestClassifier(n_estimators=100,criterion='gini',n_jobs=10),\n",
    "             param_grid={'max_depth': list_depth }, scoring='roc_auc')\n",
    "\n",
    "list_oversampling_and_params = [\n",
    "    ('None', NoSampling(), {}, RF),\n",
    "    ('MGS',MGS(K=5,n_points=5,llambda=1.0),{},RF),\n",
    "    ('cv_smote', NoSampling(),{}, CVSmoteRF),\n",
    "    ('RUS', RUS_imb(),{}, RF),\n",
    "    ('ROS', ROS_imb(),{}, RF),\n",
    "    ('c_weight', NoSampling(), {}, RF2),\n",
    "    ('NearMiss1', NM1_imb(),{}, RF),\n",
    "    ('BorderlineS_1', BS_imb(),{'K':5,'kind':\"borderline-1\"}, RF),\n",
    "    ('BorderlineS_2', BS_imb(),{'K':5,'kind':\"borderline-2\"}, RF),\n",
    "    ('None_tuned_depth', NoSampling(), {}, grid_RF),\n",
    "]"
   ]
  },
  {
   "cell_type": "code",
   "execution_count": null,
   "id": "e636ca24",
   "metadata": {},
   "outputs": [],
   "source": [
    "init_name_file = '2024-02-14-RF100_phoneme_depthNone_test'\n",
    "for i in range(100):\n",
    "    splitter_stratified = StratifiedKFold(n_splits=5,shuffle=True,random_state=100+i)\n",
    "    name_file = init_name_file + str(i) +'.npy'\n",
    "    run_eval(output_dir=output_dir_path,name_file=name_file,X=X_phoneme_1,y=y_phoneme_1,\n",
    "             list_oversampling_and_params=list_oversampling_and_params,\n",
    "             splitter=splitter_stratified)"
   ]
  },
  {
   "cell_type": "markdown",
   "id": "364c49c0",
   "metadata": {},
   "source": [
    "## Compute metrics :"
   ]
  },
  {
   "cell_type": "code",
   "execution_count": null,
   "id": "9448c20c",
   "metadata": {},
   "outputs": [],
   "source": [
    "from sklearn.metrics import precision_score\n",
    "from sklearn.metrics import recall_score\n",
    "from sklearn.metrics import roc_auc_score\n",
    "\n",
    "from validation.classif_experiments import compute_metrics_several_protocols"
   ]
  },
  {
   "cell_type": "code",
   "execution_count": null,
   "id": "0875b7f0",
   "metadata": {},
   "outputs": [],
   "source": [
    "list_metric = [\n",
    "    (precision_score,'precision','pred'),\n",
    "    (recall_score,'recall','pred'),\n",
    "    (roc_auc_score,'roc_auc','proba')\n",
    "]"
   ]
  },
  {
   "cell_type": "code",
   "execution_count": null,
   "id": "b4142c5c",
   "metadata": {},
   "outputs": [],
   "source": [
    "df_final_mean_phoneme,df_final_std_phoneme = compute_metrics_several_protocols(\n",
    "    output_dir=output_dir_path,\n",
    "    init_name_file='2024-02-14-RF100_phoneme_depthNone_test',\n",
    "    list_metric=list_metric,\n",
    "    bool_roc_auc_only=True,n_iter=100)\n",
    "\n",
    "df_final_mean_phoneme"
   ]
  },
  {
   "cell_type": "markdown",
   "id": "25bcd19d",
   "metadata": {},
   "source": [
    "<center><h1  style=\"color:white; background-color:#808b96; border-radius: 10px; padding:15px;\"> Abalone </h1></center>"
   ]
  },
  {
   "cell_type": "markdown",
   "id": "28556d4e",
   "metadata": {},
   "source": [
    "## Run protocol :"
   ]
  },
  {
   "cell_type": "code",
   "execution_count": null,
   "id": "18611926",
   "metadata": {},
   "outputs": [],
   "source": [
    "from data.data import load_abalone_data\n",
    "X_abalone, y_abalone = load_abalone_data()"
   ]
  },
  {
   "cell_type": "code",
   "execution_count": null,
   "id": "ecd023ea",
   "metadata": {},
   "outputs": [],
   "source": [
    "RF = RandomForestClassifier(n_estimators=100,criterion='gini',n_jobs=5)\n",
    "RF2 = RandomForestClassifier(n_estimators=100,criterion='gini',class_weight='balanced',n_jobs=5)\n",
    "\n",
    "splitter_stratified_cv = StratifiedKFold(n_splits=5,shuffle=True,random_state=None)\n",
    "CVSmoteRF = CVSmoteModel(\n",
    "    splitter=splitter_stratified_cv,\n",
    "    model=RandomForestClassifier(n_estimators=100,criterion='gini',n_jobs=5),\n",
    "    list_k_max=15,list_k_step=1)\n",
    "\n",
    "list_depth = [3,7,10,13]\n",
    "grid_RF = GridSearchCV(estimator=RandomForestClassifier(n_estimators=100,criterion='gini',n_jobs=10),\n",
    "             param_grid={'max_depth': list_depth }, scoring='roc_auc')\n",
    "\n",
    "list_oversampling_and_params = [\n",
    "    ('None', NoSampling(), {}, RF),\n",
    "    ('MGS',MGS(K=5,n_points=5,llambda=1.0),{},RF),\n",
    "    ('cv_smote', NoSampling(),{}, CVSmoteRF),\n",
    "    ('RUS', RUS_imb(),{}, RF),\n",
    "    ('ROS', ROS_imb(),{}, RF),\n",
    "    ('c_weight', NoSampling(), {}, RF2),\n",
    "    ('NearMiss1', NM1_imb(),{}, RF),\n",
    "    ('BorderlineS_1', BS_imb(),{'K':5,'kind':\"borderline-1\"}, RF),\n",
    "    ('BorderlineS_2', BS_imb(),{'K':5,'kind':\"borderline-2\"}, RF),\n",
    "    ('None_tuned_depth', NoSampling(), {}, grid_RF),\n",
    "]"
   ]
  },
  {
   "cell_type": "code",
   "execution_count": null,
   "id": "89e72d3e",
   "metadata": {},
   "outputs": [],
   "source": [
    "init_name_file = '2024-02-14-RF100_abalone_depthNone_test'\n",
    "for i in range(100):\n",
    "    splitter_stratified = StratifiedKFold(n_splits=5,shuffle=True,random_state=100+i)\n",
    "    name_file = init_name_file + str(i) +'.npy'\n",
    "    run_eval(output_dir=output_dir_path,name_file=name_file,X=X_abalone,y=y_abalone,\n",
    "             list_oversampling_and_params=list_oversampling_and_params,\n",
    "             splitter=splitter_stratified)"
   ]
  },
  {
   "cell_type": "markdown",
   "id": "befbf814",
   "metadata": {},
   "source": [
    "## Compute metrics :"
   ]
  },
  {
   "cell_type": "code",
   "execution_count": null,
   "id": "d8bf58ba",
   "metadata": {},
   "outputs": [],
   "source": [
    "from sklearn.metrics import precision_score\n",
    "from sklearn.metrics import recall_score\n",
    "from sklearn.metrics import roc_auc_score\n",
    "\n",
    "from validation.classif_experiments import compute_metrics_several_protocols\n",
    "list_metric = [\n",
    "    (precision_score,'precision','pred'),\n",
    "    (recall_score,'recall','pred'),\n",
    "    (roc_auc_score,'roc_auc','proba')\n",
    "]"
   ]
  },
  {
   "cell_type": "code",
   "execution_count": null,
   "id": "a0f9fbc2",
   "metadata": {},
   "outputs": [],
   "source": [
    "df_final_mean_abalone,df_final_std_abalone = compute_metrics_several_protocols(\n",
    "    output_dir=output_dir_path,\n",
    "    init_name_file='2024-02-14-RF100_abalone_depthNone_test',\n",
    "    list_metric=list_metric,\n",
    "    bool_roc_auc_only=True,n_iter=100)\n",
    "\n",
    "df_final_mean_abalone"
   ]
  },
  {
   "cell_type": "markdown",
   "id": "cc84a06c",
   "metadata": {},
   "source": [
    "<center><h1  style=\"color:white; background-color:#808b96; border-radius: 10px; padding:15px;\"> Haberman </h1></center>"
   ]
  },
  {
   "cell_type": "markdown",
   "id": "112be115",
   "metadata": {},
   "source": [
    "## Run protocol :"
   ]
  },
  {
   "cell_type": "code",
   "execution_count": null,
   "id": "f8d9171a",
   "metadata": {},
   "outputs": [],
   "source": [
    "from data.data import load_haberman_data\n",
    "X_haberman,y_haberman = load_haberman_data()"
   ]
  },
  {
   "cell_type": "code",
   "execution_count": null,
   "id": "f2178b0e",
   "metadata": {},
   "outputs": [],
   "source": [
    "indices_kept_10 = subsample_to_ratio_indices(X=X_phoneme,y=y_phoneme,ratio=0.1,seed_sub=9,\n",
    "                                           output_dir_subsampling=output_dir_path,\n",
    "                                           name_subsampling_file='phoneme_sub_original_to_20')\n",
    "X_haberman_10,y_haberman_10 = X_haberman[indices_kept_10,:],y_haberman[indices_kept_10]"
   ]
  },
  {
   "cell_type": "code",
   "execution_count": null,
   "id": "f238c57a",
   "metadata": {},
   "outputs": [],
   "source": [
    "RF = RandomForestClassifier(n_estimators=100,criterion='gini',n_jobs=5)\n",
    "RF2 = RandomForestClassifier(n_estimators=100,criterion='gini',class_weight='balanced',n_jobs=5)\n",
    "\n",
    "splitter_stratified_cv = StratifiedKFold(n_splits=5,shuffle=True,random_state=None)\n",
    "CVSmoteRF = CVSmoteModel(\n",
    "    splitter=splitter_stratified_cv,\n",
    "    model=RandomForestClassifier(n_estimators=100,criterion='gini',n_jobs=5),\n",
    "    list_k_max=15,list_k_step=1)\n",
    "\n",
    "list_depth = [5,15,19,24,29,32]\n",
    "grid_RF = GridSearchCV(estimator=RandomForestClassifier(n_estimators=100,criterion='gini',n_jobs=10),\n",
    "             param_grid={'max_depth': list_depth }, scoring='roc_auc')\n",
    "\n",
    "list_oversampling_and_params = [\n",
    "    ('None', NoSampling(), {}, RF),\n",
    "    ('MGS',MGS(K=5,n_points=5,llambda=1.0),{},RF),\n",
    "    ('cv_smote', NoSampling(),{}, CVSmoteRF),\n",
    "    ('RUS', RUS_imb(),{}, RF),\n",
    "    ('ROS', ROS_imb(),{}, RF),\n",
    "    ('c_weight', NoSampling(), {}, RF2),\n",
    "    ('NearMiss1', NM1_imb(),{}, RF),\n",
    "    ('BorderlineS_1', BS_imb(),{'K':5,'kind':\"borderline-1\"}, RF),\n",
    "    ('BorderlineS_2', BS_imb(),{'K':5,'kind':\"borderline-2\"}, RF),\n",
    "    ('None_tuned_depth', NoSampling(), {}, grid_RF),\n",
    "]"
   ]
  },
  {
   "cell_type": "code",
   "execution_count": null,
   "id": "0abf5ae7",
   "metadata": {},
   "outputs": [],
   "source": [
    "init_name_file = '2024-02-14-RF100_ga4_depthNone_test'\n",
    "for i in range(100):\n",
    "    splitter_stratified = StratifiedKFold(n_splits=5,shuffle=True,random_state=100+i)\n",
    "    name_file = init_name_file + str(i) +'.npy'\n",
    "    run_eval(output_dir=output_dir_path,name_file=name_file,X=X_haberman_10,y=y_haberman_10,\n",
    "             list_oversampling_and_params=list_oversampling_and_params,\n",
    "             splitter=splitter_stratified)"
   ]
  },
  {
   "cell_type": "markdown",
   "id": "43f6a16d",
   "metadata": {},
   "source": [
    "## Compute metrics :"
   ]
  },
  {
   "cell_type": "code",
   "execution_count": null,
   "id": "5c3198d6",
   "metadata": {},
   "outputs": [],
   "source": [
    "\n",
    "from sklearn.metrics import precision_score\n",
    "from sklearn.metrics import recall_score\n",
    "from sklearn.metrics import roc_auc_score\n",
    "\n",
    "from validation.classif_experiments import compute_metrics_several_protocols\n",
    "list_metric = [\n",
    "    (precision_score,'precision','pred'),\n",
    "    (recall_score,'recall','pred'),\n",
    "    (roc_auc_score,'roc_auc','proba')\n",
    "]"
   ]
  },
  {
   "cell_type": "code",
   "execution_count": null,
   "id": "50005730",
   "metadata": {},
   "outputs": [],
   "source": [
    "df_final_mean_ga4,df_final_std_ga4 = compute_metrics_several_protocols(\n",
    "    output_dir=output_dir_path,\n",
    "    init_name_file='2024-02-14-RF100_ga4_depthNone_test',\n",
    "    list_metric=list_metric,\n",
    "    bool_roc_auc_only=True,n_iter=100)\n",
    "\n",
    "df_final_mean_ga4"
   ]
  },
  {
   "cell_type": "markdown",
   "id": "cffa5f41",
   "metadata": {},
   "source": [
    "<center><h1  style=\"color:white; background-color:#008b96; border-radius: 10px; padding:15px;\"> END </h1></center>"
   ]
  }
 ],
 "metadata": {
  "kernelspec": {
   "display_name": "Python 3 (ipykernel)",
   "language": "python",
   "name": "python3"
  },
  "language_info": {
   "codemirror_mode": {
    "name": "ipython",
    "version": 3
   },
   "file_extension": ".py",
   "mimetype": "text/x-python",
   "name": "python",
   "nbconvert_exporter": "python",
   "pygments_lexer": "ipython3",
   "version": "3.11.8"
  }
 },
 "nbformat": 4,
 "nbformat_minor": 5
}

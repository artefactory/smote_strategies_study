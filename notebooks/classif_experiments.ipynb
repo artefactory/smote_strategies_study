{
 "cells": [
  {
   "cell_type": "markdown",
   "id": "d23ef583",
   "metadata": {},
   "source": [
    "<center><h1  style=\"color:white; background-color:#000000; border-radius: 0px; padding:25px;\"> Theoretical study of SMOTE </h1></center>"
   ]
  },
  {
   "cell_type": "markdown",
   "id": "290db701",
   "metadata": {},
   "source": [
    "This notebook reproduces the numerical experiments presented in \"Theoretical and experimental study of SMOTE: limitations and comparisons of rebalancing strategies\".\n",
    "\n",
    "<ins>Experimented Datasets: </ins>\n",
    "- [Phoneme](#Phoneme)\n",
    "- Pima\n",
    "- Abalone\n",
    "- Haberman\n",
    "- Yeast\n"
   ]
  },
  {
   "cell_type": "code",
   "execution_count": null,
   "id": "d3b46d90",
   "metadata": {},
   "outputs": [],
   "source": [
    "import os\n",
    "import sys\n",
    "sys.path.insert(1, os.path.abspath(os.path.join(os.getcwd(), os.pardir)))\n",
    "from pathlib import Path\n",
    "\n",
    "\n",
    "from sklearn.ensemble import RandomForestClassifier \n",
    "from sklearn.model_selection import GridSearchCV, StratifiedKFold\n",
    "from sklearn.metrics import precision_score, recall_score, roc_auc_score\n",
    "from imblearn.under_sampling import RandomUnderSampler,NearMiss\n",
    "from imblearn.over_sampling import RandomOverSampler, SMOTE, BorderlineSMOTE\n",
    "\n",
    "\n",
    "from oversampling_strategies.oversampling_strategies import MGS, NoSampling, CVSmoteModel\n",
    "\n",
    "from validation.classif_experiments import run_eval, subsample_to_ratio_indices,read_subsampling_indices, compute_metrics_several_protocols"
   ]
  },
  {
   "cell_type": "code",
   "execution_count": null,
   "id": "aa869e32",
   "metadata": {},
   "outputs": [],
   "source": [
    "output_dir_path =  \"../saved_experiments\" ## Fill it\n",
    "Path(output_dir_path).mkdir(parents=True, exist_ok=True)\n",
    "output_dir_path"
   ]
  },
  {
   "cell_type": "markdown",
   "id": "45bf2347",
   "metadata": {},
   "source": [
    "<center><h1  style=\"color:white; background-color:#808b96; border-radius: 10px; padding:15px;\" name='Phoneme'> Phoneme</h1></center>\n",
    "\n",
    "## <a name='Phoneme'></a>"
   ]
  },
  {
   "cell_type": "markdown",
   "id": "7f1e2b43",
   "metadata": {},
   "source": [
    "## Run protocol :"
   ]
  },
  {
   "cell_type": "code",
   "execution_count": null,
   "id": "33f7c3c1",
   "metadata": {},
   "outputs": [],
   "source": [
    "from data.data import load_phoneme_data\n",
    "X_phoneme, y_phoneme = load_phoneme_data()"
   ]
  },
  {
   "cell_type": "code",
   "execution_count": null,
   "id": "3db2612e",
   "metadata": {},
   "outputs": [],
   "source": [
    "indices_kept_20 = subsample_to_ratio_indices(X=X_phoneme,y=y_phoneme,ratio=0.2,seed_sub=11,\n",
    "                                           output_dir_subsampling=output_dir_path,\n",
    "                                           name_subsampling_file='phoneme_sub_original_to_20')\n",
    "\n",
    "indices_kept_10 = subsample_to_ratio_indices(\n",
    "    X=X_phoneme,y=y_phoneme,ratio=0.1,seed_sub=9,\n",
    "    output_dir_subsampling=output_dir_path,\n",
    "    name_subsampling_file='phoneme_sub_20_to_10',has_previous_under_sampling=True,\n",
    "    previous_under_sampling=indices_kept_20)\n",
    "\n",
    "indices_kept_1 = subsample_to_ratio_indices(X=X_phoneme,y=y_phoneme,ratio=0.01,seed_sub=5,\n",
    "    output_dir_subsampling=output_dir_path,\n",
    "    name_subsampling_file='phoneme_sub_10_to_1',has_previous_under_sampling=True,\n",
    "    previous_under_sampling=indices_kept_10)"
   ]
  },
  {
   "cell_type": "code",
   "execution_count": null,
   "id": "2d14315d",
   "metadata": {},
   "outputs": [],
   "source": [
    "X_phoneme_1,y_phoneme_1 = X_phoneme[indices_kept_1,:],y_phoneme[indices_kept_1]"
   ]
  },
  {
   "cell_type": "code",
   "execution_count": null,
   "id": "9bfa0bac",
   "metadata": {},
   "outputs": [],
   "source": [
    "RF = RandomForestClassifier(n_estimators=100,criterion='gini',n_jobs=5)\n",
    "RF2 = RandomForestClassifier(n_estimators=100,criterion='gini',class_weight='balanced',n_jobs=5)\n",
    "\n",
    "splitter_stratified_cv = StratifiedKFold(n_splits=5,shuffle=True,random_state=None)\n",
    "CVSmoteRF = CVSmoteModel(\n",
    "    splitter=splitter_stratified_cv,\n",
    "    model=RandomForestClassifier(n_estimators=100,criterion='gini',n_jobs=5),\n",
    "    list_k_max=15,list_k_step=1)\n",
    "\n",
    "list_depth = [5,8,11]\n",
    "grid_RF = GridSearchCV(estimator=RandomForestClassifier(n_estimators=100,criterion='gini',n_jobs=10),\n",
    "             param_grid={'max_depth': list_depth }, scoring='roc_auc')\n",
    "\n",
    "list_oversampling_and_params = [\n",
    "    ('None', NoSampling(), {}, rf_model),\n",
    "    ('c_weight', NoSampling(), {}, balanced_rf_model),\n",
    "    ('RUS', RandomUnderSampler(sampling_strategy=\"majority\",replacement=False),{}, rf_model),\n",
    "    ('ROS',  RandomOverSampler(sampling_strategy=\"minority\"),{}, rf_model),\n",
    "    ('NearMiss1', NearMiss(sampling_strategy=\"majority\", version=1),{}, rf_model),\n",
    "    ('BorderlineS_1', BorderlineSMOTE(sampling_strategy=\"minority\", k_neighbors=5, kind=\"borderline-1\"),{}, rf_model),\n",
    "    ('BorderlineS_2',BorderlineSMOTE(sampling_strategy=\"minority\", k_neighbors=5, kind=\"borderline-2\"),{}, rf_model),\n",
    "    ('SMOTE',SMOTE(sampling_strategy=\"minority\"),{},rf_model),\n",
    "    ('cv_smote', NoSampling(),{}, CVSmoteRF),\n",
    "    ('MGS',MGS(K=5,n_points=5,llambda=1.0),{},rf_model),\n",
    "]"
   ]
  },
  {
   "cell_type": "code",
   "execution_count": null,
   "id": "e636ca24",
   "metadata": {},
   "outputs": [],
   "source": [
    "init_name_file = '2024-02-14-RF100_phoneme_depthNone_test'\n",
    "for i in range(100):\n",
    "    splitter_stratified = StratifiedKFold(n_splits=5,shuffle=True,random_state=100+i)\n",
    "    name_file = init_name_file + str(i) +'.npy'\n",
    "    run_eval(output_dir=output_dir_path,name_file=name_file,X=X_phoneme_1,y=y_phoneme_1,\n",
    "             list_oversampling_and_params=list_oversampling_and_params,\n",
    "             splitter=splitter_stratified)"
   ]
  },
  {
   "cell_type": "markdown",
   "id": "364c49c0",
   "metadata": {},
   "source": [
    "## Compute metrics :"
   ]
  },
  {
   "cell_type": "code",
   "execution_count": null,
   "id": "0875b7f0",
   "metadata": {},
   "outputs": [],
   "source": [
    "list_metric = [\n",
    "    (precision_score,'precision','pred'),\n",
    "    (recall_score,'recall','pred'),\n",
    "    (roc_auc_score,'roc_auc','proba')\n",
    "]"
   ]
  },
  {
   "cell_type": "code",
   "execution_count": null,
   "id": "b4142c5c",
   "metadata": {},
   "outputs": [],
   "source": [
    "df_final_mean_phoneme,df_final_std_phoneme = compute_metrics_several_protocols(\n",
    "    output_dir=output_dir_path,\n",
    "    init_name_file='2024-02-14-RF100_phoneme_depthNone_test',\n",
    "    list_metric=list_metric,\n",
    "    bool_roc_auc_only=True,n_iter=100)\n",
    "\n",
    "df_final_mean_phoneme.style.format(precision=3)"
   ]
  },
  {
   "cell_type": "markdown",
   "id": "b64bf0a2",
   "metadata": {},
   "source": [
    "<center><h1  style=\"color:white; background-color:#808b96; border-radius: 10px; padding:15px;\"> Pima </h1></center>"
   ]
  },
  {
   "cell_type": "markdown",
   "id": "ab43b2e1",
   "metadata": {},
   "source": [
    "## Run protocol :"
   ]
  },
  {
   "cell_type": "code",
   "execution_count": null,
   "id": "934beb33",
   "metadata": {},
   "outputs": [],
   "source": [
    "from data.data import load_pima_data\n",
    "X_pima, y_pima = load_pima_data()"
   ]
  },
  {
   "cell_type": "code",
   "execution_count": null,
   "id": "4b5bfa68",
   "metadata": {},
   "outputs": [],
   "source": [
    "indices_kept_20 = subsample_to_ratio_indices(X=X_pima,y=y_pima,ratio=0.2,seed_sub=15,\n",
    "                                           output_dir_subsampling=output_dir_path,\n",
    "                                           name_subsampling_file='pima_sub_original_to_20')\n",
    "\n",
    "indices_kept_10 = subsample_to_ratio_indices(X=X_pima,y=y_pima,ratio=0.1,seed_sub=7,\n",
    "                                             output_dir_subsampling=output_dir_path,\n",
    "                                             name_subsampling_file='pima_sub_20_to_10',has_previous_under_sampling=True,\n",
    "                                               previous_under_sampling=indices_kept_20)\n"
   ]
  },
  {
   "cell_type": "code",
   "execution_count": null,
   "id": "a3cb5126",
   "metadata": {},
   "outputs": [],
   "source": [
    "X_pima_10,y_pima_10 = read_subsampling_indices(X=X_pima,y=y_pima, dir_subsampling=output_dir_path, name_subsampling_file='pima_sub_20_to_10', get_indexes=False)"
   ]
  },
  {
   "cell_type": "code",
   "execution_count": null,
   "id": "171f6ed2",
   "metadata": {},
   "outputs": [],
   "source": [
    "rf_model = RandomForestClassifier(n_estimators=100,criterion='gini',n_jobs=5)\n",
    "balanced_rf_model = RandomForestClassifier(n_estimators=100,criterion='gini',class_weight='balanced',n_jobs=5)\n",
    "\n",
    "splitter_stratified_cv = StratifiedKFold(n_splits=5,shuffle=True,random_state=None)\n",
    "CVSmoteRF = CVSmoteModel(\n",
    "    splitter=splitter_stratified_cv,\n",
    "    model=RandomForestClassifier(n_estimators=100,criterion='gini',n_jobs=5),\n",
    "    list_k_max=15,list_k_step=1)\n",
    "\n",
    "list_depth = [4,8,12]\n",
    "grid_RF = GridSearchCV(estimator=RandomForestClassifier(n_estimators=100,criterion='gini',n_jobs=10),\n",
    "             param_grid={'max_depth': list_depth }, scoring='roc_auc')\n",
    "\n",
    "list_oversampling_and_params = [\n",
    "    ('None', NoSampling(), {}, rf_model),\n",
    "    ('c_weight', NoSampling(), {}, balanced_rf_model),\n",
    "    ('RUS', RandomUnderSampler(sampling_strategy=\"majority\",replacement=False),{}, rf_model),\n",
    "    ('ROS',  RandomOverSampler(sampling_strategy=\"minority\"),{}, rf_model),\n",
    "    ('NearMiss1', NearMiss(sampling_strategy=\"majority\", version=1),{}, rf_model),\n",
    "    ('BorderlineS_1', BorderlineSMOTE(sampling_strategy=\"minority\", k_neighbors=5, kind=\"borderline-1\"),{}, rf_model),\n",
    "    ('BorderlineS_2',BorderlineSMOTE(sampling_strategy=\"minority\", k_neighbors=5, kind=\"borderline-2\"),{}, rf_model),\n",
    "    ('SMOTE',SMOTE(sampling_strategy=\"minority\"),{},rf_model),\n",
    "    ('cv_smote', NoSampling(),{}, CVSmoteRF),\n",
    "    ('MGS',MGS(K=5,n_points=5,llambda=1.0),{},rf_model),\n",
    "    ('None_tuned_depth', NoSampling(), {}, grid_RF),\n",
    "]"
   ]
  },
  {
   "cell_type": "code",
   "execution_count": null,
   "id": "2a653b72",
   "metadata": {},
   "outputs": [],
   "source": [
    "init_name_file = '2024-02-14-RF100_pima_depthNone_test'\n",
    "for i in range(100):\n",
    "    splitter_stratified = StratifiedKFold(n_splits=5,shuffle=True,random_state=100+i)\n",
    "    name_file = init_name_file + str(i) +'.npy'\n",
    "    run_eval(output_dir=output_dir_path,name_file=name_file,X=X_pima_10,y=y_pima_10,\n",
    "             list_oversampling_and_params=list_oversampling_and_params,\n",
    "             splitter=splitter_stratified)"
   ]
  },
  {
   "cell_type": "markdown",
   "id": "57dd83eb",
   "metadata": {},
   "source": [
    "## Compute metrics :"
   ]
  },
  {
   "cell_type": "code",
   "execution_count": null,
   "id": "ded77f18",
   "metadata": {},
   "outputs": [],
   "source": [
    "list_metric = [\n",
    "    (precision_score,'precision','pred'),\n",
    "    (recall_score,'recall','pred'),\n",
    "    (roc_auc_score,'roc_auc','proba')\n",
    "]"
   ]
  },
  {
   "cell_type": "code",
   "execution_count": null,
   "id": "544c9de6",
   "metadata": {},
   "outputs": [],
   "source": [
    "df_final_mean_pima,df_final_std_pima = compute_metrics_several_protocols(\n",
    "    output_dir=output_dir_path,\n",
    "    init_name_file='2024-02-14-RF100_pima_depthNone_test',\n",
    "    list_metric=list_metric,\n",
    "    bool_roc_auc_only=True,n_iter=100)\n",
    "\n",
    "df_final_mean_pima.style.format(precision=3)"
   ]
  },
  {
   "cell_type": "markdown",
   "id": "25bcd19d",
   "metadata": {},
   "source": [
    "<center><h1  style=\"color:white; background-color:#808b96; border-radius: 10px; padding:15px;\"> Abalone </h1></center>"
   ]
  },
  {
   "cell_type": "markdown",
   "id": "28556d4e",
   "metadata": {},
   "source": [
    "## Run protocol :"
   ]
  },
  {
   "cell_type": "code",
   "execution_count": null,
   "id": "18611926",
   "metadata": {},
   "outputs": [],
   "source": [
    "from data.data import load_abalone_data\n",
    "X_abalone, y_abalone = load_abalone_data()"
   ]
  },
  {
   "cell_type": "code",
   "execution_count": null,
   "id": "ecd023ea",
   "metadata": {},
   "outputs": [],
   "source": [
    "RF = RandomForestClassifier(n_estimators=100,criterion='gini',n_jobs=5)\n",
    "RF2 = RandomForestClassifier(n_estimators=100,criterion='gini',class_weight='balanced',n_jobs=5)\n",
    "\n",
    "splitter_stratified_cv = StratifiedKFold(n_splits=5,shuffle=True,random_state=None)\n",
    "CVSmoteRF = CVSmoteModel(\n",
    "    splitter=splitter_stratified_cv,\n",
    "    model=RandomForestClassifier(n_estimators=100,criterion='gini',n_jobs=5),\n",
    "    list_k_max=15,list_k_step=1)\n",
    "\n",
    "list_depth = [3,7,10,13]\n",
    "grid_RF = GridSearchCV(estimator=RandomForestClassifier(n_estimators=100,criterion='gini',n_jobs=10),\n",
    "             param_grid={'max_depth': list_depth }, scoring='roc_auc')\n",
    "\n",
    "list_oversampling_and_params = [\n",
    "    ('None', NoSampling(), {}, rf_model),\n",
    "    ('c_weight', NoSampling(), {}, balanced_rf_model),\n",
    "    ('RUS', RandomUnderSampler(sampling_strategy=\"majority\",replacement=False),{}, rf_model),\n",
    "    ('ROS',  RandomOverSampler(sampling_strategy=\"minority\"),{}, rf_model),\n",
    "    ('NearMiss1', NearMiss(sampling_strategy=\"majority\", version=1),{}, rf_model),\n",
    "    ('BorderlineS_1', BorderlineSMOTE(sampling_strategy=\"minority\", k_neighbors=5, kind=\"borderline-1\"),{}, rf_model),\n",
    "    ('BorderlineS_2',BorderlineSMOTE(sampling_strategy=\"minority\", k_neighbors=5, kind=\"borderline-2\"),{}, rf_model),\n",
    "    ('SMOTE',SMOTE(sampling_strategy=\"minority\"),{},rf_model),\n",
    "    ('cv_smote', NoSampling(),{}, CVSmoteRF),\n",
    "    ('MGS',MGS(K=5,n_points=5,llambda=1.0),{},rf_model),\n",
    "]"
   ]
  },
  {
   "cell_type": "code",
   "execution_count": null,
   "id": "89e72d3e",
   "metadata": {},
   "outputs": [],
   "source": [
    "init_name_file = '2024-02-14-RF100_abalone_depthNone_test'\n",
    "for i in range(100):\n",
    "    splitter_stratified = StratifiedKFold(n_splits=5,shuffle=True,random_state=100+i)\n",
    "    name_file = init_name_file + str(i) +'.npy'\n",
    "    run_eval(output_dir=output_dir_path,name_file=name_file,X=X_abalone,y=y_abalone,\n",
    "             list_oversampling_and_params=list_oversampling_and_params,\n",
    "             splitter=splitter_stratified)"
   ]
  },
  {
   "cell_type": "markdown",
   "id": "befbf814",
   "metadata": {},
   "source": [
    "## Compute metrics :"
   ]
  },
  {
   "cell_type": "code",
   "execution_count": null,
   "id": "d8bf58ba",
   "metadata": {},
   "outputs": [],
   "source": [
    "list_metric = [\n",
    "    (precision_score,'precision','pred'),\n",
    "    (recall_score,'recall','pred'),\n",
    "    (roc_auc_score,'roc_auc','proba')\n",
    "]"
   ]
  },
  {
   "cell_type": "code",
   "execution_count": null,
   "id": "a0f9fbc2",
   "metadata": {},
   "outputs": [],
   "source": [
    "df_final_mean_abalone,df_final_std_abalone = compute_metrics_several_protocols(\n",
    "    output_dir=output_dir_path,\n",
    "    init_name_file='2024-02-14-RF100_abalone_depthNone_test',\n",
    "    list_metric=list_metric,\n",
    "    bool_roc_auc_only=True,n_iter=100)\n",
    "\n",
    "df_final_mean_abalone.style.format(precision=3)"
   ]
  },
  {
   "cell_type": "markdown",
   "id": "cc84a06c",
   "metadata": {},
   "source": [
    "<center><h1  style=\"color:white; background-color:#808b96; border-radius: 10px; padding:15px;\"> Haberman </h1></center>"
   ]
  },
  {
   "cell_type": "markdown",
   "id": "112be115",
   "metadata": {},
   "source": [
    "## Run protocol :"
   ]
  },
  {
   "cell_type": "code",
   "execution_count": null,
   "id": "f8d9171a",
   "metadata": {},
   "outputs": [],
   "source": [
    "from data.data import load_haberman_data\n",
    "X_haberman,y_haberman = load_haberman_data()"
   ]
  },
  {
   "cell_type": "code",
   "execution_count": null,
   "id": "f2178b0e",
   "metadata": {},
   "outputs": [],
   "source": [
    "indices_kept_10 = subsample_to_ratio_indices(X=X_haberman,y=y_haberman,ratio=0.1,seed_sub=11,\n",
    "                                           output_dir_subsampling=output_dir_path,\n",
    "                                           name_subsampling_file='haberman_sub_original_to_20')\n",
    "X_haberman_10,y_haberman_10 = X_haberman[indices_kept_10,:],y_haberman[indices_kept_10]"
   ]
  },
  {
   "cell_type": "code",
   "execution_count": null,
   "id": "f238c57a",
   "metadata": {},
   "outputs": [],
   "source": [
    "RF = RandomForestClassifier(n_estimators=100,criterion='gini',n_jobs=5)\n",
    "RF2 = RandomForestClassifier(n_estimators=100,criterion='gini',class_weight='balanced',n_jobs=5)\n",
    "\n",
    "splitter_stratified_cv = StratifiedKFold(n_splits=5,shuffle=True,random_state=None)\n",
    "CVSmoteRF = CVSmoteModel(\n",
    "    splitter=splitter_stratified_cv,\n",
    "    model=RandomForestClassifier(n_estimators=100,criterion='gini',n_jobs=5),\n",
    "    list_k_max=15,list_k_step=1)\n",
    "\n",
    "list_depth = [5,15,19,24,29,32]\n",
    "grid_RF = GridSearchCV(estimator=RandomForestClassifier(n_estimators=100,criterion='gini',n_jobs=10),\n",
    "             param_grid={'max_depth': list_depth }, scoring='roc_auc')\n",
    "\n",
    "list_oversampling_and_params = [\n",
    "    ('None', NoSampling(), {}, rf_model),\n",
    "    ('c_weight', NoSampling(), {}, balanced_rf_model),\n",
    "    ('RUS', RandomUnderSampler(sampling_strategy=\"majority\",replacement=False),{}, rf_model),\n",
    "    ('ROS',  RandomOverSampler(sampling_strategy=\"minority\"),{}, rf_model),\n",
    "    ('NearMiss1', NearMiss(sampling_strategy=\"majority\", version=1),{}, rf_model),\n",
    "    ('BorderlineS_1', BorderlineSMOTE(sampling_strategy=\"minority\", k_neighbors=5, kind=\"borderline-1\"),{}, rf_model),\n",
    "    ('BorderlineS_2',BorderlineSMOTE(sampling_strategy=\"minority\", k_neighbors=5, kind=\"borderline-2\"),{}, rf_model),\n",
    "    ('SMOTE',SMOTE(sampling_strategy=\"minority\"),{},rf_model),\n",
    "    ('cv_smote', NoSampling(),{}, CVSmoteRF),\n",
    "    ('MGS',MGS(K=5,n_points=5,llambda=1.0),{},rf_model),\n",
    "]"
   ]
  },
  {
   "cell_type": "code",
   "execution_count": null,
   "id": "0abf5ae7",
   "metadata": {},
   "outputs": [],
   "source": [
    "init_name_file = '2024-02-14-RF100_haberman_depthNone_test'\n",
    "for i in range(100):\n",
    "    splitter_stratified = StratifiedKFold(n_splits=5,shuffle=True,random_state=100+i)\n",
    "    name_file = init_name_file + str(i) +'.npy'\n",
    "    run_eval(output_dir=output_dir_path,name_file=name_file,X=X_haberman_10,y=y_haberman_10,\n",
    "             list_oversampling_and_params=list_oversampling_and_params,\n",
    "             splitter=splitter_stratified)"
   ]
  },
  {
   "cell_type": "markdown",
   "id": "43f6a16d",
   "metadata": {},
   "source": [
    "## Compute metrics :"
   ]
  },
  {
   "cell_type": "code",
   "execution_count": null,
   "id": "5c3198d6",
   "metadata": {},
   "outputs": [],
   "source": [
    "\n",
    "from sklearn.metrics import precision_score\n",
    "from sklearn.metrics import recall_score\n",
    "from sklearn.metrics import roc_auc_score\n",
    "\n",
    "from validation.classif_experiments import compute_metrics_several_protocols\n",
    "list_metric = [\n",
    "    (precision_score,'precision','pred'),\n",
    "    (recall_score,'recall','pred'),\n",
    "    (roc_auc_score,'roc_auc','proba')\n",
    "]"
   ]
  },
  {
   "cell_type": "code",
   "execution_count": null,
   "id": "50005730",
   "metadata": {},
   "outputs": [],
   "source": [
    "df_final_mean_haberman,df_final_std_haberman = compute_metrics_several_protocols(\n",
    "    output_dir=output_dir_path,\n",
    "    init_name_file='2024-02-14-RF100_haberman_depthNone_test',\n",
    "    list_metric=list_metric,\n",
    "    bool_roc_auc_only=True,n_iter=100)\n",
    "\n",
    "df_final_mean_haberman.style.format(precision=3)"
   ]
  },
  {
   "cell_type": "markdown",
   "id": "2211351d",
   "metadata": {},
   "source": [
    "<center><h1  style=\"color:white; background-color:#808b96; border-radius: 10px; padding:15px;\"> Yeast </h1></center>"
   ]
  },
  {
   "cell_type": "code",
   "execution_count": null,
   "id": "e39fe093",
   "metadata": {},
   "outputs": [],
   "source": [
    "from data.data import load_yeast_data\n",
    "X_yeast,y_yeast = load_yeast_data()"
   ]
  },
  {
   "cell_type": "code",
   "execution_count": null,
   "id": "271cc234",
   "metadata": {},
   "outputs": [],
   "source": [
    "indices_kept_10 = subsample_to_ratio_indices(X=X_yeast,y=y_yeast,ratio=0.01,seed_sub=15,\n",
    "                                           output_dir_subsampling=output_dir_path,\n",
    "                                           name_subsampling_file='yeast_sub_original_to_1')\n",
    "X_yeast_1,y_yeast_1 = X_yeast[indices_kept_10,:],y_yeast[indices_kept_10]"
   ]
  },
  {
   "cell_type": "code",
   "execution_count": null,
   "id": "7744886e",
   "metadata": {},
   "outputs": [],
   "source": []
  },
  {
   "cell_type": "code",
   "execution_count": null,
   "id": "b31ac98f",
   "metadata": {},
   "outputs": [],
   "source": [
    "# Display nice table with all the metrics here ?"
   ]
  },
  {
   "cell_type": "markdown",
   "id": "cffa5f41",
   "metadata": {},
   "source": [
    "<center><h1  style=\"color:white; background-color:#008b96; border-radius: 10px; padding:15px;\"> END </h1></center>"
   ]
  }
 ],
 "metadata": {
  "kernelspec": {
   "display_name": "Python 3 (ipykernel)",
   "language": "python",
   "name": "python3"
  },
  "language_info": {
   "codemirror_mode": {
    "name": "ipython",
    "version": 3
   },
   "file_extension": ".py",
   "mimetype": "text/x-python",
   "name": "python",
   "nbconvert_exporter": "python",
   "pygments_lexer": "ipython3",
   "version": "3.11.8"
  }
 },
 "nbformat": 4,
 "nbformat_minor": 5
}

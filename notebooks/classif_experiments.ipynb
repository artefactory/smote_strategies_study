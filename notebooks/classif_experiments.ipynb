{
 "cells": [
  {
   "cell_type": "markdown",
   "id": "d23ef583",
   "metadata": {},
   "source": [
    "<center><h1  style=\"color:white; background-color:#000000; border-radius: 0px; padding:25px;\"> Theoretical study of SMOTE </h1></center>"
   ]
  },
  {
   "cell_type": "markdown",
   "id": "290db701",
   "metadata": {},
   "source": [
    "This notebook reproduces the numerical experiments presented in \"Theoretical and experimental study of SMOTE: limitations and comparisons of rebalancing strategies\".\n",
    "\n",
    "<ins>Experimented Datasets: </ins>\n",
    "- [Phoneme](#Phoneme)\n",
    "- Pima\n",
    "- Abalone\n",
    "- Haberman\n",
    "- Yeast\n"
   ]
  },
  {
   "cell_type": "code",
   "execution_count": 1,
   "id": "d3b46d90",
   "metadata": {},
   "outputs": [],
   "source": [
    "import os\n",
    "import sys\n",
    "sys.path.insert(1, os.path.abspath(os.path.join(os.getcwd(), os.pardir)))\n",
    "from pathlib import Path\n",
    "\n",
    "\n",
    "from sklearn.ensemble import RandomForestClassifier \n",
    "from sklearn.model_selection import GridSearchCV, StratifiedKFold\n",
    "from sklearn.metrics import precision_score, recall_score, roc_auc_score\n",
    "from imblearn.under_sampling import RandomUnderSampler,NearMiss\n",
    "from imblearn.over_sampling import RandomOverSampler, SMOTE, BorderlineSMOTE\n",
    "\n",
    "\n",
    "from oversampling_strategies.oversampling_strategies import MGS, NoSampling, CVSmoteModel\n",
    "\n",
    "from validation.classif_experiments import run_eval, subsample_to_ratio_indices,read_subsampling_indices, compute_metrics_several_protocols"
   ]
  },
  {
   "cell_type": "code",
   "execution_count": 2,
   "id": "aa869e32",
   "metadata": {},
   "outputs": [
    {
     "data": {
      "text/plain": [
       "'../saved_experiments'"
      ]
     },
     "execution_count": 2,
     "metadata": {},
     "output_type": "execute_result"
    }
   ],
   "source": [
    "output_dir_path =  \"../saved_experiments\" ## Fill it\n",
    "Path(output_dir_path).mkdir(parents=True, exist_ok=True)\n",
    "output_dir_path"
   ]
  },
  {
   "cell_type": "markdown",
   "id": "45bf2347",
   "metadata": {},
   "source": [
    "<center><h1  style=\"color:white; background-color:#808b96; border-radius: 10px; padding:15px;\" name='Phoneme'> Phoneme</h1></center>\n",
    "\n",
    "## <a name='Phoneme'></a>"
   ]
  },
  {
   "cell_type": "markdown",
   "id": "7f1e2b43",
   "metadata": {},
   "source": [
    "## Run protocol :"
   ]
  },
  {
   "cell_type": "code",
   "execution_count": null,
   "id": "33f7c3c1",
   "metadata": {},
   "outputs": [],
   "source": [
    "from data.data import load_phoneme_data\n",
    "X_phoneme, y_phoneme = load_phoneme_data()"
   ]
  },
  {
   "cell_type": "code",
   "execution_count": null,
   "id": "3db2612e",
   "metadata": {},
   "outputs": [],
   "source": [
    "indices_kept_20 = subsample_to_ratio_indices(X=X_phoneme,y=y_phoneme,ratio=0.2,seed_sub=11,\n",
    "                                           output_dir_subsampling=output_dir_path,\n",
    "                                           name_subsampling_file='phoneme_sub_original_to_20')\n",
    "\n",
    "indices_kept_10 = subsample_to_ratio_indices(\n",
    "    X=X_phoneme,y=y_phoneme,ratio=0.1,seed_sub=9,\n",
    "    output_dir_subsampling=output_dir_path,\n",
    "    name_subsampling_file='phoneme_sub_20_to_10',has_previous_under_sampling=True,\n",
    "    previous_under_sampling=indices_kept_20)\n",
    "\n",
    "indices_kept_1 = subsample_to_ratio_indices(X=X_phoneme,y=y_phoneme,ratio=0.01,seed_sub=5,\n",
    "    output_dir_subsampling=output_dir_path,\n",
    "    name_subsampling_file='phoneme_sub_10_to_1',has_previous_under_sampling=True,\n",
    "    previous_under_sampling=indices_kept_10)"
   ]
  },
  {
   "cell_type": "code",
   "execution_count": null,
   "id": "2d14315d",
   "metadata": {},
   "outputs": [],
   "source": [
    "X_phoneme_1,y_phoneme_1 = X_phoneme[indices_kept_1,:],y_phoneme[indices_kept_1]"
   ]
  },
  {
   "cell_type": "code",
   "execution_count": null,
   "id": "9bfa0bac",
   "metadata": {},
   "outputs": [],
   "source": [
    "rf_model = RandomForestClassifier(n_estimators=100,criterion='gini',n_jobs=5)\n",
    "balanced_rf_model = RandomForestClassifier(n_estimators=100,criterion='gini',class_weight='balanced',n_jobs=5)\n",
    "\n",
    "splitter_stratified_cv = StratifiedKFold(n_splits=5,shuffle=True,random_state=None)\n",
    "CVSmoteRF = CVSmoteModel(\n",
    "    splitter=splitter_stratified_cv,\n",
    "    model=RandomForestClassifier(n_estimators=100,criterion='gini',n_jobs=5),\n",
    "    list_k_max=15,list_k_step=1)\n",
    "\n",
    "list_depth = [5,8,11]\n",
    "grid_RF = GridSearchCV(estimator=RandomForestClassifier(n_estimators=100,criterion='gini',n_jobs=10),\n",
    "             param_grid={'max_depth': list_depth }, scoring='roc_auc')\n",
    "\n",
    "list_oversampling_and_params = [\n",
    "    ('None', NoSampling(), {}, rf_model),\n",
    "    ('c_weight', NoSampling(), {}, balanced_rf_model),\n",
    "    ('RUS', RandomUnderSampler(sampling_strategy=\"majority\",replacement=False),{}, rf_model),\n",
    "    ('ROS',  RandomOverSampler(sampling_strategy=\"minority\"),{}, rf_model),\n",
    "    ('NearMiss1', NearMiss(sampling_strategy=\"majority\", version=1),{}, rf_model),\n",
    "    ('BorderlineS_1', BorderlineSMOTE(sampling_strategy=\"minority\", k_neighbors=5, kind=\"borderline-1\"),{}, rf_model),\n",
    "    ('BorderlineS_2',BorderlineSMOTE(sampling_strategy=\"minority\", k_neighbors=5, kind=\"borderline-2\"),{}, rf_model),\n",
    "    ('SMOTE',SMOTE(sampling_strategy=\"minority\"),{},rf_model),\n",
    "    ('cv_smote', NoSampling(),{}, CVSmoteRF),\n",
    "    ('MGS',MGS(K=5,n_points=5,llambda=1.0),{},rf_model),\n",
    "]"
   ]
  },
  {
   "cell_type": "code",
   "execution_count": null,
   "id": "e636ca24",
   "metadata": {},
   "outputs": [],
   "source": [
    "init_name_file = '2024-02-14-RF100_phoneme_depthNone_test'\n",
    "for i in range(100):\n",
    "    splitter_stratified = StratifiedKFold(n_splits=5,shuffle=True,random_state=100+i)\n",
    "    name_file = init_name_file + str(i) +'.npy'\n",
    "    run_eval(output_dir=output_dir_path,name_file=name_file,X=X_phoneme_1,y=y_phoneme_1,\n",
    "             list_oversampling_and_params=list_oversampling_and_params,\n",
    "             splitter=splitter_stratified)"
   ]
  },
  {
   "cell_type": "markdown",
   "id": "364c49c0",
   "metadata": {},
   "source": [
    "## Compute metrics :"
   ]
  },
  {
   "cell_type": "code",
   "execution_count": null,
   "id": "0875b7f0",
   "metadata": {},
   "outputs": [],
   "source": [
    "list_metric = [\n",
    "    (precision_score,'precision','pred'),\n",
    "    (recall_score,'recall','pred'),\n",
    "    (roc_auc_score,'roc_auc','proba')\n",
    "]"
   ]
  },
  {
   "cell_type": "code",
   "execution_count": null,
   "id": "b4142c5c",
   "metadata": {},
   "outputs": [],
   "source": [
    "df_final_mean_phoneme,df_final_std_phoneme = compute_metrics_several_protocols(\n",
    "    output_dir=output_dir_path,\n",
    "    init_name_file='2024-02-14-RF100_phoneme_depthNone_test',\n",
    "    list_metric=list_metric,\n",
    "    bool_roc_auc_only=True,n_iter=100)\n",
    "\n",
    "df_final_mean_phoneme.style.format(precision=3)"
   ]
  },
  {
   "cell_type": "markdown",
   "id": "b64bf0a2",
   "metadata": {},
   "source": [
    "<center><h1  style=\"color:white; background-color:#808b96; border-radius: 10px; padding:15px;\"> Pima </h1></center>"
   ]
  },
  {
   "cell_type": "markdown",
   "id": "ab43b2e1",
   "metadata": {},
   "source": [
    "## Run protocol :"
   ]
  },
  {
   "cell_type": "code",
   "execution_count": 3,
   "id": "934beb33",
   "metadata": {},
   "outputs": [],
   "source": [
    "from data.data import load_pima_data\n",
    "X_pima, y_pima = load_pima_data()"
   ]
  },
  {
   "cell_type": "code",
   "execution_count": 4,
   "id": "4b5bfa68",
   "metadata": {},
   "outputs": [],
   "source": [
    "indices_kept_20 = subsample_to_ratio_indices(X=X_pima,y=y_pima,ratio=0.2,seed_sub=15,\n",
    "                                           output_dir_subsampling=output_dir_path,\n",
    "                                           name_subsampling_file='pima_sub_original_to_20')\n",
    "\n",
    "indices_kept_10 = subsample_to_ratio_indices(X=X_pima,y=y_pima,ratio=0.1,seed_sub=7,\n",
    "                                             output_dir_subsampling=output_dir_path,\n",
    "                                             name_subsampling_file='pima_sub_20_to_10',has_previous_under_sampling=True,\n",
    "                                               previous_under_sampling=indices_kept_20)\n"
   ]
  },
  {
   "cell_type": "code",
   "execution_count": 5,
   "id": "a3cb5126",
   "metadata": {},
   "outputs": [],
   "source": [
    "X_pima_10,y_pima_10 = read_subsampling_indices(X=X_pima,y=y_pima, dir_subsampling=output_dir_path, name_subsampling_file='pima_sub_20_to_10', get_indexes=False)"
   ]
  },
  {
   "cell_type": "code",
   "execution_count": 6,
   "id": "73f3758b",
   "metadata": {},
   "outputs": [
    {
     "data": {
      "text/plain": [
       "array([338, 306, 397, 155,  99, 702, 662,  22, 314,  72, 414, 386, 360,\n",
       "         9,  19,  53, 635, 696, 370, 378, 366, 284, 440, 242, 638, 165,\n",
       "       719, 185, 614, 363, 291, 493, 750, 237, 283, 611, 321, 604, 683,\n",
       "       255, 317, 355,  70,  56, 618, 502,  17, 109, 757, 359, 402, 612,\n",
       "       539, 116, 748,   1,   3,   5,   7,  10,  12,  18,  20,  21,  27,\n",
       "        28,  29,  30,  32,  33,  34,  35,  36,  40,  41,  42,  44,  46,\n",
       "        47,  49,  50,  51,  52,  54,  55,  57,  58,  59,  60,  62,  63,\n",
       "        65,  67,  68,  69,  71,  73,  74,  75,  76,  77,  79,  80,  81,\n",
       "        82,  83,  85,  86,  87,  89,  90,  91,  92,  94,  95,  96,  97,\n",
       "        98, 101, 102, 103, 104, 105, 106, 107, 108, 112, 113, 117, 118,\n",
       "       119, 121, 122, 123, 126, 127, 133, 134, 135, 136, 137, 138, 139,\n",
       "       140, 141, 142, 144, 145, 146, 147, 148, 149, 150, 151, 153, 156,\n",
       "       157, 158, 160, 161, 162, 163, 166, 167, 168, 169, 172, 173, 174,\n",
       "       176, 178, 180, 181, 182, 183, 184, 190, 191, 194, 196, 200, 201,\n",
       "       202, 203, 204, 205, 208, 210, 211, 212, 217, 222, 223, 224, 225,\n",
       "       226, 228, 229, 232, 233, 234, 239, 240, 241, 244, 246, 247, 248,\n",
       "       249, 250, 251, 252, 253, 256, 257, 258, 260, 262, 263, 265, 267,\n",
       "       268, 271, 272, 273, 274, 275, 277, 278, 279, 281, 282, 285, 286,\n",
       "       288, 289, 290, 294, 295, 297, 299, 302, 304, 305, 307, 310, 311,\n",
       "       313, 315, 316, 318, 320, 324, 325, 327, 329, 330, 331, 333, 334,\n",
       "       335, 336, 340, 341, 342, 343, 344, 345, 346, 347, 348, 350, 351,\n",
       "       352, 353, 354, 358, 361, 362, 364, 365, 367, 368, 371, 372, 373,\n",
       "       374, 376, 377, 379, 380, 381, 382, 383, 384, 385, 389, 390, 392,\n",
       "       393, 395, 396, 398, 401, 403, 405, 407, 410, 411, 412, 413, 416,\n",
       "       418, 420, 421, 422, 423, 426, 428, 430, 431, 432, 433, 434, 436,\n",
       "       437, 438, 439, 441, 442, 446, 447, 449, 450, 452, 453, 454, 456,\n",
       "       457, 459, 460, 461, 462, 463, 464, 465, 466, 467, 469, 470, 471,\n",
       "       472, 473, 474, 475, 477, 478, 479, 481, 482, 483, 486, 487, 488,\n",
       "       489, 490, 491, 492, 494, 495, 496, 497, 499, 500, 501, 503, 504,\n",
       "       505, 507, 508, 509, 511, 512, 513, 514, 517, 518, 519, 520, 521,\n",
       "       522, 524, 525, 526, 527, 528, 529, 530, 531, 532, 533, 534, 536,\n",
       "       537, 538, 543, 544, 547, 548, 549, 550, 551, 552, 553, 554, 555,\n",
       "       556, 557, 558, 559, 562, 563, 564, 565, 566, 567, 568, 570, 571,\n",
       "       572, 573, 574, 575, 576, 578, 581, 582, 583, 585, 587, 589, 591,\n",
       "       593, 594, 596, 597, 599, 600, 601, 602, 605, 607, 608, 609, 610,\n",
       "       613, 615, 616, 617, 620, 621, 622, 623, 624, 625, 626, 627, 628,\n",
       "       629, 631, 632, 633, 634, 636, 637, 639, 640, 641, 643, 644, 645,\n",
       "       649, 650, 651, 652, 653, 654, 656, 657, 658, 660, 665, 668, 669,\n",
       "       670, 671, 672, 673, 674, 677, 679, 680, 682, 684, 685, 686, 687,\n",
       "       688, 690, 692, 694, 697, 698, 699, 700, 703, 704, 705, 707, 710,\n",
       "       711, 713, 714, 717, 718, 720, 721, 723, 724, 725, 726, 727, 728,\n",
       "       729, 733, 734, 735, 736, 737, 738, 741, 742, 744, 745, 747, 751,\n",
       "       752, 756, 758, 760, 762, 763, 764, 765, 767])"
      ]
     },
     "execution_count": 6,
     "metadata": {},
     "output_type": "execute_result"
    }
   ],
   "source": [
    "indices_kept_10"
   ]
  },
  {
   "cell_type": "code",
   "execution_count": 21,
   "id": "171f6ed2",
   "metadata": {},
   "outputs": [],
   "source": [
    "rf_model = RandomForestClassifier(n_estimators=100,criterion='gini',n_jobs=5)\n",
    "balanced_rf_model = RandomForestClassifier(n_estimators=100,criterion='gini',class_weight='balanced',n_jobs=5)\n",
    "\n",
    "splitter_stratified_cv = StratifiedKFold(n_splits=5,shuffle=True,random_state=None)\n",
    "CVSmoteRF = CVSmoteModel(\n",
    "    splitter=splitter_stratified_cv,\n",
    "    model=RandomForestClassifier(n_estimators=100,criterion='gini',n_jobs=5),\n",
    "    list_k_max=15,list_k_step=1)\n",
    "\n",
    "list_depth = [4,8,12]\n",
    "grid_RF = GridSearchCV(estimator=RandomForestClassifier(n_estimators=100,criterion='gini',n_jobs=10),\n",
    "             param_grid={'max_depth': list_depth }, scoring='roc_auc')\n",
    "\n",
    "list_oversampling_and_params = [\n",
    "    ('None', NoSampling(), {}, rf_model),\n",
    "    ('c_weight', NoSampling(), {}, balanced_rf_model),\n",
    "    ('RUS', RandomUnderSampler(sampling_strategy=\"majority\",replacement=False),{}, rf_model),\n",
    "    ('ROS',  RandomOverSampler(sampling_strategy=\"minority\"),{}, rf_model),\n",
    "    ('NearMiss1', NearMiss(sampling_strategy=\"majority\", version=1),{}, rf_model),\n",
    "    ('BorderlineS_1', BorderlineSMOTE(sampling_strategy=\"minority\", k_neighbors=5, kind=\"borderline-1\"),{}, rf_model),\n",
    "    ('BorderlineS_2',BorderlineSMOTE(sampling_strategy=\"minority\", k_neighbors=5, kind=\"borderline-2\"),{}, rf_model),\n",
    "    ('SMOTE',SMOTE(sampling_strategy=\"minority\"),{},rf_model),\n",
    "    ('cv_smote', NoSampling(),{}, CVSmoteRF),\n",
    "    ('MGS',MGS(K=5,n_points=5,llambda=1.0),{},rf_model),\n",
    "    #('None_tuned_depth', NoSampling(), {}, grid_RF),\n",
    "]"
   ]
  },
  {
   "cell_type": "code",
   "execution_count": 22,
   "id": "2a653b72",
   "metadata": {},
   "outputs": [],
   "source": [
    "init_name_file = '2024-02-14-RF100_pima_depthNone_test'\n",
    "for i in range(10,20):\n",
    "    splitter_stratified = StratifiedKFold(n_splits=5,shuffle=True,random_state=100+i)\n",
    "    name_file = init_name_file + str(i) +'.npy'\n",
    "    run_eval(output_dir=output_dir_path,name_file=name_file,X=X_pima_10,y=y_pima_10,\n",
    "             list_oversampling_and_params=list_oversampling_and_params,\n",
    "             splitter=splitter_stratified)"
   ]
  },
  {
   "cell_type": "markdown",
   "id": "57dd83eb",
   "metadata": {},
   "source": [
    "## Compute metrics :"
   ]
  },
  {
   "cell_type": "code",
   "execution_count": 23,
   "id": "ded77f18",
   "metadata": {},
   "outputs": [],
   "source": [
    "list_metric = [\n",
    "    (precision_score,'precision','pred'),\n",
    "    (recall_score,'recall','pred'),\n",
    "    (roc_auc_score,'roc_auc','proba')\n",
    "]"
   ]
  },
  {
   "cell_type": "code",
   "execution_count": 24,
   "id": "544c9de6",
   "metadata": {},
   "outputs": [
    {
     "data": {
      "text/html": [
       "<style type=\"text/css\">\n",
       "</style>\n",
       "<table id=\"T_e8754\">\n",
       "  <thead>\n",
       "    <tr>\n",
       "      <th class=\"blank level0\" >&nbsp;</th>\n",
       "      <th id=\"T_e8754_level0_col0\" class=\"col_heading level0 col0\" >None</th>\n",
       "      <th id=\"T_e8754_level0_col1\" class=\"col_heading level0 col1\" >c_weight</th>\n",
       "      <th id=\"T_e8754_level0_col2\" class=\"col_heading level0 col2\" >RUS</th>\n",
       "      <th id=\"T_e8754_level0_col3\" class=\"col_heading level0 col3\" >ROS</th>\n",
       "      <th id=\"T_e8754_level0_col4\" class=\"col_heading level0 col4\" >NearMiss1</th>\n",
       "      <th id=\"T_e8754_level0_col5\" class=\"col_heading level0 col5\" >BorderlineS_1</th>\n",
       "      <th id=\"T_e8754_level0_col6\" class=\"col_heading level0 col6\" >BorderlineS_2</th>\n",
       "      <th id=\"T_e8754_level0_col7\" class=\"col_heading level0 col7\" >SMOTE</th>\n",
       "      <th id=\"T_e8754_level0_col8\" class=\"col_heading level0 col8\" >cv_smote</th>\n",
       "      <th id=\"T_e8754_level0_col9\" class=\"col_heading level0 col9\" >MGS</th>\n",
       "    </tr>\n",
       "  </thead>\n",
       "  <tbody>\n",
       "    <tr>\n",
       "      <th id=\"T_e8754_level0_row0\" class=\"row_heading level0 row0\" >ROC AUC</th>\n",
       "      <td id=\"T_e8754_row0_col0\" class=\"data row0 col0\" >0.762</td>\n",
       "      <td id=\"T_e8754_row0_col1\" class=\"data row0 col1\" >0.769</td>\n",
       "      <td id=\"T_e8754_row0_col2\" class=\"data row0 col2\" >0.766</td>\n",
       "      <td id=\"T_e8754_row0_col3\" class=\"data row0 col3\" >0.761</td>\n",
       "      <td id=\"T_e8754_row0_col4\" class=\"data row0 col4\" >0.737</td>\n",
       "      <td id=\"T_e8754_row0_col5\" class=\"data row0 col5\" >0.768</td>\n",
       "      <td id=\"T_e8754_row0_col6\" class=\"data row0 col6\" >0.765</td>\n",
       "      <td id=\"T_e8754_row0_col7\" class=\"data row0 col7\" >0.764</td>\n",
       "      <td id=\"T_e8754_row0_col8\" class=\"data row0 col8\" >0.760</td>\n",
       "      <td id=\"T_e8754_row0_col9\" class=\"data row0 col9\" >0.754</td>\n",
       "    </tr>\n",
       "  </tbody>\n",
       "</table>\n"
      ],
      "text/plain": [
       "<pandas.io.formats.style.Styler at 0x7f1bab590bd0>"
      ]
     },
     "execution_count": 24,
     "metadata": {},
     "output_type": "execute_result"
    }
   ],
   "source": [
    "df_final_mean_pima,df_final_std_pima = compute_metrics_several_protocols(\n",
    "    output_dir=output_dir_path,\n",
    "    init_name_file='2024-02-14-RF100_pima_depthNone_test',\n",
    "    list_metric=list_metric,\n",
    "    bool_roc_auc_only=True,n_iter=20)\n",
    "\n",
    "df_final_mean_pima.style.format(precision=3)"
   ]
  },
  {
   "cell_type": "markdown",
   "id": "25bcd19d",
   "metadata": {},
   "source": [
    "<center><h1  style=\"color:white; background-color:#808b96; border-radius: 10px; padding:15px;\"> Abalone </h1></center>"
   ]
  },
  {
   "cell_type": "markdown",
   "id": "28556d4e",
   "metadata": {},
   "source": [
    "## Run protocol :"
   ]
  },
  {
   "cell_type": "code",
   "execution_count": 3,
   "id": "18611926",
   "metadata": {},
   "outputs": [],
   "source": [
    "from data.data import load_abalone_data\n",
    "X_abalone, y_abalone = load_abalone_data()"
   ]
  },
  {
   "cell_type": "code",
   "execution_count": 4,
   "id": "2d53e440",
   "metadata": {},
   "outputs": [
    {
     "data": {
      "text/plain": [
       "array([[0.455 , 0.365 , 0.095 , ..., 0.2245, 0.101 , 0.15  ],\n",
       "       [0.35  , 0.265 , 0.09  , ..., 0.0995, 0.0485, 0.07  ],\n",
       "       [0.53  , 0.42  , 0.135 , ..., 0.2565, 0.1415, 0.21  ],\n",
       "       ...,\n",
       "       [0.6   , 0.475 , 0.205 , ..., 0.5255, 0.2875, 0.308 ],\n",
       "       [0.625 , 0.485 , 0.15  , ..., 0.531 , 0.261 , 0.296 ],\n",
       "       [0.71  , 0.555 , 0.195 , ..., 0.9455, 0.3765, 0.495 ]])"
      ]
     },
     "execution_count": 4,
     "metadata": {},
     "output_type": "execute_result"
    }
   ],
   "source": [
    "X_abalone"
   ]
  },
  {
   "cell_type": "code",
   "execution_count": 5,
   "id": "8742c41f",
   "metadata": {},
   "outputs": [
    {
     "data": {
      "text/plain": [
       "Counter({0: 4135, 1: 42})"
      ]
     },
     "execution_count": 5,
     "metadata": {},
     "output_type": "execute_result"
    }
   ],
   "source": [
    "from collections import Counter\n",
    "Counter(y_abalone)"
   ]
  },
  {
   "cell_type": "code",
   "execution_count": 8,
   "id": "ecd023ea",
   "metadata": {},
   "outputs": [],
   "source": [
    "rf_model = RandomForestClassifier(n_estimators=100,criterion='gini',n_jobs=5)\n",
    "balanced_rf_model = RandomForestClassifier(n_estimators=100,criterion='gini',class_weight='balanced',n_jobs=5)\n",
    "\n",
    "splitter_stratified_cv = StratifiedKFold(n_splits=5,shuffle=True,random_state=None)\n",
    "CVSmoteRF = CVSmoteModel(\n",
    "    splitter=splitter_stratified_cv,\n",
    "    model=RandomForestClassifier(n_estimators=100,criterion='gini',n_jobs=5),\n",
    "    list_k_max=15,list_k_step=1)\n",
    "\n",
    "list_depth = [3,7,10,13]\n",
    "grid_RF = GridSearchCV(estimator=RandomForestClassifier(n_estimators=100,criterion='gini',n_jobs=10),\n",
    "             param_grid={'max_depth': list_depth }, scoring='roc_auc')\n",
    "\n",
    "list_oversampling_and_params = [\n",
    "    ('None', NoSampling(), {}, rf_model),\n",
    "    ('c_weight', NoSampling(), {}, balanced_rf_model),\n",
    "    ('RUS', RandomUnderSampler(sampling_strategy=\"majority\",replacement=False),{}, rf_model),\n",
    "    ('ROS',  RandomOverSampler(sampling_strategy=\"minority\"),{}, rf_model),\n",
    "    ('NearMiss1', NearMiss(sampling_strategy=\"majority\", version=1),{}, rf_model),\n",
    "    ('BorderlineS_1', BorderlineSMOTE(sampling_strategy=\"minority\", k_neighbors=5, kind=\"borderline-1\"),{}, rf_model),\n",
    "    ('BorderlineS_2',BorderlineSMOTE(sampling_strategy=\"minority\", k_neighbors=5, kind=\"borderline-2\"),{}, rf_model),\n",
    "    ('SMOTE',SMOTE(sampling_strategy=\"minority\"),{},rf_model),\n",
    "    ('cv_smote', NoSampling(),{}, CVSmoteRF),\n",
    "    ('MGS',MGS(K=5,n_points=5,llambda=1.0),{},rf_model),\n",
    "]"
   ]
  },
  {
   "cell_type": "code",
   "execution_count": 9,
   "id": "89e72d3e",
   "metadata": {},
   "outputs": [],
   "source": [
    "init_name_file = '2024-02-14-RF100_abalone_depthNone_test'\n",
    "for i in range(1):\n",
    "    splitter_stratified = StratifiedKFold(n_splits=5,shuffle=True,random_state=100+i)\n",
    "    name_file = init_name_file + str(i) +'.npy'\n",
    "    run_eval(output_dir=output_dir_path,name_file=name_file,X=X_abalone,y=y_abalone,\n",
    "             list_oversampling_and_params=list_oversampling_and_params,\n",
    "             splitter=splitter_stratified)"
   ]
  },
  {
   "cell_type": "markdown",
   "id": "befbf814",
   "metadata": {},
   "source": [
    "## Compute metrics :"
   ]
  },
  {
   "cell_type": "code",
   "execution_count": 10,
   "id": "d8bf58ba",
   "metadata": {},
   "outputs": [],
   "source": [
    "list_metric = [\n",
    "    (precision_score,'precision','pred'),\n",
    "    (recall_score,'recall','pred'),\n",
    "    (roc_auc_score,'roc_auc','proba')\n",
    "]"
   ]
  },
  {
   "cell_type": "code",
   "execution_count": 11,
   "id": "a0f9fbc2",
   "metadata": {},
   "outputs": [
    {
     "data": {
      "text/html": [
       "<style type=\"text/css\">\n",
       "</style>\n",
       "<table id=\"T_085be\">\n",
       "  <thead>\n",
       "    <tr>\n",
       "      <th class=\"blank level0\" >&nbsp;</th>\n",
       "      <th id=\"T_085be_level0_col0\" class=\"col_heading level0 col0\" >None</th>\n",
       "      <th id=\"T_085be_level0_col1\" class=\"col_heading level0 col1\" >c_weight</th>\n",
       "      <th id=\"T_085be_level0_col2\" class=\"col_heading level0 col2\" >RUS</th>\n",
       "      <th id=\"T_085be_level0_col3\" class=\"col_heading level0 col3\" >ROS</th>\n",
       "      <th id=\"T_085be_level0_col4\" class=\"col_heading level0 col4\" >NearMiss1</th>\n",
       "      <th id=\"T_085be_level0_col5\" class=\"col_heading level0 col5\" >BorderlineS_1</th>\n",
       "      <th id=\"T_085be_level0_col6\" class=\"col_heading level0 col6\" >BorderlineS_2</th>\n",
       "      <th id=\"T_085be_level0_col7\" class=\"col_heading level0 col7\" >SMOTE</th>\n",
       "      <th id=\"T_085be_level0_col8\" class=\"col_heading level0 col8\" >cv_smote</th>\n",
       "      <th id=\"T_085be_level0_col9\" class=\"col_heading level0 col9\" >MGS</th>\n",
       "    </tr>\n",
       "  </thead>\n",
       "  <tbody>\n",
       "    <tr>\n",
       "      <th id=\"T_085be_level0_row0\" class=\"row_heading level0 row0\" >ROC AUC</th>\n",
       "      <td id=\"T_085be_row0_col0\" class=\"data row0 col0\" >0.690</td>\n",
       "      <td id=\"T_085be_row0_col1\" class=\"data row0 col1\" >0.653</td>\n",
       "      <td id=\"T_085be_row0_col2\" class=\"data row0 col2\" >0.764</td>\n",
       "      <td id=\"T_085be_row0_col3\" class=\"data row0 col3\" >0.670</td>\n",
       "      <td id=\"T_085be_row0_col4\" class=\"data row0 col4\" >0.563</td>\n",
       "      <td id=\"T_085be_row0_col5\" class=\"data row0 col5\" >0.740</td>\n",
       "      <td id=\"T_085be_row0_col6\" class=\"data row0 col6\" >0.763</td>\n",
       "      <td id=\"T_085be_row0_col7\" class=\"data row0 col7\" >0.746</td>\n",
       "      <td id=\"T_085be_row0_col8\" class=\"data row0 col8\" >0.782</td>\n",
       "      <td id=\"T_085be_row0_col9\" class=\"data row0 col9\" >0.810</td>\n",
       "    </tr>\n",
       "  </tbody>\n",
       "</table>\n"
      ],
      "text/plain": [
       "<pandas.io.formats.style.Styler at 0x7f7025036610>"
      ]
     },
     "execution_count": 11,
     "metadata": {},
     "output_type": "execute_result"
    }
   ],
   "source": [
    "df_final_mean_abalone,df_final_std_abalone = compute_metrics_several_protocols(\n",
    "    output_dir=output_dir_path,\n",
    "    init_name_file='2024-02-14-RF100_abalone_depthNone_test',\n",
    "    list_metric=list_metric,\n",
    "    bool_roc_auc_only=True,n_iter=1)\n",
    "\n",
    "df_final_mean_abalone.style.format(precision=3)"
   ]
  },
  {
   "cell_type": "markdown",
   "id": "cc84a06c",
   "metadata": {},
   "source": [
    "<center><h1  style=\"color:white; background-color:#808b96; border-radius: 10px; padding:15px;\"> Haberman </h1></center>"
   ]
  },
  {
   "cell_type": "markdown",
   "id": "112be115",
   "metadata": {},
   "source": [
    "## Run protocol :"
   ]
  },
  {
   "cell_type": "code",
   "execution_count": 12,
   "id": "f8d9171a",
   "metadata": {},
   "outputs": [],
   "source": [
    "from data.data import load_haberman_data\n",
    "X_haberman,y_haberman = load_haberman_data()"
   ]
  },
  {
   "cell_type": "code",
   "execution_count": 13,
   "id": "f2178b0e",
   "metadata": {},
   "outputs": [],
   "source": [
    "indices_kept_10 = subsample_to_ratio_indices(X=X_haberman,y=y_haberman,ratio=0.1,seed_sub=11,\n",
    "                                           output_dir_subsampling=output_dir_path,\n",
    "                                           name_subsampling_file='haberman_sub_original_to_20')\n",
    "X_haberman_10,y_haberman_10 = X_haberman[indices_kept_10,:],y_haberman[indices_kept_10]"
   ]
  },
  {
   "cell_type": "code",
   "execution_count": 14,
   "id": "f238c57a",
   "metadata": {},
   "outputs": [],
   "source": [
    "rf_model = RandomForestClassifier(n_estimators=100,criterion='gini',n_jobs=5)\n",
    "balanced_rf_model = RandomForestClassifier(n_estimators=100,criterion='gini',class_weight='balanced',n_jobs=5)\n",
    "\n",
    "splitter_stratified_cv = StratifiedKFold(n_splits=5,shuffle=True,random_state=None)\n",
    "CVSmoteRF = CVSmoteModel(\n",
    "    splitter=splitter_stratified_cv,\n",
    "    model=RandomForestClassifier(n_estimators=100,criterion='gini',n_jobs=5),\n",
    "    list_k_max=15,list_k_step=1)\n",
    "\n",
    "list_depth = [5,15,19,24,29,32]\n",
    "grid_RF = GridSearchCV(estimator=RandomForestClassifier(n_estimators=100,criterion='gini',n_jobs=10),\n",
    "             param_grid={'max_depth': list_depth }, scoring='roc_auc')\n",
    "\n",
    "list_oversampling_and_params = [\n",
    "    ('None', NoSampling(), {}, rf_model),\n",
    "    ('c_weight', NoSampling(), {}, balanced_rf_model),\n",
    "    ('RUS', RandomUnderSampler(sampling_strategy=\"majority\",replacement=False),{}, rf_model),\n",
    "    ('ROS',  RandomOverSampler(sampling_strategy=\"minority\"),{}, rf_model),\n",
    "    ('NearMiss1', NearMiss(sampling_strategy=\"majority\", version=1),{}, rf_model),\n",
    "    ('BorderlineS_1', BorderlineSMOTE(sampling_strategy=\"minority\", k_neighbors=5, kind=\"borderline-1\"),{}, rf_model),\n",
    "    ('BorderlineS_2',BorderlineSMOTE(sampling_strategy=\"minority\", k_neighbors=5, kind=\"borderline-2\"),{}, rf_model),\n",
    "    ('SMOTE',SMOTE(sampling_strategy=\"minority\"),{},rf_model),\n",
    "    ('cv_smote', NoSampling(),{}, CVSmoteRF),\n",
    "    ('MGS',MGS(K=5,n_points=5,llambda=1.0),{},rf_model),\n",
    "]"
   ]
  },
  {
   "cell_type": "code",
   "execution_count": 15,
   "id": "0abf5ae7",
   "metadata": {},
   "outputs": [],
   "source": [
    "init_name_file = '2024-02-14-RF100_haberman_depthNone_test'\n",
    "for i in range(1):\n",
    "    splitter_stratified = StratifiedKFold(n_splits=5,shuffle=True,random_state=100+i)\n",
    "    name_file = init_name_file + str(i) +'.npy'\n",
    "    run_eval(output_dir=output_dir_path,name_file=name_file,X=X_haberman_10,y=y_haberman_10,\n",
    "             list_oversampling_and_params=list_oversampling_and_params,\n",
    "             splitter=splitter_stratified)"
   ]
  },
  {
   "cell_type": "markdown",
   "id": "43f6a16d",
   "metadata": {},
   "source": [
    "## Compute metrics :"
   ]
  },
  {
   "cell_type": "code",
   "execution_count": 16,
   "id": "5c3198d6",
   "metadata": {},
   "outputs": [],
   "source": [
    "from sklearn.metrics import precision_score, recall_score, roc_auc_score\n",
    "from validation.classif_experiments import compute_metrics_several_protocols\n",
    "\n",
    "list_metric = [\n",
    "    (precision_score,'precision','pred'),\n",
    "    (recall_score,'recall','pred'),\n",
    "    (roc_auc_score,'roc_auc','proba')\n",
    "]"
   ]
  },
  {
   "cell_type": "code",
   "execution_count": 17,
   "id": "50005730",
   "metadata": {},
   "outputs": [
    {
     "data": {
      "text/html": [
       "<style type=\"text/css\">\n",
       "</style>\n",
       "<table id=\"T_6eeba\">\n",
       "  <thead>\n",
       "    <tr>\n",
       "      <th class=\"blank level0\" >&nbsp;</th>\n",
       "      <th id=\"T_6eeba_level0_col0\" class=\"col_heading level0 col0\" >None</th>\n",
       "      <th id=\"T_6eeba_level0_col1\" class=\"col_heading level0 col1\" >c_weight</th>\n",
       "      <th id=\"T_6eeba_level0_col2\" class=\"col_heading level0 col2\" >RUS</th>\n",
       "      <th id=\"T_6eeba_level0_col3\" class=\"col_heading level0 col3\" >ROS</th>\n",
       "      <th id=\"T_6eeba_level0_col4\" class=\"col_heading level0 col4\" >NearMiss1</th>\n",
       "      <th id=\"T_6eeba_level0_col5\" class=\"col_heading level0 col5\" >BorderlineS_1</th>\n",
       "      <th id=\"T_6eeba_level0_col6\" class=\"col_heading level0 col6\" >BorderlineS_2</th>\n",
       "      <th id=\"T_6eeba_level0_col7\" class=\"col_heading level0 col7\" >SMOTE</th>\n",
       "      <th id=\"T_6eeba_level0_col8\" class=\"col_heading level0 col8\" >cv_smote</th>\n",
       "      <th id=\"T_6eeba_level0_col9\" class=\"col_heading level0 col9\" >MGS</th>\n",
       "    </tr>\n",
       "  </thead>\n",
       "  <tbody>\n",
       "    <tr>\n",
       "      <th id=\"T_6eeba_level0_row0\" class=\"row_heading level0 row0\" >ROC AUC</th>\n",
       "      <td id=\"T_6eeba_row0_col0\" class=\"data row0 col0\" >0.706</td>\n",
       "      <td id=\"T_6eeba_row0_col1\" class=\"data row0 col1\" >0.722</td>\n",
       "      <td id=\"T_6eeba_row0_col2\" class=\"data row0 col2\" >0.752</td>\n",
       "      <td id=\"T_6eeba_row0_col3\" class=\"data row0 col3\" >0.712</td>\n",
       "      <td id=\"T_6eeba_row0_col4\" class=\"data row0 col4\" >0.656</td>\n",
       "      <td id=\"T_6eeba_row0_col5\" class=\"data row0 col5\" >0.733</td>\n",
       "      <td id=\"T_6eeba_row0_col6\" class=\"data row0 col6\" >0.702</td>\n",
       "      <td id=\"T_6eeba_row0_col7\" class=\"data row0 col7\" >0.745</td>\n",
       "      <td id=\"T_6eeba_row0_col8\" class=\"data row0 col8\" >0.764</td>\n",
       "      <td id=\"T_6eeba_row0_col9\" class=\"data row0 col9\" >0.760</td>\n",
       "    </tr>\n",
       "  </tbody>\n",
       "</table>\n"
      ],
      "text/plain": [
       "<pandas.io.formats.style.Styler at 0x7f7024f19190>"
      ]
     },
     "execution_count": 17,
     "metadata": {},
     "output_type": "execute_result"
    }
   ],
   "source": [
    "df_final_mean_haberman,df_final_std_haberman = compute_metrics_several_protocols(\n",
    "    output_dir=output_dir_path,\n",
    "    init_name_file='2024-02-14-RF100_haberman_depthNone_test',\n",
    "    list_metric=list_metric,\n",
    "    bool_roc_auc_only=True,n_iter=1)\n",
    "\n",
    "df_final_mean_haberman.style.format(precision=3)"
   ]
  },
  {
   "cell_type": "markdown",
   "id": "2211351d",
   "metadata": {},
   "source": [
    "<center><h1  style=\"color:white; background-color:#808b96; border-radius: 10px; padding:15px;\"> Yeast </h1></center>"
   ]
  },
  {
   "cell_type": "code",
   "execution_count": 14,
   "id": "e39fe093",
   "metadata": {},
   "outputs": [],
   "source": [
    "from data.data import load_yeast_data\n",
    "X_yeast,y_yeast = load_yeast_data()"
   ]
  },
  {
   "cell_type": "code",
   "execution_count": 15,
   "id": "271cc234",
   "metadata": {},
   "outputs": [],
   "source": [
    "indices_kept_10 = subsample_to_ratio_indices(X=X_yeast,y=y_yeast,ratio=0.01,seed_sub=15,\n",
    "                                           output_dir_subsampling=output_dir_path,\n",
    "                                           name_subsampling_file='yeast_sub_original_to_1')\n",
    "X_yeast_1,y_yeast_1 = X_yeast[indices_kept_10,:],y_yeast[indices_kept_10]"
   ]
  },
  {
   "cell_type": "code",
   "execution_count": 16,
   "id": "7744886e",
   "metadata": {},
   "outputs": [],
   "source": [
    "rf_model = RandomForestClassifier(n_estimators=100,criterion='gini',n_jobs=5)\n",
    "balanced_rf_model = RandomForestClassifier(n_estimators=100,criterion='gini',class_weight='balanced',n_jobs=5)\n",
    "\n",
    "splitter_stratified_cv = StratifiedKFold(n_splits=5,shuffle=True,random_state=None)\n",
    "CVSmoteRF = CVSmoteModel(\n",
    "    splitter=splitter_stratified_cv,\n",
    "    model=RandomForestClassifier(n_estimators=100,criterion='gini',n_jobs=5),\n",
    "    list_k_max=7,list_k_step=1)\n",
    "\n",
    "list_oversampling_and_params = [\n",
    "    ('None', NoSampling(), {}, rf_model),\n",
    "    ('c_weight', NoSampling(), {}, balanced_rf_model),\n",
    "    ('RUS', RandomUnderSampler(sampling_strategy=\"majority\",replacement=False),{}, rf_model),\n",
    "    ('ROS',  RandomOverSampler(sampling_strategy=\"minority\"),{}, rf_model),\n",
    "    ('NearMiss1', NearMiss(sampling_strategy=\"majority\", version=1),{}, rf_model),\n",
    "    ('BorderlineS_1', BorderlineSMOTE(sampling_strategy=\"minority\", k_neighbors=5, kind=\"borderline-1\"),{}, rf_model),\n",
    "    ('BorderlineS_2',BorderlineSMOTE(sampling_strategy=\"minority\", k_neighbors=5, kind=\"borderline-2\"),{}, rf_model),\n",
    "    ('SMOTE',SMOTE(sampling_strategy=\"minority\"),{},rf_model),\n",
    "    ('cv_smote', NoSampling(),{}, CVSmoteRF),\n",
    "    ('MGS',MGS(K=5,n_points=5,llambda=1.0),{},rf_model),\n",
    "]"
   ]
  },
  {
   "cell_type": "code",
   "execution_count": 17,
   "id": "e98a7e95",
   "metadata": {},
   "outputs": [],
   "source": [
    "init_name_file = '2024-02-14-RF100_yeast_depthNone_test'\n",
    "for i in range(10):\n",
    "    splitter_stratified = StratifiedKFold(n_splits=5,shuffle=True,random_state=100+i)\n",
    "    name_file = init_name_file + str(i) +'.npy'\n",
    "    run_eval(output_dir=output_dir_path,name_file=name_file,X=X_yeast_1,y=y_yeast_1,\n",
    "             list_oversampling_and_params=list_oversampling_and_params,\n",
    "             splitter=splitter_stratified)"
   ]
  },
  {
   "cell_type": "markdown",
   "id": "eeca2f81",
   "metadata": {},
   "source": [
    "## Compute Metrics :"
   ]
  },
  {
   "cell_type": "code",
   "execution_count": 18,
   "id": "6005f90e",
   "metadata": {},
   "outputs": [],
   "source": [
    "from sklearn.metrics import precision_score, recall_score, roc_auc_score\n",
    "from validation.classif_experiments import compute_metrics_several_protocols\n",
    "\n",
    "list_metric = [\n",
    "    (precision_score,'precision','pred'),\n",
    "    (recall_score,'recall','pred'),\n",
    "    (roc_auc_score,'roc_auc','proba')\n",
    "]"
   ]
  },
  {
   "cell_type": "code",
   "execution_count": 19,
   "id": "caf68e3c",
   "metadata": {},
   "outputs": [
    {
     "data": {
      "text/html": [
       "<style type=\"text/css\">\n",
       "</style>\n",
       "<table id=\"T_a4a15\">\n",
       "  <thead>\n",
       "    <tr>\n",
       "      <th class=\"blank level0\" >&nbsp;</th>\n",
       "      <th id=\"T_a4a15_level0_col0\" class=\"col_heading level0 col0\" >None</th>\n",
       "      <th id=\"T_a4a15_level0_col1\" class=\"col_heading level0 col1\" >c_weight</th>\n",
       "      <th id=\"T_a4a15_level0_col2\" class=\"col_heading level0 col2\" >RUS</th>\n",
       "      <th id=\"T_a4a15_level0_col3\" class=\"col_heading level0 col3\" >ROS</th>\n",
       "      <th id=\"T_a4a15_level0_col4\" class=\"col_heading level0 col4\" >NearMiss1</th>\n",
       "      <th id=\"T_a4a15_level0_col5\" class=\"col_heading level0 col5\" >BorderlineS_1</th>\n",
       "      <th id=\"T_a4a15_level0_col6\" class=\"col_heading level0 col6\" >BorderlineS_2</th>\n",
       "      <th id=\"T_a4a15_level0_col7\" class=\"col_heading level0 col7\" >SMOTE</th>\n",
       "      <th id=\"T_a4a15_level0_col8\" class=\"col_heading level0 col8\" >cv_smote</th>\n",
       "      <th id=\"T_a4a15_level0_col9\" class=\"col_heading level0 col9\" >MGS</th>\n",
       "    </tr>\n",
       "  </thead>\n",
       "  <tbody>\n",
       "    <tr>\n",
       "      <th id=\"T_a4a15_level0_row0\" class=\"row_heading level0 row0\" >ROC AUC</th>\n",
       "      <td id=\"T_a4a15_row0_col0\" class=\"data row0 col0\" >0.900</td>\n",
       "      <td id=\"T_a4a15_row0_col1\" class=\"data row0 col1\" >0.927</td>\n",
       "      <td id=\"T_a4a15_row0_col2\" class=\"data row0 col2\" >0.923</td>\n",
       "      <td id=\"T_a4a15_row0_col3\" class=\"data row0 col3\" >0.906</td>\n",
       "      <td id=\"T_a4a15_row0_col4\" class=\"data row0 col4\" >0.725</td>\n",
       "      <td id=\"T_a4a15_row0_col5\" class=\"data row0 col5\" >0.949</td>\n",
       "      <td id=\"T_a4a15_row0_col6\" class=\"data row0 col6\" >0.944</td>\n",
       "      <td id=\"T_a4a15_row0_col7\" class=\"data row0 col7\" >0.946</td>\n",
       "      <td id=\"T_a4a15_row0_col8\" class=\"data row0 col8\" >0.941</td>\n",
       "      <td id=\"T_a4a15_row0_col9\" class=\"data row0 col9\" >0.935</td>\n",
       "    </tr>\n",
       "  </tbody>\n",
       "</table>\n"
      ],
      "text/plain": [
       "<pandas.io.formats.style.Styler at 0x7faa27da5f90>"
      ]
     },
     "execution_count": 19,
     "metadata": {},
     "output_type": "execute_result"
    }
   ],
   "source": [
    "df_final_mean_haberman,df_final_std_haberman = compute_metrics_several_protocols(\n",
    "    output_dir=output_dir_path,\n",
    "    init_name_file='2024-02-14-RF100_yeast_depthNone_test',\n",
    "    list_metric=list_metric,\n",
    "    bool_roc_auc_only=True,n_iter=10)\n",
    "\n",
    "df_final_mean_haberman.style.format(precision=3)"
   ]
  },
  {
   "cell_type": "markdown",
   "id": "8360608c",
   "metadata": {},
   "source": [
    "<center><h1  style=\"color:white; background-color:#808b96; border-radius: 10px; padding:15px;\"> MagicTel </h1></center>"
   ]
  },
  {
   "cell_type": "code",
   "execution_count": 3,
   "id": "13dfc6f0",
   "metadata": {},
   "outputs": [],
   "source": [
    "from data.data import load_magictel_data\n",
    "X_magic,y_magic = load_magictel_data()"
   ]
  },
  {
   "cell_type": "code",
   "execution_count": 4,
   "id": "89b3b1f5",
   "metadata": {},
   "outputs": [],
   "source": [
    "indices_kept_20 = subsample_to_ratio_indices(X=X_magic,y=y_magic,ratio=0.2,seed_sub=11,\n",
    "                                           output_dir_subsampling=output_dir_path,\n",
    "                                           name_subsampling_file='magicTel_sub_original_to_20')\n",
    "\n",
    "indices_kept_10 = subsample_to_ratio_indices(\n",
    "    X=X_magic,y=y_magic,ratio=0.1,seed_sub=9,\n",
    "    output_dir_subsampling=output_dir_path,\n",
    "    name_subsampling_file='magicTel_sub_20_to_10',has_previous_under_sampling=True,\n",
    "    previous_under_sampling=indices_kept_20)\n",
    "\n",
    "indices_kept_1 = subsample_to_ratio_indices(X=X_magic,y=y_magic,ratio=0.01,seed_sub=5,\n",
    "    output_dir_subsampling=output_dir_path,\n",
    "    name_subsampling_file='magicTel_sub_10_to_1',has_previous_under_sampling=True,\n",
    "    previous_under_sampling=indices_kept_10)"
   ]
  },
  {
   "cell_type": "code",
   "execution_count": 5,
   "id": "5d05af15",
   "metadata": {},
   "outputs": [],
   "source": [
    "X_magic_1,y_magic_1 = read_subsampling_indices(X=X_magic,y=y_magic, dir_subsampling=output_dir_path, name_subsampling_file='magicTel_sub_10_to_1', get_indexes=False)"
   ]
  },
  {
   "cell_type": "code",
   "execution_count": 6,
   "id": "aa986c2b",
   "metadata": {},
   "outputs": [
    {
     "data": {
      "text/plain": [
       "array([ 863, 4583, 4525, 4043, 4982, 5598, 4891, 6560, 1218, 1363,  162,\n",
       "       5197, 4395, 2620, 4782, 1396, 5223,   14, 4209, 6676,  263, 1834,\n",
       "       6198, 1540, 1999, 5394, 2958, 1490, 4127, 4295, 2791, 4380, 2372,\n",
       "       4825, 4935, 1822, 3035, 2161, 4965, 4771, 1952, 4539, 2853, 5202,\n",
       "       4346, 5080, 1226, 3800, 3558, 5568])"
      ]
     },
     "execution_count": 6,
     "metadata": {},
     "output_type": "execute_result"
    }
   ],
   "source": [
    "indices_kept_1[:50]"
   ]
  },
  {
   "cell_type": "code",
   "execution_count": 7,
   "id": "f5536aff",
   "metadata": {},
   "outputs": [],
   "source": [
    "rf_model = RandomForestClassifier(n_estimators=100,criterion='gini',n_jobs=5)\n",
    "balanced_rf_model = RandomForestClassifier(n_estimators=100,criterion='gini',class_weight='balanced',n_jobs=5)\n",
    "\n",
    "splitter_stratified_cv = StratifiedKFold(n_splits=5,shuffle=True,random_state=None)\n",
    "CVSmoteRF = CVSmoteModel(\n",
    "    splitter=splitter_stratified_cv,\n",
    "    model=RandomForestClassifier(n_estimators=100,criterion='gini',n_jobs=5),\n",
    "    list_k_max=15,list_k_step=1)\n",
    "\n",
    "list_oversampling_and_params = [\n",
    "    ('None', NoSampling(), {}, rf_model),\n",
    "    ('c_weight', NoSampling(), {}, balanced_rf_model),\n",
    "    ('RUS', RandomUnderSampler(sampling_strategy=\"majority\",replacement=False),{}, rf_model),\n",
    "    ('ROS',  RandomOverSampler(sampling_strategy=\"minority\"),{}, rf_model),\n",
    "    ('NearMiss1', NearMiss(sampling_strategy=\"majority\", version=1),{}, rf_model),\n",
    "    ('BorderlineS_1', BorderlineSMOTE(sampling_strategy=\"minority\", k_neighbors=5, kind=\"borderline-1\"),{}, rf_model),\n",
    "    ('BorderlineS_2',BorderlineSMOTE(sampling_strategy=\"minority\", k_neighbors=5, kind=\"borderline-2\"),{}, rf_model),\n",
    "    ('SMOTE',SMOTE(sampling_strategy=\"minority\"),{},rf_model),\n",
    "    ('cv_smote', NoSampling(),{}, CVSmoteRF),\n",
    "    ('MGS',MGS(K=5,n_points=5,llambda=1.0),{},rf_model),\n",
    "]"
   ]
  },
  {
   "cell_type": "code",
   "execution_count": 8,
   "id": "3f6a4e12",
   "metadata": {},
   "outputs": [],
   "source": [
    "init_name_file = '2024-02-14-RF100_magicTel_depthNone_test'\n",
    "for i in range(10):\n",
    "    splitter_stratified = StratifiedKFold(n_splits=5,shuffle=True,random_state=100+i)\n",
    "    name_file = init_name_file + str(i) +'.npy'\n",
    "    run_eval(output_dir=output_dir_path,name_file=name_file,X=X_magic_1,y=y_magic_1,\n",
    "             list_oversampling_and_params=list_oversampling_and_params,\n",
    "             splitter=splitter_stratified)"
   ]
  },
  {
   "cell_type": "markdown",
   "id": "107bd10e",
   "metadata": {},
   "source": [
    "## Compute Metrics :"
   ]
  },
  {
   "cell_type": "code",
   "execution_count": 9,
   "id": "f8ba7bf0",
   "metadata": {},
   "outputs": [],
   "source": [
    "from sklearn.metrics import precision_score, recall_score, roc_auc_score\n",
    "from validation.classif_experiments import compute_metrics_several_protocols\n",
    "\n",
    "list_metric = [\n",
    "    (precision_score,'precision','pred'),\n",
    "    (recall_score,'recall','pred'),\n",
    "    (roc_auc_score,'roc_auc','proba')\n",
    "]"
   ]
  },
  {
   "cell_type": "code",
   "execution_count": 10,
   "id": "8869e89a",
   "metadata": {},
   "outputs": [
    {
     "data": {
      "text/html": [
       "<style type=\"text/css\">\n",
       "</style>\n",
       "<table id=\"T_4953a\">\n",
       "  <thead>\n",
       "    <tr>\n",
       "      <th class=\"blank level0\" >&nbsp;</th>\n",
       "      <th id=\"T_4953a_level0_col0\" class=\"col_heading level0 col0\" >None</th>\n",
       "      <th id=\"T_4953a_level0_col1\" class=\"col_heading level0 col1\" >c_weight</th>\n",
       "      <th id=\"T_4953a_level0_col2\" class=\"col_heading level0 col2\" >RUS</th>\n",
       "      <th id=\"T_4953a_level0_col3\" class=\"col_heading level0 col3\" >ROS</th>\n",
       "      <th id=\"T_4953a_level0_col4\" class=\"col_heading level0 col4\" >NearMiss1</th>\n",
       "      <th id=\"T_4953a_level0_col5\" class=\"col_heading level0 col5\" >BorderlineS_1</th>\n",
       "      <th id=\"T_4953a_level0_col6\" class=\"col_heading level0 col6\" >BorderlineS_2</th>\n",
       "      <th id=\"T_4953a_level0_col7\" class=\"col_heading level0 col7\" >SMOTE</th>\n",
       "      <th id=\"T_4953a_level0_col8\" class=\"col_heading level0 col8\" >cv_smote</th>\n",
       "      <th id=\"T_4953a_level0_col9\" class=\"col_heading level0 col9\" >MGS</th>\n",
       "    </tr>\n",
       "  </thead>\n",
       "  <tbody>\n",
       "    <tr>\n",
       "      <th id=\"T_4953a_level0_row0\" class=\"row_heading level0 row0\" >ROC AUC</th>\n",
       "      <td id=\"T_4953a_row0_col0\" class=\"data row0 col0\" >0.814</td>\n",
       "      <td id=\"T_4953a_row0_col1\" class=\"data row0 col1\" >0.828</td>\n",
       "      <td id=\"T_4953a_row0_col2\" class=\"data row0 col2\" >0.889</td>\n",
       "      <td id=\"T_4953a_row0_col3\" class=\"data row0 col3\" >0.815</td>\n",
       "      <td id=\"T_4953a_row0_col4\" class=\"data row0 col4\" >0.539</td>\n",
       "      <td id=\"T_4953a_row0_col5\" class=\"data row0 col5\" >0.836</td>\n",
       "      <td id=\"T_4953a_row0_col6\" class=\"data row0 col6\" >0.811</td>\n",
       "      <td id=\"T_4953a_row0_col7\" class=\"data row0 col7\" >0.868</td>\n",
       "      <td id=\"T_4953a_row0_col8\" class=\"data row0 col8\" >0.870</td>\n",
       "      <td id=\"T_4953a_row0_col9\" class=\"data row0 col9\" >0.893</td>\n",
       "    </tr>\n",
       "  </tbody>\n",
       "</table>\n"
      ],
      "text/plain": [
       "<pandas.io.formats.style.Styler at 0x7f141edb4650>"
      ]
     },
     "execution_count": 10,
     "metadata": {},
     "output_type": "execute_result"
    }
   ],
   "source": [
    "df_final_mean_haberman,df_final_std_haberman = compute_metrics_several_protocols(\n",
    "    output_dir=output_dir_path,\n",
    "    init_name_file='2024-02-14-RF100_magicTel_depthNone_test',\n",
    "    list_metric=list_metric,\n",
    "    bool_roc_auc_only=True,n_iter=10)\n",
    "\n",
    "df_final_mean_haberman.style.format(precision=3)"
   ]
  },
  {
   "cell_type": "markdown",
   "id": "fab53a5d",
   "metadata": {},
   "source": [
    "<center><h1  style=\"color:white; background-color:#808b96; border-radius: 10px; padding:15px;\"> California </h1></center>"
   ]
  },
  {
   "cell_type": "code",
   "execution_count": 11,
   "id": "88f5f463",
   "metadata": {},
   "outputs": [],
   "source": [
    "from data.data import load_california_data\n",
    "X_california,y_california = load_california_data()"
   ]
  },
  {
   "cell_type": "code",
   "execution_count": 12,
   "id": "b9b5889e",
   "metadata": {},
   "outputs": [
    {
     "data": {
      "text/plain": [
       "array([[   2.1827    ,   26.        ,    4.52142857, ...,    2.17857143,\n",
       "          40.05      , -122.1       ],\n",
       "       [   3.0755    ,   32.        ,    4.62306778, ...,    4.59928656,\n",
       "          32.77      , -117.06      ],\n",
       "       [   1.8235    ,   40.        ,    4.70114943, ...,    3.55555556,\n",
       "          37.75      , -122.16      ],\n",
       "       ...,\n",
       "       [   1.9327    ,   10.        ,    5.78947368, ...,    3.93859649,\n",
       "          38.57      , -121.92      ],\n",
       "       [   3.75      ,   38.        ,    5.27522936, ...,    2.37614679,\n",
       "          38.72      , -121.9       ],\n",
       "       [   2.8542    ,   37.        ,    5.25373134, ...,    3.55223881,\n",
       "          38.84      , -121.81      ]])"
      ]
     },
     "execution_count": 12,
     "metadata": {},
     "output_type": "execute_result"
    }
   ],
   "source": [
    "X_california"
   ]
  },
  {
   "cell_type": "code",
   "execution_count": 13,
   "id": "870d5cce",
   "metadata": {},
   "outputs": [
    {
     "data": {
      "text/plain": [
       "(20634, 8)"
      ]
     },
     "execution_count": 13,
     "metadata": {},
     "output_type": "execute_result"
    }
   ],
   "source": [
    "X_california.shape"
   ]
  },
  {
   "cell_type": "code",
   "execution_count": 14,
   "id": "e9b9d153",
   "metadata": {},
   "outputs": [],
   "source": [
    "indices_kept_20 = subsample_to_ratio_indices(X=X_california,y=y_california,ratio=0.2,seed_sub=11,\n",
    "                                           output_dir_subsampling=output_dir_path,\n",
    "                                           name_subsampling_file='california_sub_original_to_20')\n",
    "\n",
    "indices_kept_10 = subsample_to_ratio_indices(\n",
    "    X=X_california,y=y_california,ratio=0.1,seed_sub=9,\n",
    "    output_dir_subsampling=output_dir_path,\n",
    "    name_subsampling_file='california_sub_20_to_10',has_previous_under_sampling=True,\n",
    "    previous_under_sampling=indices_kept_20)\n",
    "\n",
    "indices_kept_1 = subsample_to_ratio_indices(X=X_california,y=y_california,ratio=0.01,seed_sub=5,\n",
    "    output_dir_subsampling=output_dir_path,\n",
    "    name_subsampling_file='california_sub_10_to_1',has_previous_under_sampling=True,\n",
    "    previous_under_sampling=indices_kept_10)"
   ]
  },
  {
   "cell_type": "code",
   "execution_count": 15,
   "id": "de5d5816",
   "metadata": {},
   "outputs": [],
   "source": [
    "X_california_1,y_california_1 = read_subsampling_indices(X=X_california,y=y_california, dir_subsampling=output_dir_path, name_subsampling_file='california_sub_10_to_1', get_indexes=False)"
   ]
  },
  {
   "cell_type": "code",
   "execution_count": 16,
   "id": "9492d5da",
   "metadata": {},
   "outputs": [
    {
     "data": {
      "text/plain": [
       "array([18782, 12352, 20361, ..., 10314, 10315, 10316])"
      ]
     },
     "execution_count": 16,
     "metadata": {},
     "output_type": "execute_result"
    }
   ],
   "source": [
    "indices_kept_1"
   ]
  },
  {
   "cell_type": "code",
   "execution_count": 17,
   "id": "014bae98",
   "metadata": {},
   "outputs": [
    {
     "data": {
      "text/plain": [
       "array([12137, 10798, 17461, ..., 10314, 10315, 10316])"
      ]
     },
     "execution_count": 17,
     "metadata": {},
     "output_type": "execute_result"
    }
   ],
   "source": [
    "indices_kept_10"
   ]
  },
  {
   "cell_type": "code",
   "execution_count": 18,
   "id": "fe0a365d",
   "metadata": {},
   "outputs": [],
   "source": [
    "rf_model = RandomForestClassifier(n_estimators=100,criterion='gini',n_jobs=5)\n",
    "balanced_rf_model = RandomForestClassifier(n_estimators=100,criterion='gini',class_weight='balanced',n_jobs=5)\n",
    "\n",
    "splitter_stratified_cv = StratifiedKFold(n_splits=5,shuffle=True,random_state=None)\n",
    "CVSmoteRF = CVSmoteModel(\n",
    "    splitter=splitter_stratified_cv,\n",
    "    model=RandomForestClassifier(n_estimators=100,criterion='gini',n_jobs=5),\n",
    "    list_k_max=15,list_k_step=1)\n",
    "\n",
    "list_oversampling_and_params = [\n",
    "    ('None', NoSampling(), {}, rf_model),\n",
    "    ('c_weight', NoSampling(), {}, balanced_rf_model),\n",
    "    ('RUS', RandomUnderSampler(sampling_strategy=\"majority\",replacement=False),{}, rf_model),\n",
    "    ('ROS',  RandomOverSampler(sampling_strategy=\"minority\"),{}, rf_model),\n",
    "    ('NearMiss1', NearMiss(sampling_strategy=\"majority\", version=1),{}, rf_model),\n",
    "    ('BorderlineS_1', BorderlineSMOTE(sampling_strategy=\"minority\", k_neighbors=5, kind=\"borderline-1\"),{}, rf_model),\n",
    "    ('BorderlineS_2',BorderlineSMOTE(sampling_strategy=\"minority\", k_neighbors=5, kind=\"borderline-2\"),{}, rf_model),\n",
    "    ('SMOTE',SMOTE(sampling_strategy=\"minority\"),{},rf_model),\n",
    "    ('cv_smote', NoSampling(),{}, CVSmoteRF),\n",
    "    ('MGS',MGS(K=5,n_points=5,llambda=1.0),{},rf_model),\n",
    "]"
   ]
  },
  {
   "cell_type": "code",
   "execution_count": 19,
   "id": "4c4c9cb7",
   "metadata": {},
   "outputs": [],
   "source": [
    "init_name_file = '2024-02-14-RF100_california_depthNone_test'\n",
    "for i in range(5):\n",
    "    splitter_stratified = StratifiedKFold(n_splits=5,shuffle=True,random_state=100+i)\n",
    "    name_file = init_name_file + str(i) +'.npy'\n",
    "    run_eval(output_dir=output_dir_path,name_file=name_file,X=X_california_1,y=y_california_1,\n",
    "             list_oversampling_and_params=list_oversampling_and_params,\n",
    "             splitter=splitter_stratified)"
   ]
  },
  {
   "cell_type": "markdown",
   "id": "9bc1ddcc",
   "metadata": {},
   "source": [
    "## Compute Metrics :"
   ]
  },
  {
   "cell_type": "code",
   "execution_count": 20,
   "id": "94c398a1",
   "metadata": {},
   "outputs": [],
   "source": [
    "from sklearn.metrics import precision_score, recall_score, roc_auc_score\n",
    "from validation.classif_experiments import compute_metrics_several_protocols\n",
    "\n",
    "list_metric = [\n",
    "    (precision_score,'precision','pred'),\n",
    "    (recall_score,'recall','pred'),\n",
    "    (roc_auc_score,'roc_auc','proba')\n",
    "]"
   ]
  },
  {
   "cell_type": "code",
   "execution_count": 21,
   "id": "896a5bdd",
   "metadata": {},
   "outputs": [
    {
     "data": {
      "text/html": [
       "<style type=\"text/css\">\n",
       "</style>\n",
       "<table id=\"T_95acd\">\n",
       "  <thead>\n",
       "    <tr>\n",
       "      <th class=\"blank level0\" >&nbsp;</th>\n",
       "      <th id=\"T_95acd_level0_col0\" class=\"col_heading level0 col0\" >None</th>\n",
       "      <th id=\"T_95acd_level0_col1\" class=\"col_heading level0 col1\" >c_weight</th>\n",
       "      <th id=\"T_95acd_level0_col2\" class=\"col_heading level0 col2\" >RUS</th>\n",
       "      <th id=\"T_95acd_level0_col3\" class=\"col_heading level0 col3\" >ROS</th>\n",
       "      <th id=\"T_95acd_level0_col4\" class=\"col_heading level0 col4\" >NearMiss1</th>\n",
       "      <th id=\"T_95acd_level0_col5\" class=\"col_heading level0 col5\" >BorderlineS_1</th>\n",
       "      <th id=\"T_95acd_level0_col6\" class=\"col_heading level0 col6\" >BorderlineS_2</th>\n",
       "      <th id=\"T_95acd_level0_col7\" class=\"col_heading level0 col7\" >SMOTE</th>\n",
       "      <th id=\"T_95acd_level0_col8\" class=\"col_heading level0 col8\" >cv_smote</th>\n",
       "      <th id=\"T_95acd_level0_col9\" class=\"col_heading level0 col9\" >MGS</th>\n",
       "    </tr>\n",
       "  </thead>\n",
       "  <tbody>\n",
       "    <tr>\n",
       "      <th id=\"T_95acd_level0_row0\" class=\"row_heading level0 row0\" >ROC AUC</th>\n",
       "      <td id=\"T_95acd_row0_col0\" class=\"data row0 col0\" >0.850</td>\n",
       "      <td id=\"T_95acd_row0_col1\" class=\"data row0 col1\" >0.875</td>\n",
       "      <td id=\"T_95acd_row0_col2\" class=\"data row0 col2\" >0.882</td>\n",
       "      <td id=\"T_95acd_row0_col3\" class=\"data row0 col3\" >0.878</td>\n",
       "      <td id=\"T_95acd_row0_col4\" class=\"data row0 col4\" >0.632</td>\n",
       "      <td id=\"T_95acd_row0_col5\" class=\"data row0 col5\" >0.890</td>\n",
       "      <td id=\"T_95acd_row0_col6\" class=\"data row0 col6\" >0.875</td>\n",
       "      <td id=\"T_95acd_row0_col7\" class=\"data row0 col7\" >0.905</td>\n",
       "      <td id=\"T_95acd_row0_col8\" class=\"data row0 col8\" >0.906</td>\n",
       "      <td id=\"T_95acd_row0_col9\" class=\"data row0 col9\" >0.919</td>\n",
       "    </tr>\n",
       "  </tbody>\n",
       "</table>\n"
      ],
      "text/plain": [
       "<pandas.io.formats.style.Styler at 0x7f141f71d650>"
      ]
     },
     "execution_count": 21,
     "metadata": {},
     "output_type": "execute_result"
    }
   ],
   "source": [
    "df_final_mean_haberman,df_final_std_haberman = compute_metrics_several_protocols(\n",
    "    output_dir=output_dir_path,\n",
    "    init_name_file='2024-02-14-RF100_california_depthNone_test',\n",
    "    list_metric=list_metric,\n",
    "    bool_roc_auc_only=True,n_iter=5)\n",
    "\n",
    "df_final_mean_haberman.style.format(precision=3)"
   ]
  },
  {
   "cell_type": "markdown",
   "id": "46cfac40",
   "metadata": {},
   "source": [
    "<center><h1  style=\"color:white; background-color:#808b96; border-radius: 10px; padding:15px;\"> House_16H </h1></center>"
   ]
  },
  {
   "cell_type": "code",
   "execution_count": 8,
   "id": "6d25cd84",
   "metadata": {},
   "outputs": [],
   "source": [
    "from data.data import load_house_data\n",
    "X_house,y_house = load_house_data()"
   ]
  },
  {
   "cell_type": "code",
   "execution_count": 9,
   "id": "0332ec23",
   "metadata": {},
   "outputs": [
    {
     "data": {
      "text/plain": [
       "array([[1.55120e+04, 4.60869e-01, 4.92520e-02, ..., 2.60116e-01,\n",
       "        5.22460e-02, 7.74059e-01],\n",
       "       [1.55000e+03, 4.70968e-01, 2.58100e-03, ..., 2.85267e-01,\n",
       "        6.06060e-02, 1.42857e-01],\n",
       "       [4.74100e+03, 4.85341e-01, 2.11000e-04, ..., 3.15433e-01,\n",
       "        6.51160e-02, 6.87500e-01],\n",
       "       ...,\n",
       "       [9.77000e+02, 4.82088e-01, 1.24872e-01, ..., 1.87817e-01,\n",
       "        1.14504e-01, 3.33333e-01],\n",
       "       [3.06000e+02, 5.09804e-01, 0.00000e+00, ..., 2.82258e-01,\n",
       "        9.09090e-02, 0.00000e+00],\n",
       "       [6.19800e+03, 5.08874e-01, 1.35530e-02, ..., 3.74757e-01,\n",
       "        3.03030e-02, 6.00000e-01]])"
      ]
     },
     "execution_count": 9,
     "metadata": {},
     "output_type": "execute_result"
    }
   ],
   "source": [
    "X_house"
   ]
  },
  {
   "cell_type": "code",
   "execution_count": 10,
   "id": "47b94bad",
   "metadata": {},
   "outputs": [
    {
     "data": {
      "text/plain": [
       "(22784, 16)"
      ]
     },
     "execution_count": 10,
     "metadata": {},
     "output_type": "execute_result"
    }
   ],
   "source": [
    "X_house.shape"
   ]
  },
  {
   "cell_type": "code",
   "execution_count": 11,
   "id": "b132ecc0",
   "metadata": {},
   "outputs": [],
   "source": [
    "indices_kept_20 = subsample_to_ratio_indices(X=X_house,y=y_house,ratio=0.2,seed_sub=11,\n",
    "                                           output_dir_subsampling=output_dir_path,\n",
    "                                           name_subsampling_file='house16_sub_original_to_20')\n",
    "\n",
    "indices_kept_10 = subsample_to_ratio_indices(\n",
    "    X=X_house,y=y_house,ratio=0.1,seed_sub=9,\n",
    "    output_dir_subsampling=output_dir_path,\n",
    "    name_subsampling_file='house16_sub_20_to_10',has_previous_under_sampling=True,\n",
    "    previous_under_sampling=indices_kept_20)\n",
    "\n",
    "indices_kept_1 = subsample_to_ratio_indices(X=X_house,y=y_house,ratio=0.01,seed_sub=5,\n",
    "    output_dir_subsampling=output_dir_path,\n",
    "    name_subsampling_file='house16_sub_10_to_1',has_previous_under_sampling=True,\n",
    "    previous_under_sampling=indices_kept_10)"
   ]
  },
  {
   "cell_type": "code",
   "execution_count": 12,
   "id": "00497731",
   "metadata": {},
   "outputs": [],
   "source": [
    "X_house_1,y_house_1 = read_subsampling_indices(X=X_house,y=y_house, dir_subsampling=output_dir_path, name_subsampling_file='magicTel_sub_10_to_1', get_indexes=False)"
   ]
  },
  {
   "cell_type": "code",
   "execution_count": 13,
   "id": "26a847b4",
   "metadata": {},
   "outputs": [
    {
     "data": {
      "text/plain": [
       "array([17644,   636,  9292, ..., 22779, 22780, 22782])"
      ]
     },
     "execution_count": 13,
     "metadata": {},
     "output_type": "execute_result"
    }
   ],
   "source": [
    "indices_kept_1"
   ]
  },
  {
   "cell_type": "code",
   "execution_count": null,
   "id": "0b580c82",
   "metadata": {},
   "outputs": [],
   "source": [
    "rf_model = RandomForestClassifier(n_estimators=100,criterion='gini',n_jobs=5)\n",
    "balanced_rf_model = RandomForestClassifier(n_estimators=100,criterion='gini',class_weight='balanced',n_jobs=5)\n",
    "\n",
    "splitter_stratified_cv = StratifiedKFold(n_splits=5,shuffle=True,random_state=None)\n",
    "CVSmoteRF = CVSmoteModel(\n",
    "    splitter=splitter_stratified_cv,\n",
    "    model=RandomForestClassifier(n_estimators=100,criterion='gini',n_jobs=5),\n",
    "    list_k_max=15,list_k_step=1)\n",
    "\n",
    "list_oversampling_and_params = [\n",
    "    ('None', NoSampling(), {}, rf_model),\n",
    "    ('c_weight', NoSampling(), {}, balanced_rf_model),\n",
    "    ('RUS', RandomUnderSampler(sampling_strategy=\"majority\",replacement=False),{}, rf_model),\n",
    "    ('ROS',  RandomOverSampler(sampling_strategy=\"minority\"),{}, rf_model),\n",
    "    ('NearMiss1', NearMiss(sampling_strategy=\"majority\", version=1),{}, rf_model),\n",
    "    ('BorderlineS_1', BorderlineSMOTE(sampling_strategy=\"minority\", k_neighbors=5, kind=\"borderline-1\"),{}, rf_model),\n",
    "    ('BorderlineS_2',BorderlineSMOTE(sampling_strategy=\"minority\", k_neighbors=5, kind=\"borderline-2\"),{}, rf_model),\n",
    "    ('SMOTE',SMOTE(sampling_strategy=\"minority\"),{},rf_model),\n",
    "    ('cv_smote', NoSampling(),{}, CVSmoteRF),\n",
    "    ('MGS',MGS(K=5,n_points=5,llambda=1.0),{},rf_model),\n",
    "]"
   ]
  },
  {
   "cell_type": "code",
   "execution_count": null,
   "id": "3eeca6a0",
   "metadata": {},
   "outputs": [],
   "source": [
    "init_name_file = '2024-02-14-RF100_house16_depthNone_test'\n",
    "for i in range(5):\n",
    "    splitter_stratified = StratifiedKFold(n_splits=5,shuffle=True,random_state=100+i)\n",
    "    name_file = init_name_file + str(i) +'.npy'\n",
    "    run_eval(output_dir=output_dir_path,name_file=name_file,X=X_house_1,y=y_house_1,\n",
    "             list_oversampling_and_params=list_oversampling_and_params,\n",
    "             splitter=splitter_stratified)"
   ]
  },
  {
   "cell_type": "markdown",
   "id": "4a75cae0",
   "metadata": {},
   "source": [
    "## Compute Metrics :"
   ]
  },
  {
   "cell_type": "code",
   "execution_count": null,
   "id": "b1e49352",
   "metadata": {},
   "outputs": [],
   "source": [
    "from sklearn.metrics import precision_score, recall_score, roc_auc_score\n",
    "from validation.classif_experiments import compute_metrics_several_protocols\n",
    "\n",
    "list_metric = [\n",
    "    (precision_score,'precision','pred'),\n",
    "    (recall_score,'recall','pred'),\n",
    "    (roc_auc_score,'roc_auc','proba')\n",
    "]"
   ]
  },
  {
   "cell_type": "code",
   "execution_count": null,
   "id": "e41be3de",
   "metadata": {},
   "outputs": [],
   "source": [
    "df_final_mean_haberman,df_final_std_haberman = compute_metrics_several_protocols(\n",
    "    output_dir=output_dir_path,\n",
    "    init_name_file='2024-02-14-RF100_house16_depthNone_test',\n",
    "    list_metric=list_metric,\n",
    "    bool_roc_auc_only=True,n_iter=5)\n",
    "\n",
    "df_final_mean_haberman.style.format(precision=3)"
   ]
  },
  {
   "cell_type": "code",
   "execution_count": null,
   "id": "6547d3c8",
   "metadata": {},
   "outputs": [],
   "source": []
  },
  {
   "cell_type": "code",
   "execution_count": null,
   "id": "b31ac98f",
   "metadata": {},
   "outputs": [],
   "source": [
    "# Display nice table with all the metrics here ?"
   ]
  },
  {
   "cell_type": "markdown",
   "id": "cffa5f41",
   "metadata": {},
   "source": [
    "<center><h1  style=\"color:white; background-color:#008b96; border-radius: 10px; padding:15px;\"> END </h1></center>"
   ]
  }
 ],
 "metadata": {
  "kernelspec": {
   "display_name": "Python 3 (ipykernel)",
   "language": "python",
   "name": "python3"
  },
  "language_info": {
   "codemirror_mode": {
    "name": "ipython",
    "version": 3
   },
   "file_extension": ".py",
   "mimetype": "text/x-python",
   "name": "python",
   "nbconvert_exporter": "python",
   "pygments_lexer": "ipython3",
   "version": "3.11.8"
  }
 },
 "nbformat": 4,
 "nbformat_minor": 5
}

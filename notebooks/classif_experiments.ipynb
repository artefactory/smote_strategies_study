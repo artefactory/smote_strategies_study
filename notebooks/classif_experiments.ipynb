{
 "cells": [
  {
   "cell_type": "markdown",
   "id": "d23ef583",
   "metadata": {},
   "source": [
    "<center><h1  style=\"color:white; background-color:#000000; border-radius: 0px; padding:25px;\"> Theoretical study of SMOTE : </h1></center>"
   ]
  },
  {
   "cell_type": "markdown",
   "id": "290db701",
   "metadata": {},
   "source": [
    "This notebook highlights the protocols used for the numerical illustrations of the Paper named \"Theoretical and experimental study of SMOTE: limitations and comparisons of rebalancing strategies\".\n",
    "The classification protocol is used here."
   ]
  },
  {
   "cell_type": "code",
   "execution_count": null,
   "id": "13df6122",
   "metadata": {},
   "outputs": [],
   "source": []
  },
  {
   "cell_type": "code",
   "execution_count": 5,
   "id": "d3b46d90",
   "metadata": {},
   "outputs": [],
   "source": [
    "import sys\n",
    "import os\n",
    "\n",
    "from sklearn.ensemble import RandomForestClassifier\n",
    "from sklearn.linear_model import LogisticRegression\n",
    "from sklearn.model_selection import StratifiedKFold\n",
    "from sklearn.model_selection import TimeSeriesSplit\n",
    "\n",
    "from oversampling_strategies.oversampling_strategies import MGS\n",
    "from oversampling_strategies.oversampling_strategies import NoSampling \n",
    "from oversampling_strategies.oversampling_strategies import CVSmoteModel\n",
    "from validation.classif_experiments import run_eval"
   ]
  },
  {
   "cell_type": "code",
   "execution_count": null,
   "id": "39b09836",
   "metadata": {},
   "outputs": [],
   "source": [
    "sys.path.insert(1, '/home/abdoulaye_sakho/S1/th_smote/smote_strategies_study')"
   ]
  },
  {
   "cell_type": "code",
   "execution_count": null,
   "id": "aa869e32",
   "metadata": {},
   "outputs": [],
   "source": [
    "output_dir_path =\"/home/abdoulaye_sakho/S1/th_smote/theoretical_smote/saved_experiments\" ## Fill it"
   ]
  },
  {
   "cell_type": "markdown",
   "id": "b64bf0a2",
   "metadata": {},
   "source": [
    "<center><h1  style=\"color:white; background-color:#808b96; border-radius: 10px; padding:15px;\"> Pima </h1></center>"
   ]
  },
  {
   "cell_type": "markdown",
   "id": "ab43b2e1",
   "metadata": {},
   "source": [
    "## Run protocol :"
   ]
  },
  {
   "cell_type": "code",
   "execution_count": 6,
   "id": "934beb33",
   "metadata": {},
   "outputs": [],
   "source": [
    "from data.data import load_pima_data"
   ]
  },
  {
   "cell_type": "code",
   "execution_count": 7,
   "id": "89e2cdf1",
   "metadata": {},
   "outputs": [
    {
     "ename": "FileNotFoundError",
     "evalue": "[Errno 2] No such file or directory: '/home/abdoulaye_sakho/S1/th_smote/smote_strategies_study/notebook/externals/diabetes.csv'",
     "output_type": "error",
     "traceback": [
      "\u001b[0;31m---------------------------------------------------------------------------\u001b[0m",
      "\u001b[0;31mFileNotFoundError\u001b[0m                         Traceback (most recent call last)",
      "\u001b[1;32m/home/abdoulaye_sakho/S1/th_smote/smote_strategies_study/notebook/classif_experiments.ipynb Cellule 11\u001b[0m line \u001b[0;36m1\n\u001b[0;32m----> <a href='vscode-notebook-cell://ssh-remote%2B10.100.0.200/home/abdoulaye_sakho/S1/th_smote/smote_strategies_study/notebook/classif_experiments.ipynb#X13sdnNjb2RlLXJlbW90ZQ%3D%3D?line=0'>1</a>\u001b[0m X_pima, y_pima \u001b[39m=\u001b[39m load_pima_data()\n",
      "File \u001b[0;32m~/S1/th_smote/smote_strategies_study/data/data.py:9\u001b[0m, in \u001b[0;36mload_pima_data\u001b[0;34m()\u001b[0m\n\u001b[1;32m      8\u001b[0m \u001b[39mdef\u001b[39;00m \u001b[39mload_pima_data\u001b[39m():\n\u001b[0;32m----> 9\u001b[0m     df_diabete \u001b[39m=\u001b[39m pd\u001b[39m.\u001b[39mread_csv(os\u001b[39m.\u001b[39mpath\u001b[39m.\u001b[39mjoin(os\u001b[39m.\u001b[39mgetcwd(), \u001b[39m'\u001b[39m\u001b[39mexternals\u001b[39m\u001b[39m'\u001b[39m, \u001b[39m'\u001b[39m\u001b[39mdiabetes.csv\u001b[39m\u001b[39m'\u001b[39m))\n\u001b[1;32m     10\u001b[0m     \u001b[39m#df_diabete = pd.read_csv('/home/abdoulaye_sakho/Code/data/diabetes.csv')\u001b[39;00m\n\u001b[1;32m     11\u001b[0m     X_pima \u001b[39m=\u001b[39m df_diabete\u001b[39m.\u001b[39mdrop([\u001b[39m'\u001b[39m\u001b[39mOutcome\u001b[39m\u001b[39m'\u001b[39m],axis\u001b[39m=\u001b[39m\u001b[39m1\u001b[39m)\u001b[39m.\u001b[39mto_numpy()\n",
      "File \u001b[0;32m~/miniconda3/envs/dev_env/lib/python3.11/site-packages/pandas/util/_decorators.py:211\u001b[0m, in \u001b[0;36mdeprecate_kwarg.<locals>._deprecate_kwarg.<locals>.wrapper\u001b[0;34m(*args, **kwargs)\u001b[0m\n\u001b[1;32m    209\u001b[0m     \u001b[39melse\u001b[39;00m:\n\u001b[1;32m    210\u001b[0m         kwargs[new_arg_name] \u001b[39m=\u001b[39m new_arg_value\n\u001b[0;32m--> 211\u001b[0m \u001b[39mreturn\u001b[39;00m func(\u001b[39m*\u001b[39margs, \u001b[39m*\u001b[39m\u001b[39m*\u001b[39mkwargs)\n",
      "File \u001b[0;32m~/miniconda3/envs/dev_env/lib/python3.11/site-packages/pandas/util/_decorators.py:331\u001b[0m, in \u001b[0;36mdeprecate_nonkeyword_arguments.<locals>.decorate.<locals>.wrapper\u001b[0;34m(*args, **kwargs)\u001b[0m\n\u001b[1;32m    325\u001b[0m \u001b[39mif\u001b[39;00m \u001b[39mlen\u001b[39m(args) \u001b[39m>\u001b[39m num_allow_args:\n\u001b[1;32m    326\u001b[0m     warnings\u001b[39m.\u001b[39mwarn(\n\u001b[1;32m    327\u001b[0m         msg\u001b[39m.\u001b[39mformat(arguments\u001b[39m=\u001b[39m_format_argument_list(allow_args)),\n\u001b[1;32m    328\u001b[0m         \u001b[39mFutureWarning\u001b[39;00m,\n\u001b[1;32m    329\u001b[0m         stacklevel\u001b[39m=\u001b[39mfind_stack_level(),\n\u001b[1;32m    330\u001b[0m     )\n\u001b[0;32m--> 331\u001b[0m \u001b[39mreturn\u001b[39;00m func(\u001b[39m*\u001b[39margs, \u001b[39m*\u001b[39m\u001b[39m*\u001b[39mkwargs)\n",
      "File \u001b[0;32m~/miniconda3/envs/dev_env/lib/python3.11/site-packages/pandas/io/parsers/readers.py:950\u001b[0m, in \u001b[0;36mread_csv\u001b[0;34m(filepath_or_buffer, sep, delimiter, header, names, index_col, usecols, squeeze, prefix, mangle_dupe_cols, dtype, engine, converters, true_values, false_values, skipinitialspace, skiprows, skipfooter, nrows, na_values, keep_default_na, na_filter, verbose, skip_blank_lines, parse_dates, infer_datetime_format, keep_date_col, date_parser, dayfirst, cache_dates, iterator, chunksize, compression, thousands, decimal, lineterminator, quotechar, quoting, doublequote, escapechar, comment, encoding, encoding_errors, dialect, error_bad_lines, warn_bad_lines, on_bad_lines, delim_whitespace, low_memory, memory_map, float_precision, storage_options)\u001b[0m\n\u001b[1;32m    935\u001b[0m kwds_defaults \u001b[39m=\u001b[39m _refine_defaults_read(\n\u001b[1;32m    936\u001b[0m     dialect,\n\u001b[1;32m    937\u001b[0m     delimiter,\n\u001b[0;32m   (...)\u001b[0m\n\u001b[1;32m    946\u001b[0m     defaults\u001b[39m=\u001b[39m{\u001b[39m\"\u001b[39m\u001b[39mdelimiter\u001b[39m\u001b[39m\"\u001b[39m: \u001b[39m\"\u001b[39m\u001b[39m,\u001b[39m\u001b[39m\"\u001b[39m},\n\u001b[1;32m    947\u001b[0m )\n\u001b[1;32m    948\u001b[0m kwds\u001b[39m.\u001b[39mupdate(kwds_defaults)\n\u001b[0;32m--> 950\u001b[0m \u001b[39mreturn\u001b[39;00m _read(filepath_or_buffer, kwds)\n",
      "File \u001b[0;32m~/miniconda3/envs/dev_env/lib/python3.11/site-packages/pandas/io/parsers/readers.py:605\u001b[0m, in \u001b[0;36m_read\u001b[0;34m(filepath_or_buffer, kwds)\u001b[0m\n\u001b[1;32m    602\u001b[0m _validate_names(kwds\u001b[39m.\u001b[39mget(\u001b[39m\"\u001b[39m\u001b[39mnames\u001b[39m\u001b[39m\"\u001b[39m, \u001b[39mNone\u001b[39;00m))\n\u001b[1;32m    604\u001b[0m \u001b[39m# Create the parser.\u001b[39;00m\n\u001b[0;32m--> 605\u001b[0m parser \u001b[39m=\u001b[39m TextFileReader(filepath_or_buffer, \u001b[39m*\u001b[39m\u001b[39m*\u001b[39mkwds)\n\u001b[1;32m    607\u001b[0m \u001b[39mif\u001b[39;00m chunksize \u001b[39mor\u001b[39;00m iterator:\n\u001b[1;32m    608\u001b[0m     \u001b[39mreturn\u001b[39;00m parser\n",
      "File \u001b[0;32m~/miniconda3/envs/dev_env/lib/python3.11/site-packages/pandas/io/parsers/readers.py:1442\u001b[0m, in \u001b[0;36mTextFileReader.__init__\u001b[0;34m(self, f, engine, **kwds)\u001b[0m\n\u001b[1;32m   1439\u001b[0m     \u001b[39mself\u001b[39m\u001b[39m.\u001b[39moptions[\u001b[39m\"\u001b[39m\u001b[39mhas_index_names\u001b[39m\u001b[39m\"\u001b[39m] \u001b[39m=\u001b[39m kwds[\u001b[39m\"\u001b[39m\u001b[39mhas_index_names\u001b[39m\u001b[39m\"\u001b[39m]\n\u001b[1;32m   1441\u001b[0m \u001b[39mself\u001b[39m\u001b[39m.\u001b[39mhandles: IOHandles \u001b[39m|\u001b[39m \u001b[39mNone\u001b[39;00m \u001b[39m=\u001b[39m \u001b[39mNone\u001b[39;00m\n\u001b[0;32m-> 1442\u001b[0m \u001b[39mself\u001b[39m\u001b[39m.\u001b[39m_engine \u001b[39m=\u001b[39m \u001b[39mself\u001b[39m\u001b[39m.\u001b[39m_make_engine(f, \u001b[39mself\u001b[39m\u001b[39m.\u001b[39mengine)\n",
      "File \u001b[0;32m~/miniconda3/envs/dev_env/lib/python3.11/site-packages/pandas/io/parsers/readers.py:1735\u001b[0m, in \u001b[0;36mTextFileReader._make_engine\u001b[0;34m(self, f, engine)\u001b[0m\n\u001b[1;32m   1733\u001b[0m     \u001b[39mif\u001b[39;00m \u001b[39m\"\u001b[39m\u001b[39mb\u001b[39m\u001b[39m\"\u001b[39m \u001b[39mnot\u001b[39;00m \u001b[39min\u001b[39;00m mode:\n\u001b[1;32m   1734\u001b[0m         mode \u001b[39m+\u001b[39m\u001b[39m=\u001b[39m \u001b[39m\"\u001b[39m\u001b[39mb\u001b[39m\u001b[39m\"\u001b[39m\n\u001b[0;32m-> 1735\u001b[0m \u001b[39mself\u001b[39m\u001b[39m.\u001b[39mhandles \u001b[39m=\u001b[39m get_handle(\n\u001b[1;32m   1736\u001b[0m     f,\n\u001b[1;32m   1737\u001b[0m     mode,\n\u001b[1;32m   1738\u001b[0m     encoding\u001b[39m=\u001b[39m\u001b[39mself\u001b[39m\u001b[39m.\u001b[39moptions\u001b[39m.\u001b[39mget(\u001b[39m\"\u001b[39m\u001b[39mencoding\u001b[39m\u001b[39m\"\u001b[39m, \u001b[39mNone\u001b[39;00m),\n\u001b[1;32m   1739\u001b[0m     compression\u001b[39m=\u001b[39m\u001b[39mself\u001b[39m\u001b[39m.\u001b[39moptions\u001b[39m.\u001b[39mget(\u001b[39m\"\u001b[39m\u001b[39mcompression\u001b[39m\u001b[39m\"\u001b[39m, \u001b[39mNone\u001b[39;00m),\n\u001b[1;32m   1740\u001b[0m     memory_map\u001b[39m=\u001b[39m\u001b[39mself\u001b[39m\u001b[39m.\u001b[39moptions\u001b[39m.\u001b[39mget(\u001b[39m\"\u001b[39m\u001b[39mmemory_map\u001b[39m\u001b[39m\"\u001b[39m, \u001b[39mFalse\u001b[39;00m),\n\u001b[1;32m   1741\u001b[0m     is_text\u001b[39m=\u001b[39mis_text,\n\u001b[1;32m   1742\u001b[0m     errors\u001b[39m=\u001b[39m\u001b[39mself\u001b[39m\u001b[39m.\u001b[39moptions\u001b[39m.\u001b[39mget(\u001b[39m\"\u001b[39m\u001b[39mencoding_errors\u001b[39m\u001b[39m\"\u001b[39m, \u001b[39m\"\u001b[39m\u001b[39mstrict\u001b[39m\u001b[39m\"\u001b[39m),\n\u001b[1;32m   1743\u001b[0m     storage_options\u001b[39m=\u001b[39m\u001b[39mself\u001b[39m\u001b[39m.\u001b[39moptions\u001b[39m.\u001b[39mget(\u001b[39m\"\u001b[39m\u001b[39mstorage_options\u001b[39m\u001b[39m\"\u001b[39m, \u001b[39mNone\u001b[39;00m),\n\u001b[1;32m   1744\u001b[0m )\n\u001b[1;32m   1745\u001b[0m \u001b[39massert\u001b[39;00m \u001b[39mself\u001b[39m\u001b[39m.\u001b[39mhandles \u001b[39mis\u001b[39;00m \u001b[39mnot\u001b[39;00m \u001b[39mNone\u001b[39;00m\n\u001b[1;32m   1746\u001b[0m f \u001b[39m=\u001b[39m \u001b[39mself\u001b[39m\u001b[39m.\u001b[39mhandles\u001b[39m.\u001b[39mhandle\n",
      "File \u001b[0;32m~/miniconda3/envs/dev_env/lib/python3.11/site-packages/pandas/io/common.py:856\u001b[0m, in \u001b[0;36mget_handle\u001b[0;34m(path_or_buf, mode, encoding, compression, memory_map, is_text, errors, storage_options)\u001b[0m\n\u001b[1;32m    851\u001b[0m \u001b[39melif\u001b[39;00m \u001b[39misinstance\u001b[39m(handle, \u001b[39mstr\u001b[39m):\n\u001b[1;32m    852\u001b[0m     \u001b[39m# Check whether the filename is to be opened in binary mode.\u001b[39;00m\n\u001b[1;32m    853\u001b[0m     \u001b[39m# Binary mode does not support 'encoding' and 'newline'.\u001b[39;00m\n\u001b[1;32m    854\u001b[0m     \u001b[39mif\u001b[39;00m ioargs\u001b[39m.\u001b[39mencoding \u001b[39mand\u001b[39;00m \u001b[39m\"\u001b[39m\u001b[39mb\u001b[39m\u001b[39m\"\u001b[39m \u001b[39mnot\u001b[39;00m \u001b[39min\u001b[39;00m ioargs\u001b[39m.\u001b[39mmode:\n\u001b[1;32m    855\u001b[0m         \u001b[39m# Encoding\u001b[39;00m\n\u001b[0;32m--> 856\u001b[0m         handle \u001b[39m=\u001b[39m \u001b[39mopen\u001b[39m(\n\u001b[1;32m    857\u001b[0m             handle,\n\u001b[1;32m    858\u001b[0m             ioargs\u001b[39m.\u001b[39mmode,\n\u001b[1;32m    859\u001b[0m             encoding\u001b[39m=\u001b[39mioargs\u001b[39m.\u001b[39mencoding,\n\u001b[1;32m    860\u001b[0m             errors\u001b[39m=\u001b[39merrors,\n\u001b[1;32m    861\u001b[0m             newline\u001b[39m=\u001b[39m\u001b[39m\"\u001b[39m\u001b[39m\"\u001b[39m,\n\u001b[1;32m    862\u001b[0m         )\n\u001b[1;32m    863\u001b[0m     \u001b[39melse\u001b[39;00m:\n\u001b[1;32m    864\u001b[0m         \u001b[39m# Binary mode\u001b[39;00m\n\u001b[1;32m    865\u001b[0m         handle \u001b[39m=\u001b[39m \u001b[39mopen\u001b[39m(handle, ioargs\u001b[39m.\u001b[39mmode)\n",
      "\u001b[0;31mFileNotFoundError\u001b[0m: [Errno 2] No such file or directory: '/home/abdoulaye_sakho/S1/th_smote/smote_strategies_study/notebook/externals/diabetes.csv'"
     ]
    }
   ],
   "source": [
    "X_pima, y_pima = load_pima_data()"
   ]
  },
  {
   "cell_type": "code",
   "execution_count": null,
   "id": "1cb63422",
   "metadata": {},
   "outputs": [],
   "source": [
    "splitter_stratified = StratifiedKFold(n_splits=5,shuffle=True,random_state=None)"
   ]
  },
  {
   "cell_type": "code",
   "execution_count": null,
   "id": "171f6ed2",
   "metadata": {},
   "outputs": [],
   "source": [
    "RF = RandomForestClassifier(n_estimators=100,criterion='gini',n_jobs=5)\n",
    "RF2 = RandomForestClassifier(n_estimators=100,criterion='gini',class_weight='balanced',n_jobs=5)"
   ]
  },
  {
   "cell_type": "code",
   "execution_count": null,
   "id": "61914784",
   "metadata": {},
   "outputs": [],
   "source": [
    "CVSmoteRF = CVSmoteModel(\n",
    "    splitter=splitter_stratified,\n",
    "    model=RandomForestClassifier(n_estimators=100,criterion='gini',n_jobs=5),\n",
    "    list_k_max=15,list_k_step=1)"
   ]
  },
  {
   "cell_type": "code",
   "execution_count": null,
   "id": "43125543",
   "metadata": {},
   "outputs": [],
   "source": [
    "list_oversampling_and_params = [\n",
    "    ('no_sampling', NoSampling(), {}, RF),\n",
    "    ('MGS',MGS(K=5,n_points=5,llambda=1.0),{},RF),\n",
    "    ('cv_smote', NoSampling(),{}, CVSmoteRF),\n",
    "]"
   ]
  },
  {
   "cell_type": "code",
   "execution_count": null,
   "id": "2a653b72",
   "metadata": {},
   "outputs": [],
   "source": [
    "init_name_file = '2024-02-14-RF100_pima_depthNone_test'\n",
    "for i in range(2):\n",
    "    splitter_stratified = StratifiedKFold(n_splits=5,shuffle=True,random_state=100+i)\n",
    "    name_file = init_name_file + str(i) +'.npy'\n",
    "    run_eval(output_dir=output_dir_path,name_file=name_file,X=X_pima,y=y_pima,\n",
    "             list_oversampling_and_params=list_oversampling_and_params,\n",
    "             splitter=splitter_stratified)"
   ]
  },
  {
   "cell_type": "markdown",
   "id": "57dd83eb",
   "metadata": {},
   "source": [
    "## Compute metrics :"
   ]
  },
  {
   "cell_type": "code",
   "execution_count": null,
   "id": "d402fa85",
   "metadata": {},
   "outputs": [],
   "source": [
    "from validation.classif_experiments import compute_metrics_several_protocols"
   ]
  },
  {
   "cell_type": "code",
   "execution_count": null,
   "id": "0d7757bd",
   "metadata": {},
   "outputs": [],
   "source": [
    "from sklearn.metrics import precision_score\n",
    "from sklearn.metrics import recall_score"
   ]
  },
  {
   "cell_type": "code",
   "execution_count": null,
   "id": "ded77f18",
   "metadata": {},
   "outputs": [],
   "source": [
    "list_metric = [\n",
    "    (precision_score,'precision','pred'),\n",
    "    (recall_score,'recall','pred'),\n",
    "    (roc_auc_score,'roc_auc','proba')\n",
    "]"
   ]
  },
  {
   "cell_type": "code",
   "execution_count": null,
   "id": "544c9de6",
   "metadata": {},
   "outputs": [],
   "source": [
    "df_final_mean_pima,df_final_std_pima = compute_metrics_several_protocols(\n",
    "    output_dir=output_dir_path,\n",
    "    init_name_file='2024-02-14-RF100_pima_depthNone_test',\n",
    "    list_metric=list_metric,\n",
    "    bool_roc_auc_only=True,n_iter=2)\n",
    "\n",
    "df_final_mean_pima"
   ]
  },
  {
   "cell_type": "code",
   "execution_count": null,
   "id": "84d714f7",
   "metadata": {},
   "outputs": [],
   "source": [
    "df_final_std_pima"
   ]
  },
  {
   "cell_type": "markdown",
   "id": "45bf2347",
   "metadata": {},
   "source": [
    "<center><h1  style=\"color:white; background-color:#808b96; border-radius: 10px; padding:15px;\"> Phoneme </h1></center>"
   ]
  },
  {
   "cell_type": "markdown",
   "id": "7f1e2b43",
   "metadata": {},
   "source": [
    "## Run protocol :"
   ]
  },
  {
   "cell_type": "code",
   "execution_count": null,
   "id": "33f7c3c1",
   "metadata": {},
   "outputs": [],
   "source": [
    "from data.data import load_pima_data\n",
    "\n",
    "X_phoneme, y_phoneme = load_phoneme_data()()"
   ]
  },
  {
   "cell_type": "code",
   "execution_count": null,
   "id": "1916ce15",
   "metadata": {},
   "outputs": [],
   "source": [
    "splitter_stratified = StratifiedKFold(n_splits=5,shuffle=True,random_state=None)"
   ]
  },
  {
   "cell_type": "code",
   "execution_count": null,
   "id": "9bfa0bac",
   "metadata": {},
   "outputs": [],
   "source": [
    "RF = RandomForestClassifier(n_estimators=100,criterion='gini',n_jobs=5)\n",
    "RF2 = RandomForestClassifier(n_estimators=100,criterion='gini',class_weight='balanced',n_jobs=5)"
   ]
  },
  {
   "cell_type": "code",
   "execution_count": null,
   "id": "ab84f0e5",
   "metadata": {},
   "outputs": [],
   "source": [
    "CVSmoteRF = CVSmoteModel(\n",
    "    splitter=splitter_stratified,\n",
    "    model=RandomForestClassifier(n_estimators=100,criterion='gini',n_jobs=5),\n",
    "    list_k_max=15,list_k_step=1)\n"
   ]
  },
  {
   "cell_type": "code",
   "execution_count": null,
   "id": "f9fb9cb4",
   "metadata": {},
   "outputs": [],
   "source": [
    "list_oversampling_and_params = [\n",
    "    ('no_sampling', NoSampling(), {}, RF),\n",
    "    ('MGS',MGS(K=5,n_points=5,llambda=1.0),{},RF),\n",
    "    ('cv_smote', NoSampling(),{}, CVSmoteRF),\n",
    "]"
   ]
  },
  {
   "cell_type": "code",
   "execution_count": null,
   "id": "e636ca24",
   "metadata": {},
   "outputs": [],
   "source": [
    "init_name_file = '2024-02-14-RF100_phoneme_depthNone_test'\n",
    "for i in range(2):\n",
    "    splitter_stratified = StratifiedKFold(n_splits=5,shuffle=True,random_state=100+i)\n",
    "    name_file = init_name_file + str(i) +'.npy'\n",
    "    run_eval(output_dir=output_dir_path,name_file=name_file,X=X_phoneme,y=y_phoneme,\n",
    "             list_oversampling_and_params=list_oversampling_and_params,\n",
    "             splitter=splitter_stratified)"
   ]
  },
  {
   "cell_type": "markdown",
   "id": "364c49c0",
   "metadata": {},
   "source": [
    "## Compute metrics :"
   ]
  },
  {
   "cell_type": "code",
   "execution_count": null,
   "id": "9448c20c",
   "metadata": {},
   "outputs": [],
   "source": [
    "from validation.classif_experiments import compute_metrics_several_protocols"
   ]
  },
  {
   "cell_type": "code",
   "execution_count": null,
   "id": "0875b7f0",
   "metadata": {},
   "outputs": [],
   "source": [
    "from sklearn.metrics import precision_score\n",
    "from sklearn.metrics import recall_score\n",
    "\n",
    "list_metric = [\n",
    "    (precision_score,'precision','pred'),\n",
    "    (recall_score,'recall','pred'),\n",
    "    (roc_auc_score,'roc_auc','proba')\n",
    "]"
   ]
  },
  {
   "cell_type": "code",
   "execution_count": null,
   "id": "b4142c5c",
   "metadata": {},
   "outputs": [],
   "source": [
    "df_final_mean_phoneme,df_final_std_phoneme = compute_metrics_several_protocols(\n",
    "    output_dir=output_dir_path,\n",
    "    init_name_file='2024-02-14-RF100_phoneme_depthNone_test',\n",
    "    list_metric=list_metric,\n",
    "    bool_roc_auc_only=True,n_iter=2)\n",
    "\n",
    "df_final_mean_phoneme"
   ]
  },
  {
   "cell_type": "code",
   "execution_count": null,
   "id": "45f0289c",
   "metadata": {},
   "outputs": [],
   "source": [
    "df_final_std_phoneme"
   ]
  },
  {
   "cell_type": "markdown",
   "id": "25bcd19d",
   "metadata": {},
   "source": [
    "<center><h1  style=\"color:white; background-color:#808b96; border-radius: 10px; padding:15px;\"> Abalone </h1></center>"
   ]
  },
  {
   "cell_type": "code",
   "execution_count": null,
   "id": "a0f9fbc2",
   "metadata": {},
   "outputs": [],
   "source": []
  },
  {
   "cell_type": "markdown",
   "id": "4bb19d4d",
   "metadata": {},
   "source": [
    "<center><h1  style=\"color:white; background-color:#808b96; border-radius: 10px; padding:15px;\"> Yeast </h1></center>"
   ]
  },
  {
   "cell_type": "code",
   "execution_count": null,
   "id": "e2277764",
   "metadata": {},
   "outputs": [],
   "source": []
  },
  {
   "cell_type": "markdown",
   "id": "75396418",
   "metadata": {},
   "source": [
    "<center><h1  style=\"color:white; background-color:#808b96; border-radius: 10px; padding:15px;\"> Wine </h1></center>"
   ]
  },
  {
   "cell_type": "code",
   "execution_count": null,
   "id": "cd801213",
   "metadata": {},
   "outputs": [],
   "source": []
  },
  {
   "cell_type": "markdown",
   "id": "943ed3e2",
   "metadata": {},
   "source": [
    "<center><h1  style=\"color:white; background-color:#808b96; border-radius: 10px; padding:15px;\"> CreditCard </h1></center>"
   ]
  },
  {
   "cell_type": "code",
   "execution_count": null,
   "id": "afb82357",
   "metadata": {},
   "outputs": [],
   "source": []
  },
  {
   "cell_type": "markdown",
   "id": "df9508e5",
   "metadata": {},
   "source": [
    "<center><h1  style=\"color:white; background-color:#808b96; border-radius: 10px; padding:15px;\"> GA4 </h1></center>"
   ]
  },
  {
   "cell_type": "code",
   "execution_count": null,
   "id": "3248e092",
   "metadata": {},
   "outputs": [],
   "source": []
  },
  {
   "cell_type": "markdown",
   "id": "6b856ab4",
   "metadata": {},
   "source": [
    "<center><h1  style=\"color:white; background-color:#808b96; border-radius: 10px; padding:15px;\"> Haberman </h1></center>"
   ]
  },
  {
   "cell_type": "code",
   "execution_count": null,
   "id": "bea5b263",
   "metadata": {},
   "outputs": [],
   "source": []
  },
  {
   "cell_type": "markdown",
   "id": "cffa5f41",
   "metadata": {},
   "source": [
    "<center><h1  style=\"color:white; background-color:#008b96; border-radius: 10px; padding:15px;\"> END </h1></center>"
   ]
  }
 ],
 "metadata": {
  "kernelspec": {
   "display_name": "Python 3 (ipykernel)",
   "language": "python",
   "name": "python3"
  },
  "language_info": {
   "codemirror_mode": {
    "name": "ipython",
    "version": 3
   },
   "file_extension": ".py",
   "mimetype": "text/x-python",
   "name": "python",
   "nbconvert_exporter": "python",
   "pygments_lexer": "ipython3",
   "version": "3.11.3"
  }
 },
 "nbformat": 4,
 "nbformat_minor": 5
}

{
 "cells": [
  {
   "cell_type": "markdown",
   "id": "d23ef583",
   "metadata": {},
   "source": [
    "<center><h1  style=\"color:white; background-color:#000000; border-radius: 0px; padding:25px;\"> Theoretical study of SMOTE : </h1></center>"
   ]
  },
  {
   "cell_type": "markdown",
   "id": "290db701",
   "metadata": {},
   "source": [
    "This notebook highlights the protocols used for the numerical illustrations of the Paper named \"Theoretical and experimental study of SMOTE: limitations and comparisons of rebalancing strategies\".\n",
    "The classification protocol is used here."
   ]
  },
  {
   "cell_type": "code",
   "execution_count": null,
   "id": "d3b46d90",
   "metadata": {},
   "outputs": [],
   "source": [
    "import sys\n",
    "import os\n",
    "\n",
    "from sklearn.ensemble import RandomForestClassifier\n",
    "from sklearn.linear_model import LogisticRegression\n",
    "from sklearn.model_selection import StratifiedKFold\n",
    "from sklearn.model_selection import TimeSeriesSplit\n",
    "\n",
    "from oversampling_strategies.oversampling_strategies import MGS\n",
    "from oversampling_strategies.oversampling_strategies import NoSampling \n",
    "from oversampling_strategies.oversampling_strategies import CVSmoteModel\n",
    "from validation.classif_experiments import run_eval"
   ]
  },
  {
   "cell_type": "code",
   "execution_count": null,
   "id": "39b09836",
   "metadata": {},
   "outputs": [],
   "source": [
    "sys.path.insert(1, '/home/abdoulaye_sakho/S1/th_smote/smote_strategies_study')"
   ]
  },
  {
   "cell_type": "code",
   "execution_count": null,
   "id": "aa869e32",
   "metadata": {},
   "outputs": [],
   "source": [
    "output_dir_path =\"/home/abdoulaye_sakho/S1/th_smote/theoretical_smote/saved_experiments\" ## Fill it"
   ]
  },
  {
   "cell_type": "markdown",
   "id": "b64bf0a2",
   "metadata": {},
   "source": [
    "<center><h1  style=\"color:white; background-color:#808b96; border-radius: 10px; padding:15px;\"> Pima </h1></center>"
   ]
  },
  {
   "cell_type": "markdown",
   "id": "ab43b2e1",
   "metadata": {},
   "source": [
    "## Run protocol :"
   ]
  },
  {
   "cell_type": "code",
   "execution_count": null,
   "id": "934beb33",
   "metadata": {},
   "outputs": [],
   "source": [
    "from data.data import load_pima_data\n",
    "X_pima, y_pima = load_pima_data()"
   ]
  },
  {
   "cell_type": "code",
   "execution_count": null,
   "id": "171f6ed2",
   "metadata": {},
   "outputs": [],
   "source": [
    "RF = RandomForestClassifier(n_estimators=100,criterion='gini',n_jobs=5)\n",
    "RF2 = RandomForestClassifier(n_estimators=100,criterion='gini',class_weight='balanced',n_jobs=5)\n",
    "\n",
    "splitter_stratified_cv = StratifiedKFold(n_splits=5,shuffle=True,random_state=None)\n",
    "CVSmoteRF = CVSmoteModel(\n",
    "    splitter=splitter_stratified_cv,\n",
    "    model=RandomForestClassifier(n_estimators=100,criterion='gini',n_jobs=5),\n",
    "    list_k_max=15,list_k_step=1)\n",
    "\n",
    "list_oversampling_and_params = [\n",
    "    ('no_sampling', NoSampling(), {}, RF),\n",
    "    ('MGS',MGS(K=5,n_points=5,llambda=1.0),{},RF),\n",
    "    ('cv_smote', NoSampling(),{}, CVSmoteRF),\n",
    "]"
   ]
  },
  {
   "cell_type": "code",
   "execution_count": null,
   "id": "2a653b72",
   "metadata": {},
   "outputs": [],
   "source": [
    "init_name_file = '2024-02-14-RF100_pima_depthNone_test'\n",
    "for i in range(2):\n",
    "    splitter_stratified = StratifiedKFold(n_splits=5,shuffle=True,random_state=100+i)\n",
    "    name_file = init_name_file + str(i) +'.npy'\n",
    "    run_eval(output_dir=output_dir_path,name_file=name_file,X=X_pima,y=y_pima,\n",
    "             list_oversampling_and_params=list_oversampling_and_params,\n",
    "             splitter=splitter_stratified)"
   ]
  },
  {
   "cell_type": "markdown",
   "id": "57dd83eb",
   "metadata": {},
   "source": [
    "## Compute metrics :"
   ]
  },
  {
   "cell_type": "code",
   "execution_count": null,
   "id": "d402fa85",
   "metadata": {},
   "outputs": [],
   "source": [
    "from sklearn.metrics import precision_score\n",
    "from sklearn.metrics import recall_score\n",
    "from sklearn.metrics import roc_auc_score\n",
    "\n",
    "from validation.classif_experiments import compute_metrics_several_protocols"
   ]
  },
  {
   "cell_type": "code",
   "execution_count": null,
   "id": "ded77f18",
   "metadata": {},
   "outputs": [],
   "source": [
    "list_metric = [\n",
    "    (precision_score,'precision','pred'),\n",
    "    (recall_score,'recall','pred'),\n",
    "    (roc_auc_score,'roc_auc','proba')\n",
    "]"
   ]
  },
  {
   "cell_type": "code",
   "execution_count": null,
   "id": "544c9de6",
   "metadata": {},
   "outputs": [],
   "source": [
    "df_final_mean_pima,df_final_std_pima = compute_metrics_several_protocols(\n",
    "    output_dir=output_dir_path,\n",
    "    init_name_file='2024-02-14-RF100_pima_depthNone_test',\n",
    "    list_metric=list_metric,\n",
    "    bool_roc_auc_only=True,n_iter=2)\n",
    "\n",
    "df_final_mean_pima"
   ]
  },
  {
   "cell_type": "markdown",
   "id": "45bf2347",
   "metadata": {},
   "source": [
    "<center><h1  style=\"color:white; background-color:#808b96; border-radius: 10px; padding:15px;\"> Phoneme </h1></center>"
   ]
  },
  {
   "cell_type": "markdown",
   "id": "7f1e2b43",
   "metadata": {},
   "source": [
    "## Run protocol :"
   ]
  },
  {
   "cell_type": "code",
   "execution_count": null,
   "id": "33f7c3c1",
   "metadata": {},
   "outputs": [],
   "source": [
    "from data.data import load_pima_data\n",
    "X_phoneme, y_phoneme = load_phoneme_data()()"
   ]
  },
  {
   "cell_type": "code",
   "execution_count": null,
   "id": "9bfa0bac",
   "metadata": {},
   "outputs": [],
   "source": [
    "RF = RandomForestClassifier(n_estimators=100,criterion='gini',n_jobs=5)\n",
    "RF2 = RandomForestClassifier(n_estimators=100,criterion='gini',class_weight='balanced',n_jobs=5)\n",
    "\n",
    "splitter_stratified_cv = StratifiedKFold(n_splits=5,shuffle=True,random_state=None)\n",
    "CVSmoteRF = CVSmoteModel(\n",
    "    splitter=splitter_stratified_cv,\n",
    "    model=RandomForestClassifier(n_estimators=100,criterion='gini',n_jobs=5),\n",
    "    list_k_max=15,list_k_step=1)\n",
    "\n",
    "list_oversampling_and_params = [\n",
    "    ('no_sampling', NoSampling(), {}, RF),\n",
    "    ('MGS',MGS(K=5,n_points=5,llambda=1.0),{},RF),\n",
    "    ('cv_smote', NoSampling(),{}, CVSmoteRF),\n",
    "]"
   ]
  },
  {
   "cell_type": "code",
   "execution_count": null,
   "id": "e636ca24",
   "metadata": {},
   "outputs": [],
   "source": [
    "init_name_file = '2024-02-14-RF100_phoneme_depthNone_test'\n",
    "for i in range(2):\n",
    "    splitter_stratified = StratifiedKFold(n_splits=5,shuffle=True,random_state=100+i)\n",
    "    name_file = init_name_file + str(i) +'.npy'\n",
    "    run_eval(output_dir=output_dir_path,name_file=name_file,X=X_phoneme,y=y_phoneme,\n",
    "             list_oversampling_and_params=list_oversampling_and_params,\n",
    "             splitter=splitter_stratified)"
   ]
  },
  {
   "cell_type": "markdown",
   "id": "364c49c0",
   "metadata": {},
   "source": [
    "## Compute metrics :"
   ]
  },
  {
   "cell_type": "code",
   "execution_count": null,
   "id": "9448c20c",
   "metadata": {},
   "outputs": [],
   "source": [
    "from sklearn.metrics import precision_score\n",
    "from sklearn.metrics import recall_score\n",
    "from sklearn.metrics import roc_auc_score\n",
    "\n",
    "from validation.classif_experiments import compute_metrics_several_protocols"
   ]
  },
  {
   "cell_type": "code",
   "execution_count": null,
   "id": "0875b7f0",
   "metadata": {},
   "outputs": [],
   "source": [
    "list_metric = [\n",
    "    (precision_score,'precision','pred'),\n",
    "    (recall_score,'recall','pred'),\n",
    "    (roc_auc_score,'roc_auc','proba')\n",
    "]"
   ]
  },
  {
   "cell_type": "code",
   "execution_count": null,
   "id": "b4142c5c",
   "metadata": {},
   "outputs": [],
   "source": [
    "df_final_mean_phoneme,df_final_std_phoneme = compute_metrics_several_protocols(\n",
    "    output_dir=output_dir_path,\n",
    "    init_name_file='2024-02-14-RF100_phoneme_depthNone_test',\n",
    "    list_metric=list_metric,\n",
    "    bool_roc_auc_only=True,n_iter=2)\n",
    "\n",
    "df_final_mean_phoneme"
   ]
  },
  {
   "cell_type": "markdown",
   "id": "cc84a06c",
   "metadata": {},
   "source": [
    "<center><h1  style=\"color:white; background-color:#808b96; border-radius: 10px; padding:15px;\"> GA4 </h1></center>"
   ]
  },
  {
   "cell_type": "markdown",
   "id": "112be115",
   "metadata": {},
   "source": [
    "## Run protocol :"
   ]
  },
  {
   "cell_type": "code",
   "execution_count": null,
   "id": "f8d9171a",
   "metadata": {},
   "outputs": [],
   "source": [
    "from data.data import load_ga4_data\n",
    "X_ga4,y_ga4,meta_df_ga4 = load_ga4_data()"
   ]
  },
  {
   "cell_type": "code",
   "execution_count": null,
   "id": "f238c57a",
   "metadata": {},
   "outputs": [],
   "source": [
    "RF = RandomForestClassifier(n_estimators=100,criterion='gini',n_jobs=5)\n",
    "RF2 = RandomForestClassifier(n_estimators=100,criterion='gini',class_weight='balanced',n_jobs=5)\n",
    "\n",
    "splitter_stratified_cv = StratifiedKFold(n_splits=5,shuffle=True,random_state=None)\n",
    "CVSmoteRF = CVSmoteModel(\n",
    "    splitter=splitter_stratified_cv,\n",
    "    model=RandomForestClassifier(n_estimators=100,criterion='gini',n_jobs=5),\n",
    "    list_k_max=15,list_k_step=1)\n",
    "\n",
    "list_oversampling_and_params = [\n",
    "    ('no_sampling', NoSampling(), {}, RF),\n",
    "    ('MGS',MGS(K=5,n_points=5,llambda=1.0),{},RF),\n",
    "    ('cv_smote', NoSampling(),{}, CVSmoteRF),\n",
    "]"
   ]
  },
  {
   "cell_type": "code",
   "execution_count": null,
   "id": "39af77ba",
   "metadata": {},
   "outputs": [],
   "source": [
    "from validation.classif_experiments import MyTimeSeriesSplit_groupout\n",
    "splitter_Mytss_groupout = MyTimeSeriesSplit_groupout(n_splits=10, starting_split=5,\n",
    "                                                     meta_df=meta_df_ga4,col_name_id='user_pseudo_id')"
   ]
  },
  {
   "cell_type": "code",
   "execution_count": null,
   "id": "0abf5ae7",
   "metadata": {},
   "outputs": [],
   "source": [
    "init_name_file = '2024-02-14-RF100_ga4_depthNone_test'\n",
    "for i in range(1):\n",
    "    splitter_stratified = StratifiedKFold(n_splits=5,shuffle=True,random_state=100+i)\n",
    "    name_file = init_name_file + str(i) +'.npy'\n",
    "    run_eval(output_dir=output_dir_path,name_file=name_file,X=X_pima,y=y_pima,\n",
    "             list_oversampling_and_params=list_oversampling_and_params,\n",
    "             splitter=splitter_Mytss_groupout)"
   ]
  },
  {
   "cell_type": "markdown",
   "id": "43f6a16d",
   "metadata": {},
   "source": [
    "## Compute metrics :"
   ]
  },
  {
   "cell_type": "code",
   "execution_count": null,
   "id": "5c3198d6",
   "metadata": {},
   "outputs": [],
   "source": [
    "\n",
    "from sklearn.metrics import precision_score\n",
    "from sklearn.metrics import recall_score\n",
    "from sklearn.metrics import roc_auc_score\n",
    "\n",
    "from validation.classif_experiments import compute_metrics_several_protocols\n",
    "list_metric = [\n",
    "    (precision_score,'precision','pred'),\n",
    "    (recall_score,'recall','pred'),\n",
    "    (roc_auc_score,'roc_auc','proba')\n",
    "]"
   ]
  },
  {
   "cell_type": "code",
   "execution_count": null,
   "id": "50005730",
   "metadata": {},
   "outputs": [],
   "source": [
    "df_final_mean_ga4,df_final_std_ga4 = compute_metrics_several_protocols(\n",
    "    output_dir=output_dir_path,\n",
    "    init_name_file='2024-02-14-RF100_ga4_depthNone_test',\n",
    "    list_metric=list_metric,\n",
    "    bool_roc_auc_only=True,n_iter=1)\n",
    "\n",
    "df_final_mean_ga4"
   ]
  },
  {
   "cell_type": "markdown",
   "id": "25bcd19d",
   "metadata": {},
   "source": [
    "<center><h1  style=\"color:white; background-color:#808b96; border-radius: 10px; padding:15px;\"> Abalone </h1></center>"
   ]
  },
  {
   "cell_type": "markdown",
   "id": "28556d4e",
   "metadata": {},
   "source": [
    "## Run protocol :"
   ]
  },
  {
   "cell_type": "code",
   "execution_count": null,
   "id": "18611926",
   "metadata": {},
   "outputs": [],
   "source": [
    "from data.data import load_abalone_data\n",
    "X_abalone, y_abalone = load_abalone_data()"
   ]
  },
  {
   "cell_type": "code",
   "execution_count": null,
   "id": "ecd023ea",
   "metadata": {},
   "outputs": [],
   "source": [
    "RF = RandomForestClassifier(n_estimators=100,criterion='gini',n_jobs=5)\n",
    "RF2 = RandomForestClassifier(n_estimators=100,criterion='gini',class_weight='balanced',n_jobs=5)\n",
    "\n",
    "splitter_stratified_cv = StratifiedKFold(n_splits=5,shuffle=True,random_state=None)\n",
    "CVSmoteRF = CVSmoteModel(\n",
    "    splitter=splitter_stratified_cv,\n",
    "    model=RandomForestClassifier(n_estimators=100,criterion='gini',n_jobs=5),\n",
    "    list_k_max=15,list_k_step=1)\n",
    "\n",
    "list_oversampling_and_params = [\n",
    "    ('no_sampling', NoSampling(), {}, RF),\n",
    "    ('MGS',MGS(K=5,n_points=5,llambda=1.0),{},RF),\n",
    "    ('cv_smote', NoSampling(),{}, CVSmoteRF),\n",
    "]"
   ]
  },
  {
   "cell_type": "code",
   "execution_count": null,
   "id": "89e72d3e",
   "metadata": {},
   "outputs": [],
   "source": [
    "init_name_file = '2024-02-14-RF100_abalone_depthNone_test'\n",
    "for i in range(2):\n",
    "    splitter_stratified = StratifiedKFold(n_splits=5,shuffle=True,random_state=100+i)\n",
    "    name_file = init_name_file + str(i) +'.npy'\n",
    "    run_eval(output_dir=output_dir_path,name_file=name_file,X=X_pima,y=y_pima,\n",
    "             list_oversampling_and_params=list_oversampling_and_params,\n",
    "             splitter=splitter_stratified)"
   ]
  },
  {
   "cell_type": "markdown",
   "id": "befbf814",
   "metadata": {},
   "source": [
    "## Compute metrics :"
   ]
  },
  {
   "cell_type": "code",
   "execution_count": null,
   "id": "d8bf58ba",
   "metadata": {},
   "outputs": [],
   "source": [
    "from sklearn.metrics import precision_score\n",
    "from sklearn.metrics import recall_score\n",
    "from sklearn.metrics import roc_auc_score\n",
    "\n",
    "from validation.classif_experiments import compute_metrics_several_protocols\n",
    "list_metric = [\n",
    "    (precision_score,'precision','pred'),\n",
    "    (recall_score,'recall','pred'),\n",
    "    (roc_auc_score,'roc_auc','proba')\n",
    "]"
   ]
  },
  {
   "cell_type": "code",
   "execution_count": null,
   "id": "a0f9fbc2",
   "metadata": {},
   "outputs": [],
   "source": [
    "df_final_mean_abalone,df_final_std_abalone = compute_metrics_several_protocols(\n",
    "    output_dir=output_dir_path,\n",
    "    init_name_file='2024-02-14-RF100_abalone_depthNone_test',\n",
    "    list_metric=list_metric,\n",
    "    bool_roc_auc_only=True,n_iter=2)\n",
    "\n",
    "df_final_mean_abalone"
   ]
  },
  {
   "cell_type": "markdown",
   "id": "4bb19d4d",
   "metadata": {},
   "source": [
    "<center><h1  style=\"color:white; background-color:#808b96; border-radius: 10px; padding:15px;\"> Yeast </h1></center>"
   ]
  },
  {
   "cell_type": "code",
   "execution_count": null,
   "id": "e2277764",
   "metadata": {},
   "outputs": [],
   "source": []
  },
  {
   "cell_type": "markdown",
   "id": "75396418",
   "metadata": {},
   "source": [
    "<center><h1  style=\"color:white; background-color:#808b96; border-radius: 10px; padding:15px;\"> Wine </h1></center>"
   ]
  },
  {
   "cell_type": "code",
   "execution_count": null,
   "id": "cd801213",
   "metadata": {},
   "outputs": [],
   "source": []
  },
  {
   "cell_type": "markdown",
   "id": "943ed3e2",
   "metadata": {},
   "source": [
    "<center><h1  style=\"color:white; background-color:#808b96; border-radius: 10px; padding:15px;\"> CreditCard </h1></center>"
   ]
  },
  {
   "cell_type": "code",
   "execution_count": null,
   "id": "afb82357",
   "metadata": {},
   "outputs": [],
   "source": []
  },
  {
   "cell_type": "markdown",
   "id": "6b856ab4",
   "metadata": {},
   "source": [
    "<center><h1  style=\"color:white; background-color:#808b96; border-radius: 10px; padding:15px;\"> Haberman </h1></center>"
   ]
  },
  {
   "cell_type": "code",
   "execution_count": null,
   "id": "bea5b263",
   "metadata": {},
   "outputs": [],
   "source": []
  },
  {
   "cell_type": "markdown",
   "id": "cffa5f41",
   "metadata": {},
   "source": [
    "<center><h1  style=\"color:white; background-color:#008b96; border-radius: 10px; padding:15px;\"> END </h1></center>"
   ]
  }
 ],
 "metadata": {
  "kernelspec": {
   "display_name": "Python 3 (ipykernel)",
   "language": "python",
   "name": "python3"
  },
  "language_info": {
   "codemirror_mode": {
    "name": "ipython",
    "version": 3
   },
   "file_extension": ".py",
   "mimetype": "text/x-python",
   "name": "python",
   "nbconvert_exporter": "python",
   "pygments_lexer": "ipython3",
   "version": "3.11.3"
  }
 },
 "nbformat": 4,
 "nbformat_minor": 5
}

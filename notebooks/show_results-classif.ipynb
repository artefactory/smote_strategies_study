{
 "cells": [
  {
   "cell_type": "markdown",
   "id": "24275e21-9fa1-45fb-a19a-2ae831e285dc",
   "metadata": {},
   "source": [
    "<center><h1  style=\"color:white; background-color:#000000; border-radius: 0px; padding:25px;\"> Results </h1></center>"
   ]
  },
  {
   "cell_type": "markdown",
   "id": "a99fd01a-69ca-4051-976a-f7072d084401",
   "metadata": {},
   "source": [
    "This notebook show the results for continuous features data sets with tuned classifiers."
   ]
  },
  {
   "cell_type": "code",
   "execution_count": null,
   "id": "d6fd1436-5f55-47ae-ae44-bb9f5297e4d2",
   "metadata": {},
   "outputs": [],
   "source": [
    "import os\n",
    "import sys\n",
    "sys.path.insert(1, os.path.abspath(os.path.join(os.getcwd(), os.pardir)))\n",
    "from pathlib import Path\n",
    "from collections import Counter\n",
    "\n",
    "import numpy as np\n",
    "import pandas as pd\n",
    "from sklearn.metrics import precision_score, recall_score, roc_auc_score,balanced_accuracy_score,average_precision_score,f1_score\n",
    "\n",
    "from validation.classif_experiments import (compute_metrics_several_protocols,\n",
    "                                            prec_at_recall_version3, prec_at_recall_version3_02)"
   ]
  },
  {
   "cell_type": "code",
   "execution_count": null,
   "id": "1238e691-3ec6-4096-b7cd-fb58b6fd838d",
   "metadata": {},
   "outputs": [],
   "source": [
    "def f_score_macro(y_true,y_pred):\n",
    "    return(f1_score(y_true,y_pred,average='macro'))"
   ]
  },
  {
   "cell_type": "code",
   "execution_count": null,
   "id": "02c7cff2-6cd7-4002-a3f7-321d510d90d9",
   "metadata": {},
   "outputs": [],
   "source": [
    "list_metric = [\n",
    "    #(precision_score,'precision','pred'),\n",
    "    #(recall_score,'recall','pred'),\n",
    "    (f1_score,'Binary F1','pred'),\n",
    "    (f_score_macro,'Macro F1','pred'),\n",
    "    (balanced_accuracy_score,'balanced acc','pred'),\n",
    "    (prec_at_recall_version3_02,'p@r=0.2','proba'),\n",
    "    (prec_at_recall_version3,'p@r=0.5','proba'),\n",
    "    (average_precision_score,'avg_pr_auc', 'proba'),\n",
    "    (roc_auc_score,'roc_auc','proba') \n",
    "]"
   ]
  },
  {
   "cell_type": "code",
   "execution_count": null,
   "id": "bd6d6a70-07ff-4c64-a350-ae25e71ca4ff",
   "metadata": {},
   "outputs": [],
   "source": [
    "def plot_tuned(list_metric,output_dir_path,list_name_strat,n_iter=20):\n",
    "    list_mean = []\n",
    "    list_std = []\n",
    "    for strat in list_name_strat:\n",
    "        output_dir=output_dir=os.path.join(output_dir_path,strat,'RF_100_tuned')\n",
    "        init_name_file = '2025-rf_tuned_'\n",
    "    \n",
    "        df_final_mean_abalone,df_final_std_abalone = compute_metrics_several_protocols(output_dir=output_dir,init_name_file=init_name_file,\n",
    "                                                                                       list_metric=list_metric,bool_roc_auc_only=False,n_iter=n_iter)\n",
    "        mean_roc = round(df_final_mean_abalone.to_numpy()[0,0],3)\n",
    "        srtd_roc = round(df_final_std_abalone.to_numpy()[0,0],3)\n",
    "        list_mean.append(mean_roc)\n",
    "        list_std.append(srtd_roc)\n",
    "    df_mean = pd.DataFrame(np.array(list_mean).reshape(1,len(list_name_strat)),columns=list_name_strat)\n",
    "    df_std = pd.DataFrame(np.array(list_std).reshape(1,len(list_name_strat)),columns=list_name_strat)\n",
    "    return df_mean, df_std"
   ]
  },
  {
   "cell_type": "markdown",
   "id": "55fc1089-f8bb-463a-9015-5787ef272149",
   "metadata": {},
   "source": [
    "## Not tuned : "
   ]
  },
  {
   "cell_type": "code",
   "execution_count": null,
   "id": "5c9a26a2-d7a8-48e6-a217-21e01920aca7",
   "metadata": {},
   "outputs": [],
   "source": [
    "list_metric = [\n",
    "        (average_precision_score,'avg_pr_auc', 'proba'),\n",
    "    ]"
   ]
  },
  {
   "cell_type": "code",
   "execution_count": null,
   "id": "f2f9553f-09f3-4f93-928f-2416613e44c2",
   "metadata": {},
   "outputs": [],
   "source": [
    "output_dir_path =  \"../saved_experiments/rf_not_tuned/res_phoneme_subsample_to_1\" ## FILL IT\n",
    "\n",
    "df_final_mean_phoneme_1,df_final_std_phoneme = compute_metrics_several_protocols(\n",
    "    output_dir=output_dir_path,\n",
    "    init_name_file='2024-07-08-lgb-tuned', ## FILL IT\n",
    "    list_metric=list_metric,\n",
    "    bool_roc_auc_only=False,n_iter=20)\n",
    "df_final_mean_phoneme_1[['None', 'c_weight', 'RUS', 'ROS', 'NearMiss1', 'BorderlineS_1',\n",
    "       'BorderlineS_2', 'SMOTE','cv_smote', 'MGS', 'CTGAN', 'ForestDiff']].style.format(precision=3).highlight_max(props='font-weight:bold;color:#090E19', axis = 1)"
   ]
  },
  {
   "cell_type": "code",
   "execution_count": null,
   "id": "b1574ac3-6cef-48c1-b93d-4712c349514c",
   "metadata": {},
   "outputs": [],
   "source": [
    "df_final_std_phoneme[['None', 'c_weight', 'RUS', 'ROS', 'NearMiss1', 'BorderlineS_1',\n",
    "       'BorderlineS_2', 'SMOTE','cv_smote', 'MGS', 'CTGAN', 'ForestDiff']].style.format(precision=3).highlight_max(props='font-weight:bold;color:#090E19', axis = 1)"
   ]
  },
  {
   "cell_type": "markdown",
   "id": "367c923f-7d11-4f4d-9ce3-fce1d8ee7c8a",
   "metadata": {},
   "source": [
    "## Tuned on PR : "
   ]
  },
  {
   "cell_type": "code",
   "execution_count": null,
   "id": "1dd886b4-dc66-48f3-82c9-4f02abab4b02",
   "metadata": {
    "scrolled": true
   },
   "outputs": [],
   "source": [
    "list_metric = [\n",
    "        (average_precision_score,'avg_pr_auc', 'proba'),\n",
    "    ]\n",
    "output_dir_path = '/home/abdoulaye_sakho/S1/th_smote/smote_strategies_study/saved_experiments/tuned_pr/res_yeast/original/'\n",
    "list_name_strat = ['none','cweight','RUS','ROS','NM1','BS1','BS2','smote','MGS','CTGAN'] \n",
    "df_mean,df_std = plot_tuned(list_metric,output_dir_path,list_name_strat,n_iter=20)\n",
    "df_mean.style.format(precision=3).highlight_max(props='font-weight:bold;color:#090E19', axis = 1)"
   ]
  },
  {
   "cell_type": "code",
   "execution_count": null,
   "id": "0e6cda73-77c9-4aa1-bb07-3dd738184144",
   "metadata": {
    "scrolled": true
   },
   "outputs": [],
   "source": [
    "df_std "
   ]
  }
 ],
 "metadata": {
  "kernelspec": {
   "display_name": "Python 3 (ipykernel)",
   "language": "python",
   "name": "python3"
  },
  "language_info": {
   "codemirror_mode": {
    "name": "ipython",
    "version": 3
   },
   "file_extension": ".py",
   "mimetype": "text/x-python",
   "name": "python",
   "nbconvert_exporter": "python",
   "pygments_lexer": "ipython3",
   "version": "3.11.9"
  }
 },
 "nbformat": 4,
 "nbformat_minor": 5
}

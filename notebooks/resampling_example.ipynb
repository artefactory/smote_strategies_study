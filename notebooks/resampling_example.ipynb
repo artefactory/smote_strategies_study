{
 "cells": [
  {
   "cell_type": "markdown",
   "id": "4bcbdbe8",
   "metadata": {},
   "source": [
    "<center><h1  style=\"color:white; background-color:#000000; border-radius: 0px; padding:25px;\"> How to use our new reseampling strategies: MGS and CV SMOTE </h1></center>"
   ]
  },
  {
   "cell_type": "markdown",
   "id": "d09436ed",
   "metadata": {},
   "source": [
    "This notebook documents two strategies for rebalancing unbalanced datasets:  Multivariate Gaussian SMOTE (MGS) et CV SMOTE. For this example we load a toy data set from sk-learn.\n",
    "\n",
    "#### Add short description of both methods"
   ]
  },
  {
   "cell_type": "code",
   "execution_count": 1,
   "id": "3a363c4f",
   "metadata": {},
   "outputs": [],
   "source": [
    "import os\n",
    "import sys\n",
    "sys.path.insert(1, os.path.abspath(os.path.join(os.getcwd(), os.pardir)))"
   ]
  },
  {
   "cell_type": "markdown",
   "id": "7b45c9f9",
   "metadata": {},
   "source": [
    "### Load data:"
   ]
  },
  {
   "cell_type": "code",
   "execution_count": 2,
   "id": "0fdcb414",
   "metadata": {},
   "outputs": [
    {
     "name": "stdout",
     "output_type": "stream",
     "text": [
      "Original dataset shape Counter({0: 900, 1: 100})\n"
     ]
    }
   ],
   "source": [
    "from sklearn.datasets import make_classification\n",
    "from collections import Counter\n",
    "X, y = make_classification(n_classes=2, class_sep=2,\n",
    "                           weights=[0.9, 0.1], n_informative=3, n_redundant=1,\n",
    "                           flip_y=0,n_features=20, n_clusters_per_class=1,\n",
    "                           n_samples=1000, random_state=10)\n",
    "print('Original dataset shape %s' % Counter(y))"
   ]
  },
  {
   "cell_type": "markdown",
   "id": "bfa33e70",
   "metadata": {},
   "source": [
    "<center><h1  style=\"color:white; background-color:#808b96; border-radius: 10px; padding:15px;\"> MGS </h1></center>"
   ]
  },
  {
   "cell_type": "markdown",
   "id": "1c05fad8",
   "metadata": {},
   "source": [
    "## Resampling:"
   ]
  },
  {
   "cell_type": "code",
   "execution_count": 3,
   "id": "ff3feed5",
   "metadata": {},
   "outputs": [
    {
     "name": "stdout",
     "output_type": "stream",
     "text": [
      "Resampled dataset shape Counter({0: 900, 1: 900})\n"
     ]
    }
   ],
   "source": [
    "from oversampling_strategies.oversampling_strategies import MGS\n",
    "mg = MGS(n_points=5,K=5,llambda=1.0)\n",
    "X_res, y_res = mg.fit_resample(X, y)\n",
    "print('Resampled dataset shape %s' % Counter(y_res))"
   ]
  },
  {
   "cell_type": "markdown",
   "id": "13f52b9b",
   "metadata": {},
   "source": [
    "## Classification:"
   ]
  },
  {
   "cell_type": "code",
   "execution_count": 4,
   "id": "a6a735d6",
   "metadata": {},
   "outputs": [
    {
     "name": "stdout",
     "output_type": "stream",
     "text": [
      "ROC AUC :  1.0\n"
     ]
    }
   ],
   "source": [
    "from sklearn.model_selection import train_test_split\n",
    "from sklearn.ensemble import RandomForestClassifier\n",
    "from sklearn.metrics import roc_auc_score\n",
    "X_train, X_test, y_train, y_test = train_test_split(X, y, test_size=0.20,\n",
    "                                                    random_state=0)\n",
    "clf = RandomForestClassifier(random_state=0)\n",
    "mg = MGS(n_points=5,K=5,llambda=1.0)\n",
    "X_res, y_res = mg.fit_resample(X_train, y_train) # augmented_X ? synthetic_X and y ?\n",
    "clf.fit(X_res, y_res)\n",
    "\n",
    "print('ROC AUC : ',roc_auc_score(y_test, clf.predict_proba(X_test)[:, 1]))\n"
   ]
  },
  {
   "cell_type": "markdown",
   "id": "02528e96",
   "metadata": {},
   "source": [
    "### Ideas:\n",
    "- Add an example on a more complex dataset where your oversampling strategy improves the performances\n",
    "- Add some plots to see the synthetic generated data\n",
    "- Add some plots to compare to \"classical\" SMOTE ?"
   ]
  },
  {
   "cell_type": "markdown",
   "id": "7b7ef149",
   "metadata": {},
   "source": [
    "<center><h1  style=\"color:white; background-color:#808b96; border-radius: 10px; padding:15px;\"> CV SMOTE </h1></center>"
   ]
  },
  {
   "cell_type": "markdown",
   "id": "4da0692c",
   "metadata": {},
   "source": [
    "## Classification:\n",
    "\n",
    "Add some explanation of what it does - for users that have not and do not want to read the paper !"
   ]
  },
  {
   "cell_type": "code",
   "execution_count": 5,
   "id": "337bc4b5",
   "metadata": {},
   "outputs": [
    {
     "ename": "TypeError",
     "evalue": "CVSmoteModel.__init__() got an unexpected keyword argument 'arange_max'",
     "output_type": "error",
     "traceback": [
      "\u001b[0;31m---------------------------------------------------------------------------\u001b[0m",
      "\u001b[0;31mTypeError\u001b[0m                                 Traceback (most recent call last)",
      "Cell \u001b[0;32mIn[5], line 9\u001b[0m\n\u001b[1;32m      5\u001b[0m \u001b[38;5;28;01mfrom\u001b[39;00m \u001b[38;5;21;01moversampling_strategies\u001b[39;00m\u001b[38;5;21;01m.\u001b[39;00m\u001b[38;5;21;01moversampling_strategies\u001b[39;00m \u001b[38;5;28;01mimport\u001b[39;00m CVSmoteModel\n\u001b[1;32m      6\u001b[0m X_train, X_test, y_train, y_test \u001b[38;5;241m=\u001b[39m train_test_split(X, y, test_size\u001b[38;5;241m=\u001b[39m\u001b[38;5;241m0.20\u001b[39m,\n\u001b[1;32m      7\u001b[0m                                                     random_state\u001b[38;5;241m=\u001b[39m\u001b[38;5;241m0\u001b[39m)\n\u001b[0;32m----> 9\u001b[0m CVSmoteRF \u001b[38;5;241m=\u001b[39m \u001b[43mCVSmoteModel\u001b[49m\u001b[43m(\u001b[49m\u001b[43msplitter\u001b[49m\u001b[38;5;241;43m=\u001b[39;49m\u001b[43mStratifiedKFold\u001b[49m\u001b[43m(\u001b[49m\u001b[43mn_splits\u001b[49m\u001b[38;5;241;43m=\u001b[39;49m\u001b[38;5;241;43m5\u001b[39;49m\u001b[43m)\u001b[49m\u001b[43m,\u001b[49m\n\u001b[1;32m     10\u001b[0m \u001b[43m                              \u001b[49m\u001b[43mmodel\u001b[49m\u001b[38;5;241;43m=\u001b[39;49m\u001b[43mRandomForestClassifier\u001b[49m\u001b[43m(\u001b[49m\u001b[43mrandom_state\u001b[49m\u001b[38;5;241;43m=\u001b[39;49m\u001b[38;5;241;43m0\u001b[39;49m\u001b[43m)\u001b[49m\u001b[43m,\u001b[49m\n\u001b[1;32m     11\u001b[0m \u001b[43m                              \u001b[49m\u001b[43marange_max\u001b[49m\u001b[38;5;241;43m=\u001b[39;49m\u001b[38;5;241;43m15\u001b[39;49m\u001b[43m,\u001b[49m\u001b[43marange_step\u001b[49m\u001b[38;5;241;43m=\u001b[39;49m\u001b[38;5;241;43m1\u001b[39;49m\u001b[43m)\u001b[49m\n\u001b[1;32m     12\u001b[0m CVSmoteRF\u001b[38;5;241m.\u001b[39mfit(X_train, y_train)\n\u001b[1;32m     14\u001b[0m \u001b[38;5;28mprint\u001b[39m(\u001b[38;5;124m'\u001b[39m\u001b[38;5;124mROC AUC : \u001b[39m\u001b[38;5;124m'\u001b[39m,roc_auc_score(y_test, CVSmoteRF\u001b[38;5;241m.\u001b[39mpredict_proba(X_test)[:, \u001b[38;5;241m1\u001b[39m]))\n",
      "\u001b[0;31mTypeError\u001b[0m: CVSmoteModel.__init__() got an unexpected keyword argument 'arange_max'"
     ]
    }
   ],
   "source": [
    "from sklearn.model_selection import train_test_split\n",
    "from sklearn.ensemble import RandomForestClassifier\n",
    "from sklearn.metrics import roc_auc_score\n",
    "from sklearn.model_selection import StratifiedKFold\n",
    "from oversampling_strategies.oversampling_strategies import CVSmoteModel\n",
    "X_train, X_test, y_train, y_test = train_test_split(X, y, test_size=0.20,\n",
    "                                                    random_state=0)\n",
    "\n",
    "CVSmoteRF = CVSmoteModel(splitter=StratifiedKFold(n_splits=5),\n",
    "                              model=RandomForestClassifier(random_state=0),\n",
    "                              arange_max=15,arange_step=1)\n",
    "CVSmoteRF.fit(X_train, y_train)\n",
    "\n",
    "print('ROC AUC : ',roc_auc_score(y_test, CVSmoteRF.predict_proba(X_test)[:, 1]))"
   ]
  }
 ],
 "metadata": {
  "kernelspec": {
   "display_name": "Python 3 (ipykernel)",
   "language": "python",
   "name": "python3"
  },
  "language_info": {
   "codemirror_mode": {
    "name": "ipython",
    "version": 3
   },
   "file_extension": ".py",
   "mimetype": "text/x-python",
   "name": "python",
   "nbconvert_exporter": "python",
   "pygments_lexer": "ipython3",
   "version": "3.10.10"
  }
 },
 "nbformat": 4,
 "nbformat_minor": 5
}

{
 "cells": [
  {
   "cell_type": "markdown",
   "id": "4bcbdbe8",
   "metadata": {},
   "source": [
    "<center><h1  style=\"color:white; background-color:#000000; border-radius: 0px; padding:25px;\"> How to use our new reseampling strategies: MGS and CV SMOTE </h1></center>"
   ]
  },
  {
   "cell_type": "markdown",
   "id": "d09436ed",
   "metadata": {},
   "source": [
    "This notebook documents two strategies for rebalancing unbalanced datasets:  Multivariate Gaussian SMOTE (MGS) et CV SMOTE. For this example we load a toy data set from sk-learn.\n",
    "\n",
    "#### Add short description of both methods"
   ]
  },
  {
   "cell_type": "code",
   "execution_count": null,
   "id": "3a363c4f",
   "metadata": {},
   "outputs": [],
   "source": [
    "import os\n",
    "import sys\n",
    "sys.path.insert(1, os.path.abspath(os.path.join(os.getcwd(), os.pardir)))"
   ]
  },
  {
   "cell_type": "markdown",
   "id": "7b45c9f9",
   "metadata": {},
   "source": [
    "### Load data:"
   ]
  },
  {
   "cell_type": "code",
   "execution_count": null,
   "id": "0fdcb414",
   "metadata": {},
   "outputs": [],
   "source": [
    "from sklearn.datasets import make_classification\n",
    "from collections import Counter\n",
    "X, y = make_classification(n_classes=2, class_sep=2,\n",
    "                           weights=[0.9, 0.1], n_informative=3, n_redundant=1,\n",
    "                           flip_y=0,n_features=20, n_clusters_per_class=1,\n",
    "                           n_samples=1000, random_state=10)\n",
    "print('Original dataset shape %s' % Counter(y))"
   ]
  },
  {
   "cell_type": "markdown",
   "id": "bfa33e70",
   "metadata": {},
   "source": [
    "<center><h1  style=\"color:white; background-color:#808b96; border-radius: 10px; padding:15px;\"> MGS </h1></center>"
   ]
  },
  {
   "cell_type": "markdown",
   "id": "1c05fad8",
   "metadata": {},
   "source": [
    "## Resampling:"
   ]
  },
  {
   "cell_type": "code",
   "execution_count": null,
   "id": "ff3feed5",
   "metadata": {},
   "outputs": [],
   "source": [
    "from oversampling_strategies import MGS\n",
    "mg = MGS(n_points=5,K=5,llambda=1.0)\n",
    "X_res, y_res = mg.fit_resample(X, y)\n",
    "print('Resampled dataset shape %s' % Counter(y_res))"
   ]
  },
  {
   "cell_type": "markdown",
   "id": "13f52b9b",
   "metadata": {},
   "source": [
    "## Classification:"
   ]
  },
  {
   "cell_type": "code",
   "execution_count": null,
   "id": "a6a735d6",
   "metadata": {},
   "outputs": [],
   "source": [
    "from sklearn.model_selection import train_test_split\n",
    "from sklearn.ensemble import RandomForestClassifier\n",
    "from sklearn.metrics import roc_auc_score\n",
    "X_train, X_test, y_train, y_test = train_test_split(X, y, test_size=0.20,\n",
    "                                                    random_state=0)\n",
    "clf = RandomForestClassifier(random_state=0)\n",
    "mg = MGS(n_points=5,K=5,llambda=1.0)\n",
    "X_res, y_res = mg.fit_resample(X_train, y_train) # augmented_X ? synthetic_X and y ?\n",
    "clf.fit(X_res, y_res)\n",
    "\n",
    "print('ROC AUC : ',roc_auc_score(y_test, clf.predict_proba(X_test)[:, 1]))\n"
   ]
  },
  {
   "cell_type": "markdown",
   "id": "02528e96",
   "metadata": {},
   "source": [
    "### Ideas:\n",
    "- Add an example on a more complex dataset where your oversampling strategy improves the performances\n",
    "- Add some plots to see the synthetic generated data\n",
    "- Add some plots to compare to \"classical\" SMOTE ?"
   ]
  },
  {
   "cell_type": "markdown",
   "id": "7b7ef149",
   "metadata": {},
   "source": [
    "<center><h1  style=\"color:white; background-color:#808b96; border-radius: 10px; padding:15px;\"> CV SMOTE </h1></center>"
   ]
  },
  {
   "cell_type": "markdown",
   "id": "4da0692c",
   "metadata": {},
   "source": [
    "## Classification:\n",
    "\n",
    "Add some explanation of what it does - for users that have not and do not want to read the paper !"
   ]
  },
  {
   "cell_type": "code",
   "execution_count": null,
   "id": "337bc4b5",
   "metadata": {},
   "outputs": [],
   "source": [
    "from sklearn.model_selection import train_test_split\n",
    "from sklearn.ensemble import RandomForestClassifier\n",
    "from sklearn.metrics import roc_auc_score\n",
    "from sklearn.model_selection import StratifiedKFold\n",
    "from oversampling_strategies import CVSmoteModel\n",
    "X_train, X_test, y_train, y_test = train_test_split(X, y, test_size=0.20,\n",
    "                                                    random_state=0)\n",
    "\n",
    "CVSmoteRF = CVSmoteModel(splitter=StratifiedKFold(n_splits=5),\n",
    "                              model=RandomForestClassifier(random_state=0),\n",
    "                              arange_max=15,arange_step=1)\n",
    "CVSmoteRF.fit(X_train, y_train)\n",
    "\n",
    "print('ROC AUC : ',roc_auc_score(y_test, CVSmoteRF.predict_proba(X_test)[:, 1]))"
   ]
  },
  {
   "cell_type": "code",
   "execution_count": null,
   "id": "9ff61afc",
   "metadata": {},
   "outputs": [],
   "source": []
  }
 ],
 "metadata": {
  "kernelspec": {
   "display_name": "Python 3 (ipykernel)",
   "language": "python",
   "name": "python3"
  },
  "language_info": {
   "codemirror_mode": {
    "name": "ipython",
    "version": 3
   },
   "file_extension": ".py",
   "mimetype": "text/x-python",
   "name": "python",
   "nbconvert_exporter": "python",
   "pygments_lexer": "ipython3",
   "version": "3.10.10"
  }
 },
 "nbformat": 4,
 "nbformat_minor": 5
}

{
 "cells": [
  {
   "cell_type": "markdown",
   "id": "fa7b832a",
   "metadata": {},
   "source": [
    "<center><h1  style=\"color:white; background-color:#000000; border-radius: 0px; padding:25px;\"> Theoretical study of SMOTE </h1></center>"
   ]
  },
  {
   "cell_type": "markdown",
   "id": "357f68d2",
   "metadata": {},
   "source": [
    "This notebook reproduce the numerical experiments inside the SMOTE section (illustration of theorems).\n",
    "\n",
    " - Simulated data\n",
    " - Real world data set application"
   ]
  },
  {
   "cell_type": "code",
   "execution_count": null,
   "id": "315faa9c",
   "metadata": {},
   "outputs": [],
   "source": [
    "import os\n",
    "import sys\n",
    "sys.path.insert(1, os.path.abspath(os.path.join(os.getcwd(), os.pardir)))\n",
    "from pathlib import Path"
   ]
  },
  {
   "cell_type": "code",
   "execution_count": null,
   "id": "70e614ac",
   "metadata": {},
   "outputs": [],
   "source": [
    "output_dir_path =  \"../saved_experiments\" ## Fill it\n",
    "Path(output_dir_path).mkdir(parents=True, exist_ok=True)\n",
    "output_dir_path"
   ]
  },
  {
   "cell_type": "markdown",
   "id": "60d0ab44",
   "metadata": {},
   "source": [
    "<center><h1  style=\"color:white; background-color:#808b96; border-radius: 10px; padding:15px;\"> Simulated data  </h1></center>"
   ]
  },
  {
   "cell_type": "markdown",
   "id": "20da613b",
   "metadata": {},
   "source": [
    "$\\bar{C}(\\mathbf{Z}, \\mathbf{X})$ :"
   ]
  },
  {
   "cell_type": "code",
   "execution_count": null,
   "id": "aa53e371",
   "metadata": {},
   "outputs": [],
   "source": [
    "from validation.distances_experiments import run_dist_exp, open_plot_run"
   ]
  },
  {
   "cell_type": "code",
   "execution_count": null,
   "id": "5c318b75",
   "metadata": {},
   "outputs": [],
   "source": [
    "list_N = [50,75,100,1000,2000, 10000] # list of number of samples values\n",
    "run_dist_exp(list_N,\n",
    "             output_dir=output_dir_path, \n",
    "             name_file='test.csv')\n"
   ]
  },
  {
   "cell_type": "code",
   "execution_count": null,
   "id": "2a61c3eb",
   "metadata": {},
   "outputs": [],
   "source": [
    "open_plot_run(output_dir_open=output_dir_path,\n",
    "              name_file_open='test.csv',\n",
    "              name_y=r\"$\\bar{C}(\\mathbf{Z}, \\mathbf{X})$\",name_title=\"essai\",xmin=0,xmax=110,\n",
    "              bool_to_save=False,output_dir_save=None,name_file_save=None)"
   ]
  },
  {
   "cell_type": "markdown",
   "id": "98506392",
   "metadata": {},
   "source": [
    "$\\bar{C}(\\mathbf{Z}, \\mathbf{X})/\\bar{C}(\\tilde{\\mathbf{X}}, \\mathbf{X})$ :\n"
   ]
  },
  {
   "cell_type": "code",
   "execution_count": null,
   "id": "07e915bf",
   "metadata": {},
   "outputs": [],
   "source": [
    "from validation.distances_experiments import run_dist_exp_normalized, open_plot_run_normalized"
   ]
  },
  {
   "cell_type": "code",
   "execution_count": null,
   "id": "1d6e75eb",
   "metadata": {},
   "outputs": [],
   "source": [
    "list_N = [50,75,100,1000,2000, 10000] # list of number of samples values\n",
    "run_dist_exp_normalized(list_N,\n",
    "             output_dir=output_dir_path,\n",
    "             name_file='test_normalized.csv')"
   ]
  },
  {
   "cell_type": "code",
   "execution_count": null,
   "id": "0b5c408c",
   "metadata": {},
   "outputs": [],
   "source": [
    "open_plot_run_normalized(output_dir_open=output_dir_path, # name\n",
    "              name_file_open='test_normalized.csv',\n",
    "              name_y=r\"$\\bar{C}(\\mathbf{Z}, \\mathbf{X})$\",name_title=\"essai\",xmin=0,xmax=110,\n",
    "              bool_to_save=False,output_dir_save=None,name_file_save=None)"
   ]
  },
  {
   "cell_type": "markdown",
   "id": "f90ecff0",
   "metadata": {},
   "source": [
    "<center><h1  style=\"color:white; background-color:#808b96; border-radius: 10px; padding:15px;\"> Real-World Dataset </h1></center>"
   ]
  },
  {
   "cell_type": "code",
   "execution_count": null,
   "id": "4c5fe7a4",
   "metadata": {},
   "outputs": [],
   "source": [
    "from validation.distances_experiments import protocole_dist_mean_dataset_onedataset, save_mutiple_run_real_data\n",
    "from validation.distances_experiments import open_mutiple_run_real_data, plot_mutiple_run_real_data"
   ]
  },
  {
   "cell_type": "markdown",
   "id": "c0a04cea",
   "metadata": {},
   "source": [
    "### Phoneme :"
   ]
  },
  {
   "cell_type": "code",
   "execution_count": null,
   "id": "90637635",
   "metadata": {},
   "outputs": [],
   "source": [
    "from data.data import load_df_phoneme_positifs\n",
    "df_phoneme_positifs = load_df_phoneme_positifs() "
   ]
  },
  {
   "cell_type": "code",
   "execution_count": null,
   "id": "7bbe3dc6",
   "metadata": {},
   "outputs": [],
   "source": [
    "list_n= [50, 100,200, 300, 400, 500, 600, 700]\n",
    "list_res_n_mean, list_res_n_std = protocole_dist_mean_dataset_onedataset(\n",
    "    df_positifs=df_phoneme_positifs,\n",
    "    list_n=list_n,n_iter=100,n_iter_2=1)"
   ]
  },
  {
   "cell_type": "code",
   "execution_count": null,
   "id": "e7871a64",
   "metadata": {},
   "outputs": [],
   "source": [
    "save_mutiple_run_real_data(\n",
    "    output_dir=output_dir_path,\n",
    "    name_file='2024-01-17_phoneme_test',\n",
    "    list_res_n_mean=list_res_n_mean,list_res_n_std=list_res_n_std,list_n=list_n)"
   ]
  },
  {
   "cell_type": "code",
   "execution_count": null,
   "id": "b74d71dc",
   "metadata": {},
   "outputs": [],
   "source": [
    "df_mean,df_std = open_mutiple_run_real_data(\n",
    "    output_dir=output_dir_path,\n",
    "    name_file='2024-01-17_phoneme_test')"
   ]
  },
  {
   "cell_type": "code",
   "execution_count": null,
   "id": "62532a1a",
   "metadata": {},
   "outputs": [],
   "source": [
    "plot_mutiple_run_real_data(df_mean=df_mean,df_std=df_std,\n",
    "                           name_y=r'$\\bar{C}(\\mathbf{Z}, \\mathbf{X})$',\n",
    "                           name_title='Phoneme data',\n",
    "                           xmin=20,xmax=60)"
   ]
  }
 ],
 "metadata": {
  "kernelspec": {
   "display_name": "Python 3 (ipykernel)",
   "language": "python",
   "name": "python3"
  },
  "language_info": {
   "codemirror_mode": {
    "name": "ipython",
    "version": 3
   },
   "file_extension": ".py",
   "mimetype": "text/x-python",
   "name": "python",
   "nbconvert_exporter": "python",
   "pygments_lexer": "ipython3",
   "version": "3.11.3"
  }
 },
 "nbformat": 4,
 "nbformat_minor": 5
}

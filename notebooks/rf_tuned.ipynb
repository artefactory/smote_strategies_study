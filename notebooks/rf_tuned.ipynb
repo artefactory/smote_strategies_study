{
 "cells": [
  {
   "cell_type": "markdown",
   "id": "d23ef583",
   "metadata": {},
   "source": [
    "<center><h1  style=\"color:white; background-color:#000000; border-radius: 0px; padding:25px;\"> Theoretical study of SMOTE </h1></center>"
   ]
  },
  {
   "cell_type": "markdown",
   "id": "290db701",
   "metadata": {},
   "source": [
    "This notebook reproduces the numerical experiments.\n",
    "\n",
    "<ins>Experimented Datasets: </ins>\n",
    "- [Phoneme](#Phoneme)\n",
    "- Pima\n",
    "- Abalone\n",
    "- Haberman\n",
    "- Yeast\n",
    "- Wine\n",
    "- Vehicle\n",
    "- Bresat cancer Wisconsin\n",
    "- Ionosphere\n",
    "- CreditCard\n",
    "- MagicTel\n",
    "- California\n",
    "- House_16H\n",
    "\n",
    "\n",
    "Tuning dpeth part is at the end of tghe notebook. The used depth for each data set are given. User should fill the protocol with the desired data sets and their associated depth dictionnary."
   ]
  },
  {
   "cell_type": "code",
   "execution_count": null,
   "id": "d3b46d90",
   "metadata": {},
   "outputs": [],
   "source": [
    "import os\n",
    "import sys\n",
    "sys.path.insert(1, os.path.abspath(os.path.join(os.getcwd(), os.pardir)))\n",
    "from pathlib import Path\n",
    "\n",
    "\n",
    "from sklearn.ensemble import RandomForestClassifier \n",
    "from sklearn.model_selection import GridSearchCV, StratifiedKFold\n",
    "from sklearn.metrics import precision_score, recall_score, roc_auc_score\n",
    "from imblearn.under_sampling import RandomUnderSampler,NearMiss\n",
    "from imblearn.over_sampling import RandomOverSampler, SMOTE, BorderlineSMOTE\n",
    "\n",
    "\n",
    "from oversampling_strategies.oversampling_strategies import MGS, NoSampling, CVSmoteModel,CtganSampler,ForesDiffSampler\n",
    "\n",
    "from validation.classif_experiments import run_eval, subsample_to_ratio_indices,read_subsampling_indices, compute_metrics_several_protocols"
   ]
  },
  {
   "cell_type": "code",
   "execution_count": null,
   "id": "ea791025-eff8-4fa3-9e37-20d30c6c80a3",
   "metadata": {},
   "outputs": [],
   "source": [
    "#import lightgbm as lgb"
   ]
  },
  {
   "cell_type": "code",
   "execution_count": null,
   "id": "aa869e32",
   "metadata": {
    "scrolled": true
   },
   "outputs": [],
   "source": [
    "output_dir_path =  \"../saved_experiments/tuned_pr\" ## Fill it\n",
    "Path(output_dir_path).mkdir(parents=True, exist_ok=True)\n",
    "output_dir_path"
   ]
  },
  {
   "cell_type": "markdown",
   "id": "45bf2347",
   "metadata": {},
   "source": [
    "<center><h1  style=\"color:white; background-color:#808b96; border-radius: 10px; padding:15px;\" name='Phoneme'> Phoneme</h1></center>\n",
    "\n",
    "## <a name='Phoneme'></a>"
   ]
  },
  {
   "cell_type": "markdown",
   "id": "7f1e2b43",
   "metadata": {},
   "source": [
    "## Run protocol :"
   ]
  },
  {
   "cell_type": "code",
   "execution_count": null,
   "id": "33f7c3c1",
   "metadata": {},
   "outputs": [],
   "source": [
    "from data.data import load_phoneme_data\n",
    "X_phoneme, y_phoneme = load_phoneme_data()"
   ]
  },
  {
   "cell_type": "code",
   "execution_count": null,
   "id": "3db2612e",
   "metadata": {},
   "outputs": [],
   "source": [
    "indices_kept_20 = subsample_to_ratio_indices(X=X_phoneme,y=y_phoneme,ratio=0.2,seed_sub=11,\n",
    "                                           output_dir_subsampling=output_dir_path,\n",
    "                                           name_subsampling_file='phoneme_sub_original_to_20')\n",
    "\n",
    "indices_kept_10 = subsample_to_ratio_indices(\n",
    "    X=X_phoneme,y=y_phoneme,ratio=0.1,seed_sub=9,\n",
    "    output_dir_subsampling=output_dir_path,\n",
    "    name_subsampling_file='phoneme_sub_20_to_10',has_previous_under_sampling=True,\n",
    "    previous_under_sampling=indices_kept_20)\n",
    "\n",
    "indices_kept_1 = subsample_to_ratio_indices(X=X_phoneme,y=y_phoneme,ratio=0.01,seed_sub=5,\n",
    "    output_dir_subsampling=output_dir_path,\n",
    "    name_subsampling_file='phoneme_sub_10_to_1',has_previous_under_sampling=True,\n",
    "    previous_under_sampling=indices_kept_10)"
   ]
  },
  {
   "cell_type": "code",
   "execution_count": null,
   "id": "100e114b",
   "metadata": {},
   "outputs": [],
   "source": [
    "X_phoneme_1,y_phoneme_1 = read_subsampling_indices(X=X_phoneme,y=y_phoneme, dir_subsampling=output_dir_path, name_subsampling_file='phoneme_sub_10_to_1', get_indexes=False)"
   ]
  },
  {
   "cell_type": "code",
   "execution_count": null,
   "id": "72a57d3f-db57-461c-ab85-882c710bafbb",
   "metadata": {},
   "outputs": [],
   "source": [
    "X_phoneme_10,y_phoneme_10 = read_subsampling_indices(X=X_phoneme,y=y_phoneme, dir_subsampling=output_dir_path, name_subsampling_file='phoneme_sub_20_to_10', get_indexes=False)"
   ]
  },
  {
   "cell_type": "code",
   "execution_count": null,
   "id": "aee31e24-0cc2-4c3b-87b2-c6f15005fc9e",
   "metadata": {},
   "outputs": [],
   "source": [
    "X_phoneme_20,y_phoneme_20 = read_subsampling_indices(X=X_phoneme,y=y_phoneme, dir_subsampling=output_dir_path, name_subsampling_file='phoneme_sub_original_to_20', get_indexes=False)"
   ]
  },
  {
   "cell_type": "markdown",
   "id": "b64bf0a2",
   "metadata": {
    "jp-MarkdownHeadingCollapsed": true
   },
   "source": [
    "<center><h1  style=\"color:white; background-color:#808b96; border-radius: 10px; padding:15px;\"> Pima </h1></center>"
   ]
  },
  {
   "cell_type": "markdown",
   "id": "ab43b2e1",
   "metadata": {},
   "source": [
    "## Run protocol :"
   ]
  },
  {
   "cell_type": "code",
   "execution_count": null,
   "id": "934beb33",
   "metadata": {},
   "outputs": [],
   "source": [
    "from data.data import load_pima_data\n",
    "X_pima, y_pima = load_pima_data()"
   ]
  },
  {
   "cell_type": "code",
   "execution_count": null,
   "id": "4b5bfa68",
   "metadata": {},
   "outputs": [],
   "source": [
    "indices_kept_20 = subsample_to_ratio_indices(X=X_pima,y=y_pima,ratio=0.2,seed_sub=15,\n",
    "                                           output_dir_subsampling=output_dir_path,\n",
    "                                           name_subsampling_file='pima_sub_original_to_20')\n"
   ]
  },
  {
   "cell_type": "code",
   "execution_count": null,
   "id": "a3cb5126",
   "metadata": {},
   "outputs": [],
   "source": [
    "X_pima_20,y_pima_20 = read_subsampling_indices(X=X_pima,y=y_pima, dir_subsampling=output_dir_path, name_subsampling_file='pima_sub_original_to_20', get_indexes=False)"
   ]
  },
  {
   "cell_type": "markdown",
   "id": "25bcd19d",
   "metadata": {
    "jp-MarkdownHeadingCollapsed": true
   },
   "source": [
    "<center><h1  style=\"color:white; background-color:#808b96; border-radius: 10px; padding:15px;\"> Abalone </h1></center>"
   ]
  },
  {
   "cell_type": "markdown",
   "id": "28556d4e",
   "metadata": {},
   "source": [
    "## Run protocol :"
   ]
  },
  {
   "cell_type": "code",
   "execution_count": null,
   "id": "18611926",
   "metadata": {},
   "outputs": [],
   "source": [
    "from data.data import load_abalone_data\n",
    "X_abalone, y_abalone = load_abalone_data()"
   ]
  },
  {
   "cell_type": "code",
   "execution_count": null,
   "id": "8742c41f",
   "metadata": {},
   "outputs": [],
   "source": [
    "from collections import Counter\n",
    "Counter(y_abalone)"
   ]
  },
  {
   "cell_type": "markdown",
   "id": "cc84a06c",
   "metadata": {
    "jp-MarkdownHeadingCollapsed": true
   },
   "source": [
    "<center><h1  style=\"color:white; background-color:#808b96; border-radius: 10px; padding:15px;\"> Haberman </h1></center>"
   ]
  },
  {
   "cell_type": "markdown",
   "id": "112be115",
   "metadata": {},
   "source": [
    "## Run protocol :"
   ]
  },
  {
   "cell_type": "code",
   "execution_count": null,
   "id": "f8d9171a",
   "metadata": {},
   "outputs": [],
   "source": [
    "from data.data import load_haberman_data\n",
    "X_haberman,y_haberman = load_haberman_data()"
   ]
  },
  {
   "cell_type": "code",
   "execution_count": null,
   "id": "f2178b0e",
   "metadata": {},
   "outputs": [],
   "source": [
    "indices_kept_10 = subsample_to_ratio_indices(X=X_haberman,y=y_haberman,ratio=0.1,seed_sub=11,\n",
    "                                           output_dir_subsampling=output_dir_path,\n",
    "                                           name_subsampling_file='haberman_sub_original_to_20')\n",
    "X_haberman_10,y_haberman_10 = read_subsampling_indices(X=X_haberman,y=y_haberman, dir_subsampling=output_dir_path, name_subsampling_file='haberman_sub_original_to_20', get_indexes=False)"
   ]
  },
  {
   "cell_type": "markdown",
   "id": "2211351d",
   "metadata": {
    "jp-MarkdownHeadingCollapsed": true
   },
   "source": [
    "<center><h1  style=\"color:white; background-color:#808b96; border-radius: 10px; padding:15px;\"> Yeast </h1></center>"
   ]
  },
  {
   "cell_type": "code",
   "execution_count": null,
   "id": "e39fe093",
   "metadata": {},
   "outputs": [],
   "source": [
    "from data.data import load_yeast_data\n",
    "X_yeast,y_yeast = load_yeast_data()"
   ]
  },
  {
   "cell_type": "code",
   "execution_count": null,
   "id": "271cc234",
   "metadata": {},
   "outputs": [],
   "source": [
    "indices_kept_10 = subsample_to_ratio_indices(X=X_yeast,y=y_yeast,ratio=0.01,seed_sub=15,\n",
    "                                           output_dir_subsampling=output_dir_path,\n",
    "                                           name_subsampling_file='yeast_sub_original_to_1')\n",
    "\n",
    "X_yeast_1,y_yeast_1 = read_subsampling_indices(X=X_yeast,y=y_yeast, dir_subsampling=output_dir_path, name_subsampling_file='yeast_sub_original_to_1', get_indexes=False)"
   ]
  },
  {
   "cell_type": "markdown",
   "id": "771b0425",
   "metadata": {
    "jp-MarkdownHeadingCollapsed": true
   },
   "source": [
    "<center><h1  style=\"color:white; background-color:#808b96; border-radius: 10px; padding:15px;\"> Wine </h1></center>"
   ]
  },
  {
   "cell_type": "markdown",
   "id": "86e50d65",
   "metadata": {},
   "source": [
    "Wine quality datas et : class 5 and 6 vs 8. Do not forget to install ucimlrepo. # pip install ucimlrepo"
   ]
  },
  {
   "cell_type": "code",
   "execution_count": null,
   "id": "7896550a",
   "metadata": {},
   "outputs": [],
   "source": [
    "from data.data import load_wine_data\n",
    "X_wine,y_wine = load_wine_data()"
   ]
  },
  {
   "cell_type": "markdown",
   "id": "24d73a14",
   "metadata": {
    "jp-MarkdownHeadingCollapsed": true
   },
   "source": [
    "<center><h1  style=\"color:white; background-color:#808b96; border-radius: 10px; padding:15px;\"> Vehicle </h1></center>"
   ]
  },
  {
   "cell_type": "markdown",
   "id": "d19efa62",
   "metadata": {},
   "source": [
    "## Run protocol :"
   ]
  },
  {
   "cell_type": "code",
   "execution_count": null,
   "id": "aabdaf52",
   "metadata": {},
   "outputs": [],
   "source": [
    "from data.data import load_vehicle_data\n",
    "X_vehicle, y_vehicle = load_vehicle_data()"
   ]
  },
  {
   "cell_type": "code",
   "execution_count": null,
   "id": "f8e833db",
   "metadata": {},
   "outputs": [],
   "source": [
    "indices_kept_10 = subsample_to_ratio_indices(X=X_vehicle,y=y_vehicle,ratio=0.1,seed_sub=11,\n",
    "    output_dir_subsampling=output_dir_path,\n",
    "    name_subsampling_file='vehicle_sub_original_to_10')\n",
    "\n",
    "X_vehicle_10, y_vehicle_10 = read_subsampling_indices(X=X_vehicle,y=y_vehicle, dir_subsampling=output_dir_path, name_subsampling_file='vehicle_sub_original_to_10', get_indexes=False)"
   ]
  },
  {
   "cell_type": "markdown",
   "id": "f6bdb8b5",
   "metadata": {
    "jp-MarkdownHeadingCollapsed": true
   },
   "source": [
    "<center><h1  style=\"color:white; background-color:#808b96; border-radius: 10px; padding:15px;\"> Breast cancer Wisconsin </h1></center>"
   ]
  },
  {
   "cell_type": "markdown",
   "id": "59c0dc80",
   "metadata": {},
   "source": [
    "## Run protocol :"
   ]
  },
  {
   "cell_type": "code",
   "execution_count": null,
   "id": "94a6e3a1",
   "metadata": {},
   "outputs": [],
   "source": [
    "from data.data import load_breastcancer_data\n",
    "X_bcw, y_bcw = load_breastcancer_data()"
   ]
  },
  {
   "cell_type": "code",
   "execution_count": null,
   "id": "f35f5172",
   "metadata": {},
   "outputs": [],
   "source": [
    "indices_kept_20 = subsample_to_ratio_indices(X=X_bcw,y=y_bcw,ratio=0.2,seed_sub=11,\n",
    "                                           output_dir_subsampling=output_dir_path,\n",
    "                                           name_subsampling_file='bcw_sub_original_to_20')\n",
    "\n",
    "indices_kept_10 = subsample_to_ratio_indices(\n",
    "    X=X_bcw,y=y_bcw,ratio=0.1,seed_sub=9,\n",
    "    output_dir_subsampling=output_dir_path,\n",
    "    name_subsampling_file='bcw_sub_20_to_10',has_previous_under_sampling=True,\n",
    "    previous_under_sampling=indices_kept_20)\n",
    "\n",
    "X_bcw_10, y_bcw_10 = read_subsampling_indices(X=X_bcw,y=y_bcw, dir_subsampling=output_dir_path, name_subsampling_file='bcw_sub_20_to_10', get_indexes=False)"
   ]
  },
  {
   "cell_type": "code",
   "execution_count": null,
   "id": "d2325f65-103d-4bc6-9747-04dfed27a1a1",
   "metadata": {},
   "outputs": [],
   "source": [
    "X_bcw_20, y_bcw_20 = read_subsampling_indices(X=X_bcw,y=y_bcw, dir_subsampling=output_dir_path, name_subsampling_file='bcw_sub_original_to_20', get_indexes=False)"
   ]
  },
  {
   "cell_type": "markdown",
   "id": "db3498d7",
   "metadata": {
    "jp-MarkdownHeadingCollapsed": true
   },
   "source": [
    "<center><h1  style=\"color:white; background-color:#808b96; border-radius: 10px; padding:15px;\"> Ionosphere </h1></center>"
   ]
  },
  {
   "cell_type": "markdown",
   "id": "ee59139b",
   "metadata": {},
   "source": [
    "## Run protocol :"
   ]
  },
  {
   "cell_type": "code",
   "execution_count": null,
   "id": "5e9bbdbf",
   "metadata": {},
   "outputs": [],
   "source": [
    "from data.data import load_ionosphere_data\n",
    "X_ionosphere, y_ionosphere = load_ionosphere_data()"
   ]
  },
  {
   "cell_type": "code",
   "execution_count": null,
   "id": "15c33da0",
   "metadata": {},
   "outputs": [],
   "source": [
    "indices_kept_20 = subsample_to_ratio_indices(X=X_ionosphere,y=y_ionosphere,ratio=0.2,seed_sub=11,\n",
    "                                           output_dir_subsampling=output_dir_path,\n",
    "                                           name_subsampling_file='ionosphere_sub_original_to_20')\n",
    "\n",
    "indices_kept_10 = subsample_to_ratio_indices(\n",
    "    X=X_ionosphere,y=y_ionosphere,ratio=0.1,seed_sub=9,\n",
    "    output_dir_subsampling=output_dir_path,\n",
    "    name_subsampling_file='ionosphere_sub_20_to_10',has_previous_under_sampling=True,\n",
    "    previous_under_sampling=indices_kept_20)\n",
    "\n",
    "X_ionosphere_10, y_ionosphere_10 = read_subsampling_indices(X=X_ionosphere,y=y_ionosphere, dir_subsampling=output_dir_path, name_subsampling_file='ionosphere_sub_20_to_10', get_indexes=False)"
   ]
  },
  {
   "cell_type": "code",
   "execution_count": null,
   "id": "9e74a24e-eee2-4b17-83b7-8c79f0893ced",
   "metadata": {},
   "outputs": [],
   "source": [
    "X_ionosphere_20, y_ionosphere_20 = read_subsampling_indices(X=X_ionosphere,y=y_ionosphere, dir_subsampling=output_dir_path, name_subsampling_file='ionosphere_sub_original_to_20', get_indexes=False)"
   ]
  },
  {
   "cell_type": "markdown",
   "id": "729864b3",
   "metadata": {
    "jp-MarkdownHeadingCollapsed": true
   },
   "source": [
    "<center><h1  style=\"color:white; background-color:#808b96; border-radius: 10px; padding:15px;\"> CreditCard </h1></center>"
   ]
  },
  {
   "cell_type": "markdown",
   "id": "41804b7e",
   "metadata": {},
   "source": [
    "## Run protocol :"
   ]
  },
  {
   "cell_type": "code",
   "execution_count": null,
   "id": "f323f1b9",
   "metadata": {},
   "outputs": [],
   "source": [
    "from data.data import load_credit_data\n",
    "X_credit, y_credit, meta_df_credit = load_credit_data()"
   ]
  },
  {
   "cell_type": "code",
   "execution_count": null,
   "id": "fa4047c0",
   "metadata": {},
   "outputs": [],
   "source": [
    "from validation.classif_experiments import PaperTimeSeriesSplitWithGroupOut\n",
    "splitter_PTSSG = PaperTimeSeriesSplitWithGroupOut(n_splits=5, starting_split=0,meta_df=meta_df_credit,col_name_id='Time')"
   ]
  },
  {
   "cell_type": "markdown",
   "id": "8360608c",
   "metadata": {
    "jp-MarkdownHeadingCollapsed": true
   },
   "source": [
    "<center><h1  style=\"color:white; background-color:#808b96; border-radius: 10px; padding:15px;\"> MagicTel </h1></center>"
   ]
  },
  {
   "cell_type": "markdown",
   "id": "efe54ebd",
   "metadata": {},
   "source": [
    "## Run protocol : \n"
   ]
  },
  {
   "cell_type": "code",
   "execution_count": null,
   "id": "13dfc6f0",
   "metadata": {},
   "outputs": [],
   "source": [
    "from data.data import load_magictel_data\n",
    "X_magic,y_magic = load_magictel_data()"
   ]
  },
  {
   "cell_type": "code",
   "execution_count": null,
   "id": "89b3b1f5",
   "metadata": {},
   "outputs": [],
   "source": [
    "indices_kept_20 = subsample_to_ratio_indices(X=X_magic,y=y_magic,ratio=0.2,seed_sub=11,\n",
    "                                           output_dir_subsampling=output_dir_path,\n",
    "                                           name_subsampling_file='magicTel_sub_original_to_20')\n",
    "indices_kept_10 = subsample_to_ratio_indices(X=X_magic,y=y_magic,ratio=0.1,seed_sub=9,\n",
    "                                           output_dir_subsampling=output_dir_path,\n",
    "                                           name_subsampling_file='magicTel_sub_20_to_10')"
   ]
  },
  {
   "cell_type": "code",
   "execution_count": null,
   "id": "5d05af15",
   "metadata": {},
   "outputs": [],
   "source": [
    "X_magic_20,y_magic_20 = read_subsampling_indices(X=X_magic,y=y_magic, dir_subsampling=output_dir_path, name_subsampling_file='magicTel_sub_original_to_20', get_indexes=False)"
   ]
  },
  {
   "cell_type": "code",
   "execution_count": null,
   "id": "d146ac05-c66b-42e0-bcc4-80bdbe8d34cd",
   "metadata": {},
   "outputs": [],
   "source": [
    "X_magic_10,y_magic_10 = read_subsampling_indices(X=X_magic,y=y_magic, dir_subsampling=output_dir_path, name_subsampling_file='magicTel_sub_20_to_10', get_indexes=False)"
   ]
  },
  {
   "cell_type": "markdown",
   "id": "fab53a5d",
   "metadata": {
    "jp-MarkdownHeadingCollapsed": true
   },
   "source": [
    "<center><h1  style=\"color:white; background-color:#808b96; border-radius: 10px; padding:15px;\"> California </h1></center>"
   ]
  },
  {
   "cell_type": "code",
   "execution_count": null,
   "id": "88f5f463",
   "metadata": {},
   "outputs": [],
   "source": [
    "from data.data import load_california_data\n",
    "X_california,y_california = load_california_data()"
   ]
  },
  {
   "cell_type": "code",
   "execution_count": null,
   "id": "e9b9d153",
   "metadata": {},
   "outputs": [],
   "source": [
    "indices_kept_20 = subsample_to_ratio_indices(X=X_california,y=y_california,ratio=0.2,seed_sub=11,\n",
    "                                           output_dir_subsampling=output_dir_path,\n",
    "                                           name_subsampling_file='california_sub_original_to_20')\n",
    "\n",
    "indices_kept_10 = subsample_to_ratio_indices(\n",
    "    X=X_california,y=y_california,ratio=0.1,seed_sub=9,\n",
    "    output_dir_subsampling=output_dir_path,\n",
    "    name_subsampling_file='california_sub_20_to_10',has_previous_under_sampling=True,\n",
    "    previous_under_sampling=indices_kept_20)\n",
    "\n",
    "indices_kept_1 = subsample_to_ratio_indices(X=X_california,y=y_california,ratio=0.01,seed_sub=5,\n",
    "    output_dir_subsampling=output_dir_path,\n",
    "    name_subsampling_file='california_sub_10_to_1',has_previous_under_sampling=True,\n",
    "    previous_under_sampling=indices_kept_10)"
   ]
  },
  {
   "cell_type": "code",
   "execution_count": null,
   "id": "de5d5816",
   "metadata": {},
   "outputs": [],
   "source": [
    "X_california_1,y_california_1 = read_subsampling_indices(X=X_california,y=y_california, dir_subsampling=output_dir_path, name_subsampling_file='california_sub_10_to_1', get_indexes=False)"
   ]
  },
  {
   "cell_type": "code",
   "execution_count": null,
   "id": "b33359c5-290b-48b3-a506-7f9a39679d16",
   "metadata": {},
   "outputs": [],
   "source": [
    "X_california_10,y_california_10 = read_subsampling_indices(X=X_california,y=y_california, dir_subsampling=output_dir_path, name_subsampling_file='california_sub_20_to_10', get_indexes=False)"
   ]
  },
  {
   "cell_type": "code",
   "execution_count": null,
   "id": "e36b1676-8593-4e42-8737-c644045d9691",
   "metadata": {},
   "outputs": [],
   "source": [
    "X_california_20,y_california_20 = read_subsampling_indices(X=X_california,y=y_california, dir_subsampling=output_dir_path, name_subsampling_file='california_sub_original_to_20', get_indexes=False)"
   ]
  },
  {
   "cell_type": "markdown",
   "id": "46cfac40",
   "metadata": {
    "jp-MarkdownHeadingCollapsed": true
   },
   "source": [
    "<center><h1  style=\"color:white; background-color:#808b96; border-radius: 10px; padding:15px;\"> House_16H </h1></center>"
   ]
  },
  {
   "cell_type": "code",
   "execution_count": null,
   "id": "6d25cd84",
   "metadata": {},
   "outputs": [],
   "source": [
    "from data.data import load_house_data\n",
    "X_house,y_house = load_house_data()"
   ]
  },
  {
   "cell_type": "code",
   "execution_count": null,
   "id": "b132ecc0",
   "metadata": {},
   "outputs": [],
   "source": [
    "indices_kept_20 = subsample_to_ratio_indices(X=X_house,y=y_house,ratio=0.2,seed_sub=11,\n",
    "                                           output_dir_subsampling=output_dir_path,\n",
    "                                           name_subsampling_file='house16_sub_original_to_20')\n",
    "\n",
    "indices_kept_10 = subsample_to_ratio_indices(\n",
    "    X=X_house,y=y_house,ratio=0.1,seed_sub=9,\n",
    "    output_dir_subsampling=output_dir_path,\n",
    "    name_subsampling_file='house16_sub_20_to_10',has_previous_under_sampling=True,\n",
    "    previous_under_sampling=indices_kept_20)\n",
    "\n",
    "indices_kept_1 = subsample_to_ratio_indices(X=X_house,y=y_house,ratio=0.01,seed_sub=5,\n",
    "    output_dir_subsampling=output_dir_path,\n",
    "    name_subsampling_file='house16_sub_10_to_1',has_previous_under_sampling=True,\n",
    "    previous_under_sampling=indices_kept_10)"
   ]
  },
  {
   "cell_type": "code",
   "execution_count": null,
   "id": "00497731",
   "metadata": {},
   "outputs": [],
   "source": [
    "X_house_1,y_house_1 = read_subsampling_indices(X=X_house,y=y_house, dir_subsampling=output_dir_path, name_subsampling_file='house16_sub_10_to_1', get_indexes=False)"
   ]
  },
  {
   "cell_type": "code",
   "execution_count": null,
   "id": "71084a37-6e4e-43bb-9697-10f0d9ab5ea6",
   "metadata": {},
   "outputs": [],
   "source": [
    "X_house_20,y_house_20 = read_subsampling_indices(X=X_house,y=y_house, dir_subsampling=output_dir_path, name_subsampling_file='house16_sub_original_to_20', get_indexes=False)"
   ]
  },
  {
   "cell_type": "code",
   "execution_count": null,
   "id": "5ca0eaa6-a9ca-4de5-b74f-4b11f6360dc1",
   "metadata": {},
   "outputs": [],
   "source": [
    "X_house_10,y_house_10 = read_subsampling_indices(X=X_house,y=y_house, dir_subsampling=output_dir_path, name_subsampling_file='house16_sub_20_to_10', get_indexes=False)"
   ]
  },
  {
   "cell_type": "markdown",
   "id": "9d1d83d3",
   "metadata": {},
   "source": [
    "<center><h1  style=\"color:white; background-color:#808b96; border-radius: 10px; padding:15px;\"> Tuning depth </h1></center>"
   ]
  },
  {
   "cell_type": "markdown",
   "id": "f1c51fc7",
   "metadata": {},
   "source": [
    "For tunnig depth, for each data sets, we look at the mean depth of the forests for a given strategy (computed when the protocol is running and saved in a file). Then we applied a gridsearch with a grid for max_depth parameter based on the maximum value previously selected.\n",
    "The maximum value dictionnary of depth for ecah highly imbalanced dat are given below."
   ]
  },
  {
   "cell_type": "code",
   "execution_count": null,
   "id": "fa223f8c",
   "metadata": {},
   "outputs": [],
   "source": [
    "from validation.distances_experiments import depth_func_linspace"
   ]
  },
  {
   "cell_type": "code",
   "execution_count": null,
   "id": "535eae28-b301-454f-9c3d-3f6eee4da88d",
   "metadata": {},
   "outputs": [],
   "source": [
    "max_depth_dict_by_strat_phoneme_1 = {'none': 11,\n",
    "                           'smote':20,\n",
    "                           'MGS2':19,\n",
    "                           'cweight':15,\n",
    "                           'BS1': 16,\n",
    "                           'BS2': 19,\n",
    "                           'NM1':6,\n",
    "                           'RUS':6,\n",
    "                           'ROS':17,\n",
    "                           #'cvsmote':21,\n",
    "                            'CTGAN':21,'ForestDiff':20,\n",
    "                          }\n",
    "output_dir_path =  \"../saved_experiments_2025_v2/tuned_pr/time/tuned_pr/res_phoneme/subsample_to_1\" \n",
    "Path(output_dir_path).mkdir(parents=True, exist_ok=True)"
   ]
  },
  {
   "cell_type": "code",
   "execution_count": null,
   "id": "4ef03999-b464-44ac-ac91-b270f2a89156",
   "metadata": {
    "scrolled": true
   },
   "outputs": [],
   "source": [
    "max_depth_dict_by_strat = max_depth_dict_by_strat_phoneme_1\n",
    "\n",
    "for strat in max_depth_dict_by_strat:\n",
    "    max_depth = max_depth_dict_by_strat[strat]\n",
    "    list_depth = depth_func_linspace(min_value=5,max_value=max_depth,size=8)\n",
    "    #list_depth = np.arange(1,8)\n",
    "    ############\n",
    "    #RF = lgb.LGBMClassifier(num_leaves=128,n_jobs=5,verbosity=-1,random_state=0)\n",
    "    #RF2 = lgb.LGBMClassifier(num_leaves=128,class_weight='balanced',n_jobs=5,verbosity=-1,random_state=0)\n",
    "    RF = RandomForestClassifier(n_estimators=100,criterion='gini',n_jobs=10,random_state=0)\n",
    "    RF2 = RandomForestClassifier(n_estimators=100,criterion='gini',n_jobs=10,random_state=0,class_weight='balanced')\n",
    "    \n",
    "    #############\n",
    "    output_dir=os.path.join(output_dir_path,strat,'RF_100_tuned')\n",
    "    Path(output_dir).mkdir(parents=True, exist_ok=True)\n",
    "    init_name_file = '2025-rf_tuned_'\n",
    "    for i in range(20):\n",
    "        list_oversampling_dict_by_strat = {'none': [('None', NoSampling(), {}, RF),],\n",
    "                                   'smote': [('SMOTE',SMOTE(sampling_strategy=\"minority\",random_state=i),{},RF),],\n",
    "                                   'MGS':[('MGS',MGS(K=6,llambda=1.0,random_state=i),{},RF)], # Adapt the dimension : K=n_points=dimesnion+1\n",
    "                                   'cweight':[('c_weight', NoSampling(), {}, RF2),],\n",
    "                                   'BS1': [('BorderlineS_1', BorderlineSMOTE(sampling_strategy=\"minority\", k_neighbors=5, kind=\"borderline-1\",random_state=i),{}, RF),],\n",
    "                                   'BS2': [('BorderlineS_2',BorderlineSMOTE(sampling_strategy=\"minority\", k_neighbors=5, kind=\"borderline-2\",random_state=i),{}, RF),],\n",
    "                                   'NM1':[('NearMiss1', NearMiss(sampling_strategy=\"majority\", version=1),{}, RF),],\n",
    "                                   'RUS':[('RUS', RandomUnderSampler(sampling_strategy=\"majority\",replacement=False,random_state=i),{}, RF),],\n",
    "                                   'ROS':[('ROS',  RandomOverSampler(sampling_strategy=\"minority\",random_state=i),{}, RF),],\n",
    "                                   'cvsmote': [('cv_smote', SMOTE(sampling_strategy=\"minority\",random_state=i),{}, RF),],\n",
    "                                   'CTGAN':[('CTGAN', CtganSampler(epochs=10,generator_lr=2e-4,discriminator_lr=2e-4,random_state=i), {}, RF),],\n",
    "                                   'ForestDiff':[('ForestDiff', ForesDiffSampler(random_state=i), {}, RF),]}\n",
    "        list_oversampling_and_params = list_oversampling_dict_by_strat[strat]\n",
    "        \n",
    "        splitter_stratified = StratifiedKFold(n_splits=5,shuffle=True,random_state=100+i)\n",
    "        name_file = init_name_file + str(i) +'.npy'\n",
    "        run_eval(output_dir=output_dir,name_file=name_file,X=X_phoneme_1,y=y_phoneme_1, # Fill data\n",
    "                 list_oversampling_and_params=list_oversampling_and_params,\n",
    "                 splitter=splitter_stratified,to_standard_scale=True,\n",
    "                 to_use_pipeline=True,to_optimize_kneighbors=False,list_depth=list_depth ,scoring_grid='average_precision')"
   ]
  },
  {
   "cell_type": "code",
   "execution_count": null,
   "id": "51b20135-4d97-4eb2-87f2-10603a8240a7",
   "metadata": {},
   "outputs": [],
   "source": [
    "max_depth_dict_by_strat_phoneme_1 = {'cvsmote':21,\n",
    "                          }\n",
    "output_dir_path =  \"../saved_experiments_2025_v2/tuned_pr/time/tuned_pr/res_phoneme/subsample_to_1\" \n",
    "Path(output_dir_path).mkdir(parents=True, exist_ok=True)"
   ]
  },
  {
   "cell_type": "code",
   "execution_count": null,
   "id": "d3ada897-d639-468f-ab11-0ed3afb510c3",
   "metadata": {
    "scrolled": true
   },
   "outputs": [],
   "source": [
    "max_depth_dict_by_strat = max_depth_dict_by_strat_phoneme_1\n",
    "\n",
    "for strat in max_depth_dict_by_strat:\n",
    "    max_depth = max_depth_dict_by_strat[strat]\n",
    "    list_depth = depth_func_linspace(min_value=5,max_value=max_depth,size=8)\n",
    "    #list_depth = np.arange(1,8)\n",
    "    ############\n",
    "    #RF = lgb.LGBMClassifier(num_leaves=128,n_jobs=5,verbosity=-1,random_state=0)\n",
    "    #RF2 = lgb.LGBMClassifier(num_leaves=128,class_weight='balanced',n_jobs=5,verbosity=-1,random_state=0)\n",
    "    RF = RandomForestClassifier(n_estimators=100,criterion='gini',n_jobs=10,random_state=0)\n",
    "    RF2 = RandomForestClassifier(n_estimators=100,criterion='gini',n_jobs=10,random_state=0,class_weight='balanced')\n",
    "    \n",
    "    #############\n",
    "    output_dir=os.path.join(output_dir_path,strat,'RF_100_tuned')\n",
    "    Path(output_dir).mkdir(parents=True, exist_ok=True)\n",
    "    init_name_file = '2025-rf_tuned_'\n",
    "    for i in range(20):\n",
    "        list_oversampling_dict_by_strat = {'none': [('None', NoSampling(), {}, RF),],\n",
    "                                   'smote': [('SMOTE',SMOTE(sampling_strategy=\"minority\",random_state=i),{},RF),],\n",
    "                                   'MGS2':[('MGS2',MGS2(K=6,llambda=1.0,random_state=i),{},RF)], # Adapt the dimension : K=n_points=dimesnion+1\n",
    "                                   'cweight':[('c_weight', NoSampling(), {}, RF2),],\n",
    "                                   'BS1': [('BorderlineS_1', BorderlineSMOTE(sampling_strategy=\"minority\", k_neighbors=5, kind=\"borderline-1\",random_state=i),{}, RF),],\n",
    "                                   'BS2': [('BorderlineS_2',BorderlineSMOTE(sampling_strategy=\"minority\", k_neighbors=5, kind=\"borderline-2\",random_state=i),{}, RF),],\n",
    "                                   'NM1':[('NearMiss1', NearMiss(sampling_strategy=\"majority\", version=1),{}, RF),],\n",
    "                                   'RUS':[('RUS', RandomUnderSampler(sampling_strategy=\"majority\",replacement=False,random_state=i),{}, RF),],\n",
    "                                   'ROS':[('ROS',  RandomOverSampler(sampling_strategy=\"minority\",random_state=i),{}, RF),],\n",
    "                                   'cvsmote': [('cv_smote', SMOTE(sampling_strategy=\"minority\",random_state=i),{}, RF),],\n",
    "                                   'CTGAN':[('CTGAN', CtganSampler(epochs=10,generator_lr=2e-4,discriminator_lr=2e-4,random_state=i), {}, RF),],\n",
    "                                   'ForestDiff':[('ForestDiff', ForesDiffSampler(random_state=i), {}, RF),]}\n",
    "        list_oversampling_and_params = list_oversampling_dict_by_strat[strat]\n",
    "        \n",
    "        splitter_stratified = StratifiedKFold(n_splits=5,shuffle=True,random_state=100+i)\n",
    "        name_file = init_name_file + str(i) +'.npy'\n",
    "        run_eval(output_dir=output_dir,name_file=name_file,X=X_phoneme_1,y=y_phoneme_1, # Fill data\n",
    "                 list_oversampling_and_params=list_oversampling_and_params,\n",
    "                 splitter=splitter_stratified,to_standard_scale=True,\n",
    "                 to_use_pipeline=True,to_optimize_kneighbors=True,list_depth=list_depth ,scoring_grid='average_precision')"
   ]
  },
  {
   "cell_type": "markdown",
   "id": "9543ea80-7142-4214-b5c0-946c19746653",
   "metadata": {},
   "source": [
    "## Other data sets :"
   ]
  },
  {
   "cell_type": "markdown",
   "id": "14ede657",
   "metadata": {},
   "source": [
    "User should selec a higly imbalanced data set max depth dictionnary. Then, change the K value of MGS (K=dimension of the selected data set). Finnaly fill the data in run_eval function before launching the protocol."
   ]
  },
  {
   "cell_type": "code",
   "execution_count": null,
   "id": "32b6d1a0-0297-4e6c-8837-8be400ffcefb",
   "metadata": {
    "scrolled": true
   },
   "outputs": [],
   "source": [
    "max_depth_dict_by_strat = ## FILL IT\n",
    "\n",
    "for strat in max_depth_dict_by_strat:\n",
    "    max_depth = max_depth_dict_by_strat[strat]\n",
    "    list_depth = depth_func_linspace(min_value=5,max_value=max_depth,size=8)\n",
    "    #list_depth = np.arange(1,8)\n",
    "    ############\n",
    "    #RF = lgb.LGBMClassifier(num_leaves=128,n_jobs=5,verbosity=-1,random_state=0)\n",
    "    #RF2 = lgb.LGBMClassifier(num_leaves=128,class_weight='balanced',n_jobs=5,verbosity=-1,random_state=0)\n",
    "    RF = RandomForestClassifier(n_estimators=100,criterion='gini',n_jobs=10,random_state=0)\n",
    "    RF2 = RandomForestClassifier(n_estimators=100,criterion='gini',n_jobs=10,random_state=0,class_weight='balanced')\n",
    "    \n",
    "    #############\n",
    "    output_dir=os.path.join(output_dir_path,strat,'RF_100_tuned')\n",
    "    Path(output_dir).mkdir(parents=True, exist_ok=True)\n",
    "    init_name_file = '2025-rf_tuned_'\n",
    "    for i in range(20):\n",
    "        list_oversampling_dict_by_strat = {'none': [('None', NoSampling(), {}, RF),],\n",
    "                                   'smote': [('SMOTE',SMOTE(sampling_strategy=\"minority\",random_state=i),{},RF),],\n",
    "                                   'MGS2':[('MGS2',MGS2(K=,llambda=1.0,random_state=i),{},RF)], # ADAPT THE DIMENSION : K= max(5,dimesnion+1)\n",
    "                                   'cweight':[('c_weight', NoSampling(), {}, RF2),],\n",
    "                                   'BS1': [('BorderlineS_1', BorderlineSMOTE(sampling_strategy=\"minority\", k_neighbors=5, kind=\"borderline-1\",random_state=i),{}, RF),],\n",
    "                                   'BS2': [('BorderlineS_2',BorderlineSMOTE(sampling_strategy=\"minority\", k_neighbors=5, kind=\"borderline-2\",random_state=i),{}, RF),],\n",
    "                                   'NM1':[('NearMiss1', NearMiss(sampling_strategy=\"majority\", version=1),{}, RF),],\n",
    "                                   'RUS':[('RUS', RandomUnderSampler(sampling_strategy=\"majority\",replacement=False,random_state=i),{}, RF),],\n",
    "                                   'ROS':[('ROS',  RandomOverSampler(sampling_strategy=\"minority\",random_state=i),{}, RF),],\n",
    "                                   'cvsmote': [('cv_smote', SMOTE(sampling_strategy=\"minority\",random_state=i),{}, RF),],\n",
    "                                   'CTGAN':[('CTGAN', CtganSampler(epochs=10,generator_lr=2e-4,discriminator_lr=2e-4,random_state=i), {}, RF),],\n",
    "                                   'ForestDiff':[('ForestDiff', ForesDiffSampler(random_state=i), {}, RF),]}\n",
    "        list_oversampling_and_params = list_oversampling_dict_by_strat[strat]\n",
    "        \n",
    "        splitter_stratified = StratifiedKFold(n_splits=5,shuffle=True,random_state=100+i)\n",
    "        name_file = init_name_file + str(i) +'.npy'\n",
    "        run_eval(output_dir=output_dir,name_file=name_file,X=,y=, # FILL DATA\n",
    "                 list_oversampling_and_params=list_oversampling_and_params,\n",
    "                 splitter=splitter_stratified,to_standard_scale=True,\n",
    "                 to_use_pipeline=True,to_optimize_kneighbors=True,list_depth=list_depth ,scoring_grid='average_precision')"
   ]
  },
  {
   "cell_type": "code",
   "execution_count": null,
   "id": "9e3aeaa7-786d-4e48-b278-6d795ad889d0",
   "metadata": {},
   "outputs": [],
   "source": [
    "max_depth_dict_by_strat_phoneme_1 = {'none': 11,\n",
    "                           'smote':20,\n",
    "                           'MGS':19,\n",
    "                           'cweight':15,\n",
    "                           'BS1': 16,\n",
    "                           'BS2': 19,\n",
    "                           'NM1':6,\n",
    "                           'RUS':6,\n",
    "                           'ROS':17,\n",
    "                           'cvsmote':21,\n",
    "                            'CTGAN':21,'ForestDiff':20,\n",
    "                          }\n",
    "output_dir_path =  \"../saved_experiments/tuned_pr/lgbm/res_phoneme/subsample_to_1\" \n",
    "Path(output_dir_path).mkdir(parents=True, exist_ok=True)"
   ]
  },
  {
   "cell_type": "code",
   "execution_count": null,
   "id": "8d763a53-185a-46e8-be84-a96b047eb8f0",
   "metadata": {},
   "outputs": [],
   "source": [
    "max_depth_dict_by_strat_pima_20 = {'none': 12,\n",
    "                           'smote':15,\n",
    "                           'MGS':14,\n",
    "                           'cweight':13,\n",
    "                           'BS1': 15,\n",
    "                           'BS2': 15,\n",
    "                           'NM1':8,\n",
    "                           'RUS':8,\n",
    "                           'ROS':14,\n",
    "                           'cvsmote':15,\n",
    "                           'CTGAN':16,\n",
    "                           'ForestDiff':15,\n",
    "                          }\n",
    "output_dir_path =  \"../saved_experiments/tuned_pr/lgbm/res_pima/subsample_to_20\" \n",
    "Path(output_dir_path).mkdir(parents=True, exist_ok=True)"
   ]
  },
  {
   "cell_type": "code",
   "execution_count": null,
   "id": "2c167253-2254-46e4-b781-d60f8ae2b2cc",
   "metadata": {},
   "outputs": [],
   "source": [
    "max_depth_dict_by_strat_abalone = {#'none': 13,\n",
    "                           #'smote':22,\n",
    "                           #'MGS':22,\n",
    "                           #'cweight':18,\n",
    "                           #'BS1': 20,\n",
    "                           #'BS2': 21,\n",
    "                           #'NM1':7,\n",
    "                           #'RUS':7,\n",
    "                           #'ROS':18,\n",
    "                           'cvsmote':23,\n",
    "                            #'CTGAN':20,#'ForestDiff':20,\n",
    "                          }\n",
    "output_dir_path =  \"../saved_experiments/tuned_pr/lgbm/res_abalone/original\" \n",
    "Path(output_dir_path).mkdir(parents=True, exist_ok=True)"
   ]
  },
  {
   "cell_type": "code",
   "execution_count": null,
   "id": "978b2c5e-41a9-4777-bd29-3d17700fa323",
   "metadata": {},
   "outputs": [],
   "source": [
    "max_depth_dict_by_strat_yeast_1 = {#'none': 9,\n",
    "                           #'smote':14,\n",
    "                           #'MGS':10,\n",
    "                           #'cweight':11,\n",
    "                           #'BS1': 13,\n",
    "                           #'BS2': 15,\n",
    "                           #'NM1':5,\n",
    "                           #'RUS':4,\n",
    "                           #'ROS':13,\n",
    "                           'cvsmote':14,\n",
    "                            #'CTGAN':12,#'ForestDiff':14,\n",
    "                          }\n",
    "output_dir_path =  \"../saved_experiments/tuned_pr/lgbm/res_yeast/subsample_to_1\" \n",
    "Path(output_dir_path).mkdir(parents=True, exist_ok=True)"
   ]
  },
  {
   "cell_type": "code",
   "execution_count": null,
   "id": "aa23be0d-7dbf-4680-aa4c-fc66f4a9d98e",
   "metadata": {},
   "outputs": [],
   "source": [
    "max_depth_dict_by_strat_haberman_10 = {#'none': 10,\n",
    "                           #'smote':14,\n",
    "                           #'MGS':14,\n",
    "                           #'cweight':10,\n",
    "                           #'BS1': 13,\n",
    "                           #'BS2': 13,\n",
    "                           #'NM1':7,\n",
    "                           #'RUS':7,\n",
    "                           #'ROS':11,\n",
    "                           'cvsmote':13,\n",
    "                            #'CTGAN':13,#'ForestDiff':12,\n",
    "                          }\n",
    "output_dir_path =  \"../saved_experiments/tuned_pr/lgbm/res_haberman/subsample_to_10\" \n",
    "Path(output_dir_path).mkdir(parents=True, exist_ok=True)"
   ]
  },
  {
   "cell_type": "code",
   "execution_count": null,
   "id": "9b61ed27-0e2c-446d-a9b1-bbaff3f3ed54",
   "metadata": {},
   "outputs": [],
   "source": [
    "max_depth_dict_by_strat_wine = {#'none': 16,\n",
    "                           #'smote':25,\n",
    "                           #'MGS':23,\n",
    "                           #'cweight':24,\n",
    "                           #'BS1': 25,\n",
    "                           #'BS2': 26,\n",
    "                           #'NM1':14,\n",
    "                           #'RUS':10,\n",
    "                           #'ROS':24,\n",
    "                           'cvsmote':26,\n",
    "                            #'CTGAN':23,#'ForestDiff':25,\n",
    "                          }\n",
    "output_dir_path =  \"../saved_experiments/tuned_pr/lgbm/res_wine/original\" \n",
    "Path(output_dir_path).mkdir(parents=True, exist_ok=True)"
   ]
  },
  {
   "cell_type": "code",
   "execution_count": null,
   "id": "79106f7a-c40b-437c-bcad-a726aad6acd6",
   "metadata": {},
   "outputs": [],
   "source": [
    "max_depth_dict_by_strat_creditcard = {#'none': 18,\n",
    "                 #'smote': 29,\n",
    "                 #'MGS':36,\n",
    "                 #'cweight':20,\n",
    "                 #'BS1': 23,\n",
    "                 #'BS2':29,\n",
    "                 #'NM1':8,\n",
    "                 #'RUS':10,\n",
    "                 #'ROS':22,\n",
    "                 'cvsmote':29,\n",
    "                #'CTGAN':24,#'ForestDiff':25,\n",
    "                                     }\n",
    "output_dir_path =  \"../saved_experiments/tuned_pr/lgbm/res_credit/original\" \n",
    "Path(output_dir_path).mkdir(parents=True, exist_ok=True)"
   ]
  },
  {
   "cell_type": "code",
   "execution_count": null,
   "id": "dffefe27-d9b5-4dc5-9396-c3900315542c",
   "metadata": {},
   "outputs": [],
   "source": [
    "max_depth_dict_by_strat_magic_20 = {#'none':23,\n",
    "                           #'smote':30,\n",
    "                           #'MGS':26,\n",
    "                           #'cweight':29,\n",
    "                           #'BS1':31,\n",
    "                           #'BS2':33,\n",
    "                           #'NM1':21,\n",
    "                           #'RUS':20,\n",
    "                           #'ROS':29,\n",
    "                           'cvsmote':30,\n",
    "                            #'CTGAN':26,#'ForestDiff':30,\n",
    "                          }\n",
    "output_dir_path =  \"../saved_experiments/tuned_pr/lgbm/res_magic/subsample_to_20\" \n",
    "Path(output_dir_path).mkdir(parents=True, exist_ok=True)"
   ]
  },
  {
   "cell_type": "code",
   "execution_count": null,
   "id": "bebfdaae-18d0-49b6-967d-e9c52561feb9",
   "metadata": {},
   "outputs": [],
   "source": [
    "max_depth_dict_by_strat_california_1 = {##'none':17,\n",
    "                           #'smote':26,\n",
    "                           #'MGS':26,\n",
    "                           #'cweight':21,\n",
    "                           #'BS1':23,\n",
    "                           #'BS2':25,\n",
    "                           #'NM1':9,\n",
    "                           #'RUS':10,\n",
    "                           #'ROS':24,\n",
    "                           'cvsmote':27,\n",
    "                            #'CTGAN':30,#'ForestDiff':25,\n",
    "                          }\n",
    "output_dir_path =  \"../saved_experiments/tuned_pr/lgbm/res_california/subsample_to_1\" \n",
    "Path(output_dir_path).mkdir(parents=True, exist_ok=True)"
   ]
  },
  {
   "cell_type": "code",
   "execution_count": null,
   "id": "222f0a8c-7ea9-41dc-af0f-72e4df0f70c2",
   "metadata": {},
   "outputs": [],
   "source": [
    "max_depth_dict_by_strat_yeast_original = {\n",
    "    #'none': 21,\n",
    "    #'cweight': 16,\n",
    "    #'RUS': 11,\n",
    "    #'ROS': 15,\n",
    "    #'NM1': 13,\n",
    "    #'BS1': 17,\n",
    "    #'BS2': 18,\n",
    "    'cvsmote': 17,\n",
    "    #'smote': 17,\n",
    "    #'MGS': 16,\n",
    "    #'CTGAN': 16,\n",
    "    #'ForestDiff': 16\n",
    "}\n",
    "output_dir_path =  \"../saved_experiments/tuned_pr/res_yeast/original\" \n",
    "Path(output_dir_path).mkdir(parents=True, exist_ok=True)"
   ]
  },
  {
   "cell_type": "code",
   "execution_count": null,
   "id": "016c714a-dc04-4822-bba9-befd3116c9c7",
   "metadata": {},
   "outputs": [],
   "source": [
    "max_depth_dict_by_strat_phoneme_original={\n",
    "    #'none': 26,\n",
    "    #'cweight': 22,\n",
    "    #'RUS': 19,\n",
    "    #'ROS': 22,\n",
    "    #'NM1': 20,\n",
    "    'BS1': 23,\n",
    "    #'BS2': 24,\n",
    "    #'cvsmote': 23,\n",
    "    #'smote': 22,\n",
    "    #'MGS': 23,\n",
    "    #'CTGAN': 22,\n",
    "    #'ForestDiff': 22\n",
    "}\n",
    "output_dir_path =  \"../saved_experiments/tuned_pr/res_phoneme/original\" \n",
    "Path(output_dir_path).mkdir(parents=True, exist_ok=True)"
   ]
  },
  {
   "cell_type": "code",
   "execution_count": null,
   "id": "47c2a612-64ad-4252-9883-ea2620d4d399",
   "metadata": {},
   "outputs": [],
   "source": [
    "max_depth_dict_by_strat_phoneme_20= {\n",
    "    #'none': 25,\n",
    "    #'cweight': 21,\n",
    "    #'RUS': 18,\n",
    "    #'ROS': 21,\n",
    "    #'NM1': 19,\n",
    "    #'BS1': 22,\n",
    "    #'BS2': 23,\n",
    "    #'cvsmote': 23,\n",
    "    #'smote': 23,\n",
    "    #'MGS': 23,\n",
    "    #'CTGAN': 22,\n",
    "    'ForestDiff': 22\n",
    "}\n",
    "output_dir_path =  \"../saved_experiments/tuned_pr/res_phoneme/subsample_to_20\" \n",
    "Path(output_dir_path).mkdir(parents=True, exist_ok=True)"
   ]
  },
  {
   "cell_type": "code",
   "execution_count": null,
   "id": "cb1a5e90-6a2a-4a33-843e-3ca3897ffb76",
   "metadata": {},
   "outputs": [],
   "source": [
    "max_depth_dict_by_strat_phoneme_10= {\n",
    "    #'none': 24,\n",
    "    #'cweight': 21,\n",
    "    #'RUS': 16,\n",
    "    #'ROS': 20,\n",
    "    #'NM1': 18,\n",
    "    #'BS1': 22,\n",
    "    #'BS2': 23,\n",
    "    #'cvsmote': 22,\n",
    "    #'smote': 22,\n",
    "    #'MGS': 23,\n",
    "    #'CTGAN': 23,\n",
    "    'ForestDiff': 22\n",
    "}\n",
    "output_dir_path =  \"../saved_experiments/tuned_pr/res_phoneme/subsample_to_10\" \n",
    "Path(output_dir_path).mkdir(parents=True, exist_ok=True)"
   ]
  },
  {
   "cell_type": "code",
   "execution_count": null,
   "id": "bfc95aac-9787-40aa-b805-a84807091534",
   "metadata": {},
   "outputs": [],
   "source": [
    "max_depth_dict_by_strat_pima_original = {\n",
    "    #'none': 22,\n",
    "    #'cweight': 15,\n",
    "    #'RUS': 14,\n",
    "    #'ROS': 15,\n",
    "    #'NM1': 14,\n",
    "    #'BS1': 16,\n",
    "    #'BS2': 16,\n",
    "    #'cvsmote': 16,\n",
    "    #'smote': 15,\n",
    "    #'MGS': 15,\n",
    "    #'CTGAN': 16,\n",
    "    'ForestDiff': 16\n",
    "}\n",
    "output_dir_path =  \"../saved_experiments/tuned_pr/res_pima/original\" \n",
    "Path(output_dir_path).mkdir(parents=True, exist_ok=True)"
   ]
  },
  {
   "cell_type": "code",
   "execution_count": null,
   "id": "c81cef83-d61f-4a39-b4d8-391b653cca26",
   "metadata": {},
   "outputs": [],
   "source": [
    "max_depth_dict_by_strat_haberman_original= {\n",
    "    #'none': 20,\n",
    "    #'cweight': 13,\n",
    "    #'RUS': 12,\n",
    "    #'ROS': 13,\n",
    "    #'NM1': 12,\n",
    "    #'BS1': 13,\n",
    "    #'BS2': 14,\n",
    "    #'cvsmote': 14,\n",
    "    #'smote': 14,\n",
    "    #'MGS': 14,\n",
    "    #'CTGAN': 16,\n",
    "    'ForestDiff': 14  \n",
    "}\n",
    "output_dir_path =  \"../saved_experiments/tuned_pr/res_haberman/original\" \n",
    "Path(output_dir_path).mkdir(parents=True, exist_ok=True)"
   ]
  },
  {
   "cell_type": "code",
   "execution_count": null,
   "id": "75f16194-4124-400c-9319-4d5a63632c63",
   "metadata": {},
   "outputs": [],
   "source": [
    "max_depth_dict_by_strat_house_1= {\n",
    "    #'none': 23,\n",
    "    #'cweight': 25,\n",
    "    #'RUS': 13,\n",
    "    #'ROS': 25,\n",
    "    #'NM1': 15,\n",
    "    #'BS1': 27,\n",
    "    #'BS2': 30,\n",
    "    #'cvsmote': 30,\n",
    "    #'smote': 30,\n",
    "    #'MGS': 26,\n",
    "    #'CTGAN': 27,\n",
    "    'ForestDiff': 26\n",
    "}\n",
    "output_dir_path =  \"../saved_experiments/tuned_pr/res_house/original\" \n",
    "Path(output_dir_path).mkdir(parents=True, exist_ok=True)"
   ]
  },
  {
   "cell_type": "code",
   "execution_count": null,
   "id": "f4dd85b9-8031-4f5e-af00-ba1b6595b1fa",
   "metadata": {},
   "outputs": [],
   "source": [
    "max_depth_dict_by_strat_vehicle_original = {\n",
    "    #'none': 18,\n",
    "    #'cweight': 12,\n",
    "    #'RUS': 10,\n",
    "    #'ROS': 12,\n",
    "    #'NM1': 10,\n",
    "    #'BS1': 12,\n",
    "    #'BS2': 12,\n",
    "    #'cvsmote': 12,\n",
    "    #'smote': 12,\n",
    "    #'MGS': 12,\n",
    "    #'CTGAN': 12,\n",
    "    'ForestDiff': 12\n",
    "}\n",
    "output_dir_path =  \"../saved_experiments/tuned_pr/res_vehicle/original\" \n",
    "Path(output_dir_path).mkdir(parents=True, exist_ok=True)"
   ]
  },
  {
   "cell_type": "code",
   "execution_count": null,
   "id": "516ec90d-cf77-4aad-b0a6-be30f672f516",
   "metadata": {},
   "outputs": [],
   "source": [
    "max_depth_dict_by_strat_vehicle_10 = {\n",
    "    #'none': 17,\n",
    "    #'cweight': 11,\n",
    "    #'RUS': 8,\n",
    "    #'ROS': 11,\n",
    "    #'NM1': 8,\n",
    "    #'BS1': 11,\n",
    "    #'BS2': 13,\n",
    "    #'cvsmote': 12,\n",
    "    #'smote': 11,\n",
    "    #'MGS': 11,\n",
    "    #'CTGAN': 12,\n",
    "    'ForestDiff': 11\n",
    "\n",
    "}\n",
    "output_dir_path =  \"../saved_experiments/tuned_pr/res_vehicle/subsample_to_10\" \n",
    "Path(output_dir_path).mkdir(parents=True, exist_ok=True)"
   ]
  },
  {
   "cell_type": "code",
   "execution_count": null,
   "id": "f3436aad-8a2b-451a-b776-7ccd1e66f42d",
   "metadata": {},
   "outputs": [],
   "source": [
    "max_depth_dict_by_strat_bcw_original = {\n",
    "    #'none': 16,\n",
    "    #'cweight': 8,\n",
    "    #'RUS': 8,\n",
    "    #'ROS': 8,\n",
    "    #'NM1': 8,\n",
    "    #'BS1': 9,\n",
    "    #'BS2': 9,\n",
    "    'cvsmote': 8,\n",
    "    #'smote': 8,\n",
    "    #'MGS': 8,\n",
    "    #'CTGAN': 8,\n",
    "    #'ForestDiff': 8\n",
    "\n",
    "}\n",
    "output_dir_path =  \"../saved_experiments/tuned_pr/res_bcw/original\" \n",
    "Path(output_dir_path).mkdir(parents=True, exist_ok=True)"
   ]
  },
  {
   "cell_type": "code",
   "execution_count": null,
   "id": "0d05d394-4deb-42a9-8bc3-83a69f47844d",
   "metadata": {},
   "outputs": [],
   "source": [
    "max_depth_dict_by_strat_bcw_20 = {\n",
    "    #'none': 15,\n",
    "    #'cweight': 7,\n",
    "    #'RUS': 5,\n",
    "    #'ROS': 7,\n",
    "    #'NM1': 6,\n",
    "    #'BS1': 7,\n",
    "    #'BS2': 8,\n",
    "    'cvsmote': 7,\n",
    "    #'smote': 7,\n",
    "    #'MGS': 7,\n",
    "    #'CTGAN': 7,\n",
    "    #'ForestDiff': 7\n",
    "\n",
    "}\n",
    "output_dir_path =  \"../saved_experiments/tuned_pr/res_bcw/subsample_to_20\" \n",
    "Path(output_dir_path).mkdir(parents=True, exist_ok=True)"
   ]
  },
  {
   "cell_type": "code",
   "execution_count": null,
   "id": "92385d63-be07-4322-8054-3e2ec3f805fd",
   "metadata": {},
   "outputs": [],
   "source": [
    "max_depth_dict_by_strat_bcw_10 = {\n",
    "    #'none': 14,\n",
    "    #'cweight': 6,\n",
    "    #'RUS': 3,\n",
    "    #'ROS': 6,\n",
    "    #'NM1': 5,\n",
    "    #'BS1': 7,\n",
    "    #'BS2': 7,\n",
    "    'cvsmote': 6,\n",
    "    #'smote': 6,\n",
    "    #'MGS': 6,\n",
    "    #'CTGAN': 6,\n",
    "    #'ForestDiff': 7\n",
    "\n",
    "}\n",
    "output_dir_path =  \"../saved_experiments/tuned_pr/res_bcw/subsample_to_10\" \n",
    "Path(output_dir_path).mkdir(parents=True, exist_ok=True)"
   ]
  },
  {
   "cell_type": "code",
   "execution_count": null,
   "id": "5e0c6d69-0f45-49f9-b0a4-5da73a5438f4",
   "metadata": {},
   "outputs": [],
   "source": [
    "max_depth_dict_by_strat_ionosphere_original = {\n",
    "    #'none': 18,\n",
    "    #'cweight': 9,\n",
    "    #'RUS': 9,\n",
    "    #'ROS': 9,\n",
    "    #'NM1': 8,\n",
    "    #'BS1': 10,\n",
    "    #'BS2': 10,\n",
    "    'cvsmote': 10,\n",
    "    #'smote': 10,\n",
    "    #'MGS': 10,\n",
    "    #'CTGAN': 11,\n",
    "    #'ForestDiff': 10   \n",
    "}\n",
    "output_dir_path =  \"../saved_experiments/tuned_pr/res_ionosphere/original\" \n",
    "Path(output_dir_path).mkdir(parents=True, exist_ok=True)"
   ]
  },
  {
   "cell_type": "code",
   "execution_count": null,
   "id": "99ee3a6e-4b48-46ed-9968-df9d8d615d8e",
   "metadata": {},
   "outputs": [],
   "source": [
    "max_depth_dict_by_strat_ionosphere_20 = {\n",
    "    #'none': 15,\n",
    "    #'cweight': 6,\n",
    "    #'RUS': 5,\n",
    "    #'ROS': 7,\n",
    "    #'NM1': 5,\n",
    "    #'BS1': 7,\n",
    "    #'BS2': 7,\n",
    "    'cvsmote': 8,\n",
    "    #'smote': 8,\n",
    "    #'MGS': 8,\n",
    "    #'CTGAN': 8,\n",
    "    #'ForestDiff': 8\n",
    "    \n",
    "}\n",
    "output_dir_path =  \"../saved_experiments/tuned_pr/res_ionosphere/subsample_to_20\" \n",
    "Path(output_dir_path).mkdir(parents=True, exist_ok=True)"
   ]
  },
  {
   "cell_type": "code",
   "execution_count": null,
   "id": "028c0d1b-42de-4df1-a182-b9fb938f2c7a",
   "metadata": {},
   "outputs": [],
   "source": [
    "max_depth_dict_by_strat_ionosphere_10 = {\n",
    "    #'none': 14,\n",
    "    #'cweight': 5,\n",
    "    #'RUS': 4,\n",
    "    #'ROS': 5,\n",
    "    #NM1': 4,\n",
    "    #BS1': 6,\n",
    "    #'BS2': 6,\n",
    "    #'cvsmote': 7,\n",
    "    #'smote': 7,\n",
    "    #'MGS': 8,\n",
    "    #'CTGAN': 7,\n",
    "    'ForestDiff': 7\n",
    "    \n",
    "}\n",
    "output_dir_path =  \"../saved_experiments/tuned_pr/res_ionosphere/subsample_to_10\" \n",
    "Path(output_dir_path).mkdir(parents=True, exist_ok=True)"
   ]
  },
  {
   "cell_type": "code",
   "execution_count": null,
   "id": "8c075684-5515-4e72-9dc4-329a6ee0abc9",
   "metadata": {},
   "outputs": [],
   "source": [
    "max_depth_dict_by_strat_california_20 = {\n",
    "    #'none': 29,\n",
    "    #'cweight': 24,\n",
    "    #'RUS': 21,\n",
    "    #'ROS': 23,\n",
    "    #'NM1': 22,\n",
    "    #'BS1': 26,\n",
    "    #'BS2': 27,\n",
    "    'cvsmote': 25,\n",
    "    #'smote': 25,\n",
    "    #'MGS': 26,\n",
    "    #'CTGAN': 27,\n",
    "    #'ForestDiff': 26\n",
    "}\n",
    "output_dir_path =  \"../saved_experiments/tuned_pr/res_california/subsample_to_20\" \n",
    "Path(output_dir_path).mkdir(parents=True, exist_ok=True)"
   ]
  },
  {
   "cell_type": "code",
   "execution_count": null,
   "id": "15976426-6fc9-40da-8eae-633990e75602",
   "metadata": {},
   "outputs": [],
   "source": [
    "max_depth_dict_by_strat_california_10 = {\n",
    "    #'none': 28,\n",
    "    #'cweight': 24,\n",
    "    #'RUS': 19,\n",
    "    #'ROS': 23,\n",
    "    #'NM1': 20,\n",
    "    #'BS1': 25,\n",
    "    #'BS2': 27,\n",
    "    'cvsmote': 26,\n",
    "    #'smote': 25,\n",
    "    #'MGS': 26,\n",
    "    #'CTGAN': 29,\n",
    "    #'ForestDiff': 27\n",
    "}\n",
    "output_dir_path =  \"../saved_experiments/tuned_pr/res_california/subsample_to_10\" \n",
    "Path(output_dir_path).mkdir(parents=True, exist_ok=True)"
   ]
  },
  {
   "cell_type": "code",
   "execution_count": null,
   "id": "b7d2f451-a550-468c-bf51-98b63e3d3575",
   "metadata": {},
   "outputs": [],
   "source": [
    "max_depth_dict_by_strat_house_20 = {\n",
    "    #'none': 28,\n",
    "    #'cweight': 26,\n",
    "    #'RUS': 22,\n",
    "    #'ROS': 24,\n",
    "    #'NM1': 24,\n",
    "    #'BS1': 27,\n",
    "    #'BS2': 28,\n",
    "    'cvsmote': 27,\n",
    "    #'smote': 26,\n",
    "    #'MGS': 26,\n",
    "    #'CTGAN': 28,\n",
    "    #'ForestDiff': 26\n",
    "}\n",
    "output_dir_path =  \"../saved_experiments/tuned_pr/res_house/subsample_to_20\" \n",
    "Path(output_dir_path).mkdir(parents=True, exist_ok=True)"
   ]
  },
  {
   "cell_type": "code",
   "execution_count": null,
   "id": "fd813c97-d9be-4773-b1c3-98f48762e283",
   "metadata": {},
   "outputs": [],
   "source": [
    "max_depth_dict_by_strat_house_10 = {\n",
    "    'none': 28,\n",
    "    'cweight': 27,\n",
    "    'RUS': 19,\n",
    "    'ROS': 25,\n",
    "    'NM1': 23,\n",
    "    'BS1': 27,\n",
    "    'BS2': 28,\n",
    "    'cvsmote': 28,\n",
    "    'smote': 27,\n",
    "    'MGS': 26,\n",
    "    'CTGAN': 28,\n",
    "    'ForestDiff': 27\n",
    "}\n",
    "output_dir_path =  \"../saved_experiments/tuned_pr/res_house/subsample_to_10\" \n",
    "Path(output_dir_path).mkdir(parents=True, exist_ok=True)"
   ]
  },
  {
   "cell_type": "code",
   "execution_count": null,
   "id": "0f9ec08c-b046-4840-965b-63612e38701d",
   "metadata": {},
   "outputs": [],
   "source": [
    "max_depth_dict_by_strat_house_1 = {\n",
    "    'none': 23,\n",
    "    'cweight': 25,\n",
    "    'RUS': 13,\n",
    "    'ROS': 25,\n",
    "    'NM1': 15,\n",
    "    'BS1': 27,\n",
    "    'BS2': 30,\n",
    "    'cvsmote': 30,\n",
    "    'smote': 30,\n",
    "    'MGS': 26,\n",
    "    'CTGAN': 27,\n",
    "    'ForestDiff': 26\n",
    "}\n",
    "output_dir_path =  \"../saved_experiments_2025_v2/tuned_pr/res_house/subsample_to_1\" \n",
    "Path(output_dir_path).mkdir(parents=True, exist_ok=True)"
   ]
  },
  {
   "cell_type": "markdown",
   "id": "cffa5f41",
   "metadata": {},
   "source": [
    "<center><h1  style=\"color:white; background-color:#008b96; border-radius: 10px; padding:15px;\"> END </h1></center>"
   ]
  }
 ],
 "metadata": {
  "kernelspec": {
   "display_name": "Python 3 (ipykernel)",
   "language": "python",
   "name": "python3"
  },
  "language_info": {
   "codemirror_mode": {
    "name": "ipython",
    "version": 3
   },
   "file_extension": ".py",
   "mimetype": "text/x-python",
   "name": "python",
   "nbconvert_exporter": "python",
   "pygments_lexer": "ipython3",
   "version": "3.11.9"
  }
 },
 "nbformat": 4,
 "nbformat_minor": 5
}

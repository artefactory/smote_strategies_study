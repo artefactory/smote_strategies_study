{
 "cells": [
  {
   "cell_type": "markdown",
   "id": "4bcbdbe8",
   "metadata": {},
   "source": [
    "<center><h1  style=\"color:white; background-color:#000000; border-radius: 0px; padding:25px;\"> Doc MGS and CV SMOTE </h1></center>"
   ]
  },
  {
   "cell_type": "markdown",
   "id": "d09436ed",
   "metadata": {},
   "source": [
    "This notebook documents the research center's work on two strategies for rebalancing unbalanced datasets:  Multivariate Gaussian SMOTE (MGS) et CV SMOTE. For this example we load a toy data set from sk-learn."
   ]
  },
  {
   "cell_type": "code",
   "execution_count": null,
   "id": "3a363c4f",
   "metadata": {},
   "outputs": [],
   "source": [
    "import sys\n",
    "sys.path.insert(1, '/home/abdoulaye_sakho/S1/th_smote/smote_strategies_study')"
   ]
  },
  {
   "cell_type": "markdown",
   "id": "7b45c9f9",
   "metadata": {},
   "source": [
    "## Load data:"
   ]
  },
  {
   "cell_type": "code",
   "execution_count": null,
   "id": "0fdcb414",
   "metadata": {},
   "outputs": [],
   "source": [
    "from sklearn.datasets import make_classification\n",
    "from collections import Counter\n",
    "X, y = make_classification(n_classes=2, class_sep=2,\n",
    "                           weights=[0.9, 0.1], n_informative=3, n_redundant=1,\n",
    "                           flip_y=0,n_features=20, n_clusters_per_class=1,\n",
    "                           n_samples=1000, random_state=10)\n",
    "print('Original dataset shape %s' % Counter(y))"
   ]
  },
  {
   "cell_type": "markdown",
   "id": "bfa33e70",
   "metadata": {},
   "source": [
    "<center><h1  style=\"color:white; background-color:#808b96; border-radius: 10px; padding:15px;\"> MGS </h1></center>"
   ]
  },
  {
   "cell_type": "markdown",
   "id": "1c05fad8",
   "metadata": {},
   "source": [
    "## Resampling:"
   ]
  },
  {
   "cell_type": "code",
   "execution_count": null,
   "id": "ff3feed5",
   "metadata": {},
   "outputs": [],
   "source": [
    "from models.models import MGS\n",
    "mg = MGS(n_points=5,K=5,llambda=1.0)\n",
    "X_res, y_res = mg.fit_resample(X, y)\n",
    "print('Resampled dataset shape %s' % Counter(y_res))"
   ]
  },
  {
   "cell_type": "markdown",
   "id": "13f52b9b",
   "metadata": {},
   "source": [
    "## Classification:"
   ]
  },
  {
   "cell_type": "code",
   "execution_count": null,
   "id": "a6a735d6",
   "metadata": {},
   "outputs": [],
   "source": [
    "from sklearn.model_selection import train_test_split\n",
    "from sklearn.ensemble import RandomForestClassifier\n",
    "from sklearn.metrics import roc_auc_score\n",
    "X_train, X_test, y_train, y_test = train_test_split(X, y, test_size=0.20,\n",
    "                                                    random_state=0)\n",
    "clf = RandomForestClassifier(random_state=0)\n",
    "mg = MGS(n_points=5,K=5,llambda=1.0)\n",
    "X_res, y_res = mg.fit_resample(X_train, y_train)\n",
    "clf.fit(X_res, y_res)\n",
    "\n",
    "print('ROC AUC : ',roc_auc_score(y_test, clf.predict_proba(X_test)[:, 1]))"
   ]
  },
  {
   "cell_type": "markdown",
   "id": "7b7ef149",
   "metadata": {},
   "source": [
    "<center><h1  style=\"color:white; background-color:#808b96; border-radius: 10px; padding:15px;\"> CV SMOTE </h1></center>"
   ]
  },
  {
   "cell_type": "markdown",
   "id": "4da0692c",
   "metadata": {},
   "source": [
    "## Classification:"
   ]
  },
  {
   "cell_type": "code",
   "execution_count": null,
   "id": "337bc4b5",
   "metadata": {},
   "outputs": [],
   "source": [
    "from sklearn.model_selection import train_test_split\n",
    "from sklearn.ensemble import RandomForestClassifier\n",
    "from sklearn.metrics import roc_auc_score\n",
    "from sklearn.model_selection import StratifiedKFold\n",
    "from models.models import CVSmoteModel\n",
    "X_train, X_test, y_train, y_test = train_test_split(X, y, test_size=0.20,\n",
    "                                                    random_state=0)\n",
    "\n",
    "CVSmoteRF = CVSmoteModel(splitter=StratifiedKFold(n_splits=5),\n",
    "                              model=RandomForestClassifier(random_state=0),\n",
    "                              arange_max=15,arange_step=1)\n",
    "CVSmoteRF.fit(X_train, y_train)\n",
    "\n",
    "print('ROC AUC : ',roc_auc_score(y_test, CVSmoteRF.predict_proba(X_test)[:, 1]))"
   ]
  }
 ],
 "metadata": {
  "kernelspec": {
   "display_name": "Python 3 (ipykernel)",
   "language": "python",
   "name": "python3"
  },
  "language_info": {
   "codemirror_mode": {
    "name": "ipython",
    "version": 3
   },
   "file_extension": ".py",
   "mimetype": "text/x-python",
   "name": "python",
   "nbconvert_exporter": "python",
   "pygments_lexer": "ipython3",
   "version": "3.11.3"
  }
 },
 "nbformat": 4,
 "nbformat_minor": 5
}
